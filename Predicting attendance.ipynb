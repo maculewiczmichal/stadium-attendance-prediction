{
 "cells": [
  {
   "cell_type": "markdown",
   "metadata": {},
   "source": [
    "# Predicting attendance on football matches in Poland\n",
    "\n",
    "Notebook my Michal Maculewicz\n",
    "\n",
    "### Table of contents:\n",
    "**[1. Introduction](#intro)**  \n",
    "**[2. Required libraries](#lib)**  \n",
    "**[3. Data collection](#collect)**\n",
    "* [3.1. Attendance and match results](#90min)\n",
    "* [3.2. League tables](#transfermarkt)    \n",
    "* [3.3. Stadiums' information](#wiki)  \n",
    "\n",
    "**[4. Data preprocessing](#preproc)**  \n",
    "* [4.1. Attendance and match results](#results)\n",
    "* [4.2. League tables](#Table)\n",
    "* [4.3. Stadiums' information](#stadium)\n",
    "* [4.4. Feature extraction](#feature)  \n",
    "* [4.5. Add weather data](#weather)\n",
    "* [4.6. Missing values, outliers, encoding](#preparation)\n",
    "\n",
    "**[5. Learning model](#model)**\n",
    "* [5.1. Training the model](#train)\n",
    "* [5.2. Plots creation](#plots)\n",
    "\n",
    "**[6. Analysis](#res)** \n"
   ]
  },
  {
   "cell_type": "markdown",
   "metadata": {},
   "source": [
    "## Introduction <a class=\"anchor\" id=\"intro\"></a>\n",
    "\n",
    "The idea behind this project is to build a **machine learning model** that would predict the number of attendees of polish ***Ekstraklasa*** (1st division) foootball matches as accurately as possible. It is important to mention, that unlike in *Bundesliga* or *Premier League*, polish stadiums are rarely completely filled. This in turn, creates the possibility to invstigate what lures people into buying tickets and what discourages them from doing so. The considered timespan begins with the start of 2013/14 season, when there was a major change in the league structure (final rounds were introduced and number of matches has increased) and ends with the Coronavirus outbreak in February 2020. This is an **end-to-end** project, that includes **data gathering** through web-scraping and external API, **data cleaning, transforming** and **modelling**. In result, a **Lasso Regression** model with a mean absolute error of under 2,500 has been developed. This means, that the **error got halved** over the method  of guessing using the mean value.\n"
   ]
  },
  {
   "cell_type": "markdown",
   "metadata": {},
   "source": [
    "<br>\n",
    "\n",
    "## Required libraries <a class=\"anchor\" id=\"lib\"></a>\n",
    "\n",
    "Full list of libraries used in this project:\n",
    "- pandas\n",
    "- numpy\n",
    "- requests\n",
    "- Beautifulsoup\n",
    "- re\n",
    "- tqdm\n",
    "- seaborn\n",
    "- matplotlib\n",
    "- sklearn\n",
    "- pandasql\n",
    "- datetime\n",
    "- trans\n",
    "- wwo_hist\n",
    "\n",
    "Let's import them all at once and set some options."
   ]
  },
  {
   "cell_type": "code",
   "execution_count": 1,
   "metadata": {},
   "outputs": [
    {
     "data": {
      "text/html": [
       "<style>.container { width:90% !important; }</style>"
      ],
      "text/plain": [
       "<IPython.core.display.HTML object>"
      ]
     },
     "metadata": {},
     "output_type": "display_data"
    }
   ],
   "source": [
    "import pandas as pd\n",
    "import numpy as np\n",
    "import re\n",
    "from tqdm.notebook import tqdm\n",
    "import requests\n",
    "from bs4 import BeautifulSoup\n",
    "import datetime\n",
    "from trans import trans\n",
    "from wwo_hist import retrieve_hist_data\n",
    "import matplotlib.pyplot as plt\n",
    "import matplotlib.ticker as mtick\n",
    "%matplotlib inline\n",
    "\n",
    "from sklearn.linear_model import Lasso, LinearRegression\n",
    "from sklearn.metrics import mean_absolute_error as MAE\n",
    "from sklearn.metrics import mean_squared_error as MSE\n",
    "from sklearn.model_selection import KFold\n",
    "from sklearn.preprocessing import MinMaxScaler\n",
    "\n",
    "from pandasql import sqldf\n",
    "pysqldf = lambda q: sqldf(q, globals())\n",
    "\n",
    "from IPython.core.display import display, HTML\n",
    "display(HTML(\"<style>.container { width:90% !important; }</style>\"))\n",
    "pd.options.display.float_format = '{:,.4f}'.format\n",
    "pd.set_option('display.max_rows', 100)\n",
    "\n",
    "import warnings\n",
    "warnings.filterwarnings('ignore')"
   ]
  },
  {
   "cell_type": "markdown",
   "metadata": {},
   "source": [
    "<br>\n",
    "\n",
    "## Data collection <a class=\"anchor\" id=\"collect\"></a>\n",
    "\n",
    "In this section of the notebook data required in the project will be collected using web-scraping."
   ]
  },
  {
   "cell_type": "markdown",
   "metadata": {},
   "source": [
    "### Attendance and match results <a class=\"anchor\" id=\"90min\"></a>\n",
    "\n",
    "Here, data on the attendance on each of the matches considered in the project, as well as the results of those games is obtained. We'll web-scrape one of the most popular polish football-related sites - **[90minut.pl](http://www.90minut.pl)**.  \n",
    "  \n",
    "Let's start with specifying the URLs for the seasons included in the project (13/14 - 19/20). It has to be done manualy as the URLs do not follow any pattern:"
   ]
  },
  {
   "cell_type": "code",
   "execution_count": 2,
   "metadata": {},
   "outputs": [],
   "source": [
    "URL = ['http://www.90minut.pl/liga/1/liga10549.html',\n",
    "       'http://www.90minut.pl/liga/0/liga9937.html',\n",
    "       'http://www.90minut.pl/liga/0/liga9322.html',\n",
    "       'http://www.90minut.pl/liga/0/liga8694.html',\n",
    "       'http://www.90minut.pl/liga/0/liga8069.html',\n",
    "       'http://www.90minut.pl/liga/0/liga7466.html',\n",
    "       'http://www.90minut.pl/liga/0/liga6826.html'\n",
    "      ]"
   ]
  },
  {
   "cell_type": "markdown",
   "metadata": {},
   "source": [
    "<br>\n",
    "Next code block iterates through URLs/seasons, scrapes them and creates a DataFrame containing all data.\n",
    "<br>\n",
    "<br>"
   ]
  },
  {
   "cell_type": "code",
   "execution_count": 3,
   "metadata": {},
   "outputs": [
    {
     "data": {
      "application/vnd.jupyter.widget-view+json": {
       "model_id": "78f19a9baefc45a5b77c602d1758ca85",
       "version_major": 2,
       "version_minor": 0
      },
      "text/plain": [
       "HBox(children=(FloatProgress(value=0.0, max=7.0), HTML(value='')))"
      ]
     },
     "metadata": {},
     "output_type": "display_data"
    },
    {
     "name": "stdout",
     "output_type": "stream",
     "text": [
      "\n"
     ]
    }
   ],
   "source": [
    "results = pd.DataFrame()\n",
    "\n",
    "for idx,url in enumerate(tqdm(URL)):\n",
    "    \n",
    "    #Create the Soup and select desired tables\n",
    "\n",
    "    response = requests.get(url)\n",
    "    soup = BeautifulSoup(response.text, 'lxml')\n",
    "    tab = soup.find_all(\"table\", attrs={\"class\": \"main\"})\n",
    "    tab1 = soup.find_all('table', attrs={'class': 'main2'})\n",
    "    \n",
    "    \n",
    "    # Extract the data from HTML tables and store them in DataFrame.\n",
    "\n",
    "    for i in range(0, 73, 2):\n",
    "        tab_rows = tab[i+1].find_all('tr')\n",
    "\n",
    "        l = []\n",
    "        for tr in tab_rows:\n",
    "            td = tr.find_all('td')\n",
    "            row = [j.text for j in td]\n",
    "            l.append(row)\n",
    "            \n",
    "        df = pd.DataFrame(l)\n",
    "        \n",
    "\n",
    "        # Remove redundant rows (those with 'None' in last column which is attendance).\n",
    "        # Extract and add to df a round ID.\n",
    "        # Combine dfs into single object.\n",
    "\n",
    "        res = df[~df[3].isnull()]\n",
    "        res = res.reset_index(drop=True)\n",
    "        res['round'] = re.findall(r'\\d+', tab[i].tr.td.b.u.text)[0]\n",
    "\n",
    "        if i == 0:\n",
    "            result = res\n",
    "        else:\n",
    "            result = result.append(res, ignore_index=True)\n",
    "            \n",
    "\n",
    "    # Extract and add season ID to df.\n",
    "    # Combine separate dfs into single DataFrame - results       \n",
    "    \n",
    "    result['season'] = tab1[0].tr.td.b.text\n",
    "    \n",
    "    results = results.append(result, ignore_index=True)"
   ]
  },
  {
   "cell_type": "code",
   "execution_count": 4,
   "metadata": {},
   "outputs": [
    {
     "data": {
      "text/html": [
       "<div>\n",
       "<style scoped>\n",
       "    .dataframe tbody tr th:only-of-type {\n",
       "        vertical-align: middle;\n",
       "    }\n",
       "\n",
       "    .dataframe tbody tr th {\n",
       "        vertical-align: top;\n",
       "    }\n",
       "\n",
       "    .dataframe thead th {\n",
       "        text-align: right;\n",
       "    }\n",
       "</style>\n",
       "<table border=\"1\" class=\"dataframe\">\n",
       "  <thead>\n",
       "    <tr style=\"text-align: right;\">\n",
       "      <th></th>\n",
       "      <th>0</th>\n",
       "      <th>1</th>\n",
       "      <th>2</th>\n",
       "      <th>3</th>\n",
       "      <th>round</th>\n",
       "      <th>season</th>\n",
       "    </tr>\n",
       "  </thead>\n",
       "  <tbody>\n",
       "    <tr>\n",
       "      <th>0</th>\n",
       "      <td>Arka Gdynia</td>\n",
       "      <td>0-3\\n</td>\n",
       "      <td>Jagiellonia Białystok</td>\n",
       "      <td>19 lipca, 18:00 (10 101)</td>\n",
       "      <td>1</td>\n",
       "      <td>PKO Ekstraklasa 2019/2020</td>\n",
       "    </tr>\n",
       "    <tr>\n",
       "      <th>1</th>\n",
       "      <td>Legia Warszawa</td>\n",
       "      <td>1-2\\n</td>\n",
       "      <td>Pogoń Szczecin</td>\n",
       "      <td>21 lipca, 17:30 (13 285)</td>\n",
       "      <td>1</td>\n",
       "      <td>PKO Ekstraklasa 2019/2020</td>\n",
       "    </tr>\n",
       "    <tr>\n",
       "      <th>2</th>\n",
       "      <td>ŁKS Łódź</td>\n",
       "      <td>0-0\\n</td>\n",
       "      <td>Lechia Gdańsk</td>\n",
       "      <td>19 lipca, 20:30 (5452)</td>\n",
       "      <td>1</td>\n",
       "      <td>PKO Ekstraklasa 2019/2020</td>\n",
       "    </tr>\n",
       "    <tr>\n",
       "      <th>3</th>\n",
       "      <td>Piast Gliwice</td>\n",
       "      <td>1-1\\n</td>\n",
       "      <td>Lech Poznań</td>\n",
       "      <td>20 lipca, 20:00 (4698)</td>\n",
       "      <td>1</td>\n",
       "      <td>PKO Ekstraklasa 2019/2020</td>\n",
       "    </tr>\n",
       "    <tr>\n",
       "      <th>4</th>\n",
       "      <td>Raków Częstochowa</td>\n",
       "      <td>0-1\\n</td>\n",
       "      <td>Korona Kielce</td>\n",
       "      <td>20 lipca, 15:00 (3365)</td>\n",
       "      <td>1</td>\n",
       "      <td>PKO Ekstraklasa 2019/2020</td>\n",
       "    </tr>\n",
       "  </tbody>\n",
       "</table>\n",
       "</div>"
      ],
      "text/plain": [
       "                       0      1                          2  \\\n",
       "0          Arka Gdynia    0-3\\n    Jagiellonia Białystok     \n",
       "1       Legia Warszawa    1-2\\n           Pogoń Szczecin     \n",
       "2             ŁKS Łódź    0-0\\n            Lechia Gdańsk     \n",
       "3        Piast Gliwice    1-1\\n              Lech Poznań     \n",
       "4    Raków Częstochowa    0-1\\n            Korona Kielce     \n",
       "\n",
       "                          3 round                     season  \n",
       "0  19 lipca, 18:00 (10 101)     1  PKO Ekstraklasa 2019/2020  \n",
       "1  21 lipca, 17:30 (13 285)     1  PKO Ekstraklasa 2019/2020  \n",
       "2    19 lipca, 20:30 (5452)     1  PKO Ekstraklasa 2019/2020  \n",
       "3    20 lipca, 20:00 (4698)     1  PKO Ekstraklasa 2019/2020  \n",
       "4    20 lipca, 15:00 (3365)     1  PKO Ekstraklasa 2019/2020  "
      ]
     },
     "execution_count": 4,
     "metadata": {},
     "output_type": "execute_result"
    }
   ],
   "source": [
    "results.head()"
   ]
  },
  {
   "cell_type": "code",
   "execution_count": 5,
   "metadata": {},
   "outputs": [],
   "source": [
    "results.to_pickle('data/results_dirty.pkl')"
   ]
  },
  {
   "cell_type": "markdown",
   "metadata": {},
   "source": [
    "<br>\n",
    "\n",
    "### League tables <a class=\"anchor\" id=\"transfermarkt\"></a>\n",
    "\n",
    "Another piece of information important in this project are the teams' past performances prior to each of the matches. For this reason we need complete league tables after each round/matchday. Website that allows to browse such tables relatively easily is worldwidely known **[transfermarkt.com](https://www.transfermarkt.com)**.\n",
    "\n",
    "First thing to do is to obtain the table headers indicating what the columns represent."
   ]
  },
  {
   "cell_type": "code",
   "execution_count": 6,
   "metadata": {},
   "outputs": [
    {
     "name": "stdout",
     "output_type": "stream",
     "text": [
      "['#', 'Club', 'games', 'W', 'D', 'L', 'Goals', '+/-', 'Pts']\n"
     ]
    }
   ],
   "source": [
    "URL = 'https://www.transfermarkt.com/ekstraklasa/formtabelle/wettbewerb/PL1?saison_id=2018&min=1&max=1'\n",
    "headers = {\"User-Agent\":\"Mozilla/5.0\"}\n",
    "response = requests.get(URL, headers=headers)\n",
    "soup = BeautifulSoup(response.text, 'lxml')\n",
    "\n",
    "tab = soup.find_all(\"div\", attrs={\"class\": \"responsive-table\"})\n",
    "tab_header = tab[0].table.thead.tr.find_all('th')\n",
    "header = [i.text for i in tab_header]\n",
    "header[2] = 'games'\n",
    "header = header[:9]\n",
    "print(header)"
   ]
  },
  {
   "cell_type": "markdown",
   "metadata": {},
   "source": [
    "<br>\n",
    "Next code block iterates through URLs/seasons and 37 rounds within each of them, scrapes the data and creates a DataFrame containing all information.\n",
    "<br>\n",
    "<br>"
   ]
  },
  {
   "cell_type": "code",
   "execution_count": 7,
   "metadata": {},
   "outputs": [
    {
     "data": {
      "application/vnd.jupyter.widget-view+json": {
       "model_id": "1a3ab41b059a4e04840ddad210a7e011",
       "version_major": 2,
       "version_minor": 0
      },
      "text/plain": [
       "HBox(children=(FloatProgress(value=0.0, max=7.0), HTML(value='')))"
      ]
     },
     "metadata": {},
     "output_type": "display_data"
    },
    {
     "data": {
      "application/vnd.jupyter.widget-view+json": {
       "model_id": "d8941179df004f0281e00f606a3a2ee1",
       "version_major": 2,
       "version_minor": 0
      },
      "text/plain": [
       "HBox(children=(FloatProgress(value=0.0, max=37.0), HTML(value='')))"
      ]
     },
     "metadata": {},
     "output_type": "display_data"
    },
    {
     "name": "stdout",
     "output_type": "stream",
     "text": [
      "\n"
     ]
    },
    {
     "data": {
      "application/vnd.jupyter.widget-view+json": {
       "model_id": "0b58086386794daeae14da3ba2a07c99",
       "version_major": 2,
       "version_minor": 0
      },
      "text/plain": [
       "HBox(children=(FloatProgress(value=0.0, max=37.0), HTML(value='')))"
      ]
     },
     "metadata": {},
     "output_type": "display_data"
    },
    {
     "name": "stdout",
     "output_type": "stream",
     "text": [
      "\n"
     ]
    },
    {
     "data": {
      "application/vnd.jupyter.widget-view+json": {
       "model_id": "b820e7e9d5f44290bf06ca952c231e3d",
       "version_major": 2,
       "version_minor": 0
      },
      "text/plain": [
       "HBox(children=(FloatProgress(value=0.0, max=37.0), HTML(value='')))"
      ]
     },
     "metadata": {},
     "output_type": "display_data"
    },
    {
     "name": "stdout",
     "output_type": "stream",
     "text": [
      "\n"
     ]
    },
    {
     "data": {
      "application/vnd.jupyter.widget-view+json": {
       "model_id": "0826a28875f843e1b304c934192122e6",
       "version_major": 2,
       "version_minor": 0
      },
      "text/plain": [
       "HBox(children=(FloatProgress(value=0.0, max=37.0), HTML(value='')))"
      ]
     },
     "metadata": {},
     "output_type": "display_data"
    },
    {
     "name": "stdout",
     "output_type": "stream",
     "text": [
      "\n"
     ]
    },
    {
     "data": {
      "application/vnd.jupyter.widget-view+json": {
       "model_id": "de5d7d2b42d944ee85319bd111125565",
       "version_major": 2,
       "version_minor": 0
      },
      "text/plain": [
       "HBox(children=(FloatProgress(value=0.0, max=37.0), HTML(value='')))"
      ]
     },
     "metadata": {},
     "output_type": "display_data"
    },
    {
     "name": "stdout",
     "output_type": "stream",
     "text": [
      "\n"
     ]
    },
    {
     "data": {
      "application/vnd.jupyter.widget-view+json": {
       "model_id": "06b99ce4e6af473e9bbf2052dfbdcb51",
       "version_major": 2,
       "version_minor": 0
      },
      "text/plain": [
       "HBox(children=(FloatProgress(value=0.0, max=37.0), HTML(value='')))"
      ]
     },
     "metadata": {},
     "output_type": "display_data"
    },
    {
     "name": "stdout",
     "output_type": "stream",
     "text": [
      "\n"
     ]
    },
    {
     "data": {
      "application/vnd.jupyter.widget-view+json": {
       "model_id": "66d3c8d70f2e41c1969e1c7b07865db6",
       "version_major": 2,
       "version_minor": 0
      },
      "text/plain": [
       "HBox(children=(FloatProgress(value=0.0, max=37.0), HTML(value='')))"
      ]
     },
     "metadata": {},
     "output_type": "display_data"
    },
    {
     "name": "stdout",
     "output_type": "stream",
     "text": [
      "\n",
      "\n"
     ]
    }
   ],
   "source": [
    "table = pd.DataFrame()\n",
    "\n",
    "for idx, season in enumerate(tqdm(range(2013, 2020))):    \n",
    "    \n",
    "    for i in tqdm(range(1, 38)):\n",
    "        \n",
    "        #Create the Soup and select desired tables \n",
    "        \n",
    "        URL = 'https://www.transfermarkt.pl/ekstraklasa/formtabelle/wettbewerb/PL1?saison_id='+str(season)+'&min=1&max='+str(i)\n",
    "        response = requests.get(URL, headers=headers)\n",
    "        soup = BeautifulSoup(response.text, 'lxml')\n",
    "        tab = soup.find_all(\"div\", attrs={\"class\": \"responsive-table\"})\n",
    "        \n",
    "        # Extract the data from HTML tables and store them in DataFrame.\n",
    "        \n",
    "        tab_rows = tab[0].table.tbody.find_all('tr')\n",
    "\n",
    "        l = []\n",
    "        for tr in tab_rows:\n",
    "            td = tr.find_all('td')\n",
    "            row = [j.text for j in td]\n",
    "            l.append(row)\n",
    "\n",
    "        df = pd.DataFrame(l)\n",
    "        \n",
    "        # Number of columns is not equal for all of the tables as some have an addtitional column indicating form which is\n",
    "        # of no use at the moment. Similarly we don't need the second col which is empty. Let's remove the redundant ones.\n",
    "\n",
    "        if len(df.columns) > 10:\n",
    "            df = df.drop([1, 10], axis=1)\n",
    "        else:\n",
    "            df = df.drop([1], axis=1)\n",
    "\n",
    "        df.columns = header\n",
    "    \n",
    "        # Tables are divided into two parts (places 1-8 and 9-16) on the website what makes them two separate tables, \n",
    "        # so the next step is similar to the one above.\n",
    "    \n",
    "        tab_rows = tab[1].table.tbody.find_all('tr')\n",
    "\n",
    "        l = []\n",
    "        for tr in tab_rows:\n",
    "            td = tr.find_all('td')\n",
    "            row = [j.text for j in td]\n",
    "            l.append(row)\n",
    "\n",
    "        df1 = pd.DataFrame(l)\n",
    "\n",
    "        if len(df1.columns) > 10:\n",
    "            df1 = df1.drop([1, 10], axis=1)\n",
    "        else:\n",
    "            df1 = df1.drop([1], axis=1)\n",
    "\n",
    "        df1.columns = header\n",
    "    \n",
    "        # Combine two tables, apply the correct order, add round ID and append to previously created.\n",
    "    \n",
    "        df = df.append(df1, ignore_index=True)\n",
    "        df = df.sort_values(['Pts', '+/-'], ascending=False)\n",
    "        df['#'] = range(1, 17)\n",
    "        df['round'] = i\n",
    "\n",
    "        if i == 1:\n",
    "            tabl = df\n",
    "        else:\n",
    "            tabl = tabl.append(df, ignore_index=True)\n",
    "   \n",
    "    # Add season ID and merge into one DataFrame - table\n",
    "\n",
    "    tabl['season'] = str(season)+'/'+str(season+1)\n",
    "\n",
    "    table = table.append(tabl, ignore_index=True)"
   ]
  },
  {
   "cell_type": "code",
   "execution_count": 8,
   "metadata": {},
   "outputs": [
    {
     "data": {
      "text/html": [
       "<div>\n",
       "<style scoped>\n",
       "    .dataframe tbody tr th:only-of-type {\n",
       "        vertical-align: middle;\n",
       "    }\n",
       "\n",
       "    .dataframe tbody tr th {\n",
       "        vertical-align: top;\n",
       "    }\n",
       "\n",
       "    .dataframe thead th {\n",
       "        text-align: right;\n",
       "    }\n",
       "</style>\n",
       "<table border=\"1\" class=\"dataframe\">\n",
       "  <thead>\n",
       "    <tr style=\"text-align: right;\">\n",
       "      <th></th>\n",
       "      <th>#</th>\n",
       "      <th>Club</th>\n",
       "      <th>games</th>\n",
       "      <th>W</th>\n",
       "      <th>D</th>\n",
       "      <th>L</th>\n",
       "      <th>Goals</th>\n",
       "      <th>+/-</th>\n",
       "      <th>Pts</th>\n",
       "      <th>round</th>\n",
       "      <th>season</th>\n",
       "    </tr>\n",
       "  </thead>\n",
       "  <tbody>\n",
       "    <tr>\n",
       "      <th>0</th>\n",
       "      <td>1</td>\n",
       "      <td>\\nLegia Warszawa</td>\n",
       "      <td>1</td>\n",
       "      <td>1</td>\n",
       "      <td>0</td>\n",
       "      <td>0</td>\n",
       "      <td>5:1</td>\n",
       "      <td>4</td>\n",
       "      <td>3</td>\n",
       "      <td>1</td>\n",
       "      <td>2013/2014</td>\n",
       "    </tr>\n",
       "    <tr>\n",
       "      <th>1</th>\n",
       "      <td>2</td>\n",
       "      <td>\\nPogoń Szczecin</td>\n",
       "      <td>1</td>\n",
       "      <td>1</td>\n",
       "      <td>0</td>\n",
       "      <td>0</td>\n",
       "      <td>2:0</td>\n",
       "      <td>2</td>\n",
       "      <td>3</td>\n",
       "      <td>1</td>\n",
       "      <td>2013/2014</td>\n",
       "    </tr>\n",
       "    <tr>\n",
       "      <th>2</th>\n",
       "      <td>3</td>\n",
       "      <td>\\nPiast Gliwice</td>\n",
       "      <td>1</td>\n",
       "      <td>1</td>\n",
       "      <td>0</td>\n",
       "      <td>0</td>\n",
       "      <td>3:2</td>\n",
       "      <td>1</td>\n",
       "      <td>3</td>\n",
       "      <td>1</td>\n",
       "      <td>2013/2014</td>\n",
       "    </tr>\n",
       "    <tr>\n",
       "      <th>3</th>\n",
       "      <td>4</td>\n",
       "      <td>\\nJagiellonia</td>\n",
       "      <td>1</td>\n",
       "      <td>1</td>\n",
       "      <td>0</td>\n",
       "      <td>0</td>\n",
       "      <td>1:0</td>\n",
       "      <td>1</td>\n",
       "      <td>3</td>\n",
       "      <td>1</td>\n",
       "      <td>2013/2014</td>\n",
       "    </tr>\n",
       "    <tr>\n",
       "      <th>4</th>\n",
       "      <td>5</td>\n",
       "      <td>\\nLechia Gdańsk</td>\n",
       "      <td>1</td>\n",
       "      <td>0</td>\n",
       "      <td>1</td>\n",
       "      <td>0</td>\n",
       "      <td>2:2</td>\n",
       "      <td>0</td>\n",
       "      <td>1</td>\n",
       "      <td>1</td>\n",
       "      <td>2013/2014</td>\n",
       "    </tr>\n",
       "  </tbody>\n",
       "</table>\n",
       "</div>"
      ],
      "text/plain": [
       "   #                Club games  W  D  L Goals +/- Pts  round     season\n",
       "0  1  \\nLegia Warszawa       1  1  0  0   5:1   4   3      1  2013/2014\n",
       "1  2   \\nPogoń Szczecin      1  1  0  0   2:0   2   3      1  2013/2014\n",
       "2  3    \\nPiast Gliwice      1  1  0  0   3:2   1   3      1  2013/2014\n",
       "3  4      \\nJagiellonia      1  1  0  0   1:0   1   3      1  2013/2014\n",
       "4  5    \\nLechia Gdańsk      1  0  1  0   2:2   0   1      1  2013/2014"
      ]
     },
     "execution_count": 8,
     "metadata": {},
     "output_type": "execute_result"
    }
   ],
   "source": [
    "table.head()"
   ]
  },
  {
   "cell_type": "code",
   "execution_count": 9,
   "metadata": {},
   "outputs": [],
   "source": [
    "table.to_pickle('data/table_dirty.pkl')"
   ]
  },
  {
   "cell_type": "markdown",
   "metadata": {},
   "source": [
    "<br>\n",
    "\n",
    "### Stadiums' information <a class=\"anchor\" id=\"wiki\"></a>\n",
    "\n",
    "We also need the data on the stadiums, that matches took place on. That includes capacity and some potentially important annotations (e.g. stadium under construction, capacity varied across the season). Fortunately, **[Wikipedia](https://pl.wikipedia.org/)** serves as a perfect source of this information.\n",
    "\n",
    "Let's start with obtaining the header of tables to be scraped."
   ]
  },
  {
   "cell_type": "code",
   "execution_count": 10,
   "metadata": {},
   "outputs": [
    {
     "name": "stdout",
     "output_type": "stream",
     "text": [
      "['\\n', 'Miejscowość\\n', 'Stadion\\n', 'Klub\\n', 'Pojemność\\n', 'Zdjęcie\\n']\n"
     ]
    }
   ],
   "source": [
    "URL = 'https://pl.wikipedia.org/wiki/Ekstraklasa_w_pi%C5%82ce_no%C5%BCnej_(2018/2019)'\n",
    "response = requests.get(URL)\n",
    "soup = BeautifulSoup(response.text, 'lxml')\n",
    "\n",
    "# As the wanted table has no unique id we'll find it by it's header - Stadiony\n",
    "\n",
    "for header in soup.find_all('h2'):\n",
    "    if header.get_text().startswith('Stadiony'):\n",
    "        tab = header.find_next_sibling()\n",
    "        \n",
    "tab_header = tab.tbody.tr.find_all('th')\n",
    "header = [i.text for i in tab_header]\n",
    "print(header)"
   ]
  },
  {
   "cell_type": "markdown",
   "metadata": {},
   "source": [
    "<br>\n",
    "Next code block iterates through URLs/seasons, scrapes the data and creates a DataFrame containing all information.\n",
    "<br>\n",
    "<br>"
   ]
  },
  {
   "cell_type": "code",
   "execution_count": 11,
   "metadata": {},
   "outputs": [
    {
     "data": {
      "application/vnd.jupyter.widget-view+json": {
       "model_id": "be7278c312d9455faf649b754ae442fe",
       "version_major": 2,
       "version_minor": 0
      },
      "text/plain": [
       "HBox(children=(FloatProgress(value=0.0, max=7.0), HTML(value='')))"
      ]
     },
     "metadata": {},
     "output_type": "display_data"
    },
    {
     "name": "stdout",
     "output_type": "stream",
     "text": [
      "\n"
     ]
    }
   ],
   "source": [
    "stadiums = pd.DataFrame()\n",
    "\n",
    "for idx, season in enumerate(tqdm(range(2013, 2020))):\n",
    "        \n",
    "        #Create the Soup and select desired tables\n",
    "        \n",
    "        URL = 'https://pl.wikipedia.org/wiki/Ekstraklasa_w_pi%C5%82ce_no%C5%BCnej_(' + str(season) + '/' + str(season+1) + ')'\n",
    "        response = requests.get(URL)\n",
    "        soup = BeautifulSoup(response.text, 'lxml')\n",
    "       \n",
    "        for head in soup.find_all('h2'):\n",
    "            if head.get_text().startswith('Stadiony'):\n",
    "                tab = head.find_next_sibling()\n",
    "                \n",
    "        # Extract the data from HTML tables and store them in DataFrame.\n",
    "    \n",
    "        tab_rows = tab.tbody.find_all('tr')\n",
    "\n",
    "        l = []\n",
    "        for tr in tab_rows:\n",
    "            td = tr.find_all('td')\n",
    "            row = [j.text for j in td]\n",
    "            l.append(row)\n",
    "\n",
    "        df = pd.DataFrame(l)\n",
    "        \n",
    "        # Remove first, empty row. Apply header as column names, add season ID and merge into one DataFrame - stadiums\n",
    "        \n",
    "        df = df.iloc[1:, :]\n",
    "        df.columns = header\n",
    "        df['season'] = str(season) + '/' + str(season+1)\n",
    "        \n",
    "        stadiums = stadiums.append(df, ignore_index=True)"
   ]
  },
  {
   "cell_type": "code",
   "execution_count": 12,
   "metadata": {},
   "outputs": [
    {
     "data": {
      "text/html": [
       "<div>\n",
       "<style scoped>\n",
       "    .dataframe tbody tr th:only-of-type {\n",
       "        vertical-align: middle;\n",
       "    }\n",
       "\n",
       "    .dataframe tbody tr th {\n",
       "        vertical-align: top;\n",
       "    }\n",
       "\n",
       "    .dataframe thead th {\n",
       "        text-align: right;\n",
       "    }\n",
       "</style>\n",
       "<table border=\"1\" class=\"dataframe\">\n",
       "  <thead>\n",
       "    <tr style=\"text-align: right;\">\n",
       "      <th></th>\n",
       "      <th>\\n</th>\n",
       "      <th>Miejscowość\\n</th>\n",
       "      <th>Stadion\\n</th>\n",
       "      <th>Klub\\n</th>\n",
       "      <th>Pojemność\\n</th>\n",
       "      <th>Zdjęcie\\n</th>\n",
       "      <th>season</th>\n",
       "    </tr>\n",
       "  </thead>\n",
       "  <tbody>\n",
       "    <tr>\n",
       "      <th>0</th>\n",
       "      <td>\\n</td>\n",
       "      <td>Wrocław\\n</td>\n",
       "      <td>Stadion Wrocław\\n</td>\n",
       "      <td>Śląsk Wrocław\\n</td>\n",
       "      <td>42 771\\n</td>\n",
       "      <td>\\n</td>\n",
       "      <td>2013/2014</td>\n",
       "    </tr>\n",
       "    <tr>\n",
       "      <th>1</th>\n",
       "      <td>\\n</td>\n",
       "      <td>Gdańsk\\n</td>\n",
       "      <td>PGE Arena Gdańsk\\n</td>\n",
       "      <td>Lechia Gdańsk\\n</td>\n",
       "      <td>42 105\\n</td>\n",
       "      <td>\\n</td>\n",
       "      <td>2013/2014</td>\n",
       "    </tr>\n",
       "    <tr>\n",
       "      <th>2</th>\n",
       "      <td>\\n</td>\n",
       "      <td>Poznań\\n</td>\n",
       "      <td>INEA Stadion\\n</td>\n",
       "      <td>Lech Poznań\\n</td>\n",
       "      <td>41 609\\n</td>\n",
       "      <td>\\n</td>\n",
       "      <td>2013/2014</td>\n",
       "    </tr>\n",
       "    <tr>\n",
       "      <th>3</th>\n",
       "      <td>\\n</td>\n",
       "      <td>Kraków\\n</td>\n",
       "      <td>Stadion Miejski im. Henryka Reymana\\n</td>\n",
       "      <td>Wisła Kraków\\n</td>\n",
       "      <td>33 130\\n</td>\n",
       "      <td>\\n</td>\n",
       "      <td>2013/2014</td>\n",
       "    </tr>\n",
       "    <tr>\n",
       "      <th>4</th>\n",
       "      <td>\\n</td>\n",
       "      <td>Warszawa\\n</td>\n",
       "      <td>Stadion Wojska Polskiego w Warszawie\\n</td>\n",
       "      <td>Legia Warszawa\\n</td>\n",
       "      <td>31 103\\n</td>\n",
       "      <td>\\n</td>\n",
       "      <td>2013/2014</td>\n",
       "    </tr>\n",
       "  </tbody>\n",
       "</table>\n",
       "</div>"
      ],
      "text/plain": [
       "   \\n Miejscowość\\n                               Stadion\\n            Klub\\n  \\\n",
       "0  \\n     Wrocław\\n                       Stadion Wrocław\\n   Śląsk Wrocław\\n   \n",
       "1  \\n      Gdańsk\\n                      PGE Arena Gdańsk\\n   Lechia Gdańsk\\n   \n",
       "2  \\n      Poznań\\n                          INEA Stadion\\n     Lech Poznań\\n   \n",
       "3  \\n      Kraków\\n   Stadion Miejski im. Henryka Reymana\\n    Wisła Kraków\\n   \n",
       "4  \\n    Warszawa\\n  Stadion Wojska Polskiego w Warszawie\\n  Legia Warszawa\\n   \n",
       "\n",
       "  Pojemność\\n Zdjęcie\\n     season  \n",
       "0    42 771\\n        \\n  2013/2014  \n",
       "1    42 105\\n        \\n  2013/2014  \n",
       "2    41 609\\n        \\n  2013/2014  \n",
       "3    33 130\\n        \\n  2013/2014  \n",
       "4    31 103\\n        \\n  2013/2014  "
      ]
     },
     "execution_count": 12,
     "metadata": {},
     "output_type": "execute_result"
    }
   ],
   "source": [
    "stadiums.head()"
   ]
  },
  {
   "cell_type": "code",
   "execution_count": 13,
   "metadata": {},
   "outputs": [],
   "source": [
    "stadiums.to_pickle('data/stadiums_dirty.pkl')"
   ]
  },
  {
   "cell_type": "markdown",
   "metadata": {},
   "source": [
    "<br>\n",
    "\n",
    "## Data preprocessing <a class=\"anchor\" id=\"preproc\"></a>\n",
    "\n",
    "In this section of the notebook data obtained previously is going to be cleaned into usable format. Additionaly, some potentially relevant features will be extracted and also weather data will be added."
   ]
  },
  {
   "cell_type": "markdown",
   "metadata": {},
   "source": [
    "### Attendance and match results <a class=\"anchor\" id=\"results\"></a>\n",
    "\n",
    "First of all, we'll take care of cleaning the **results** df, the core of this project."
   ]
  },
  {
   "cell_type": "code",
   "execution_count": 14,
   "metadata": {},
   "outputs": [],
   "source": [
    "results = pd.read_pickle('data/results_dirty.pkl')"
   ]
  },
  {
   "cell_type": "code",
   "execution_count": 15,
   "metadata": {},
   "outputs": [
    {
     "data": {
      "text/html": [
       "<div>\n",
       "<style scoped>\n",
       "    .dataframe tbody tr th:only-of-type {\n",
       "        vertical-align: middle;\n",
       "    }\n",
       "\n",
       "    .dataframe tbody tr th {\n",
       "        vertical-align: top;\n",
       "    }\n",
       "\n",
       "    .dataframe thead th {\n",
       "        text-align: right;\n",
       "    }\n",
       "</style>\n",
       "<table border=\"1\" class=\"dataframe\">\n",
       "  <thead>\n",
       "    <tr style=\"text-align: right;\">\n",
       "      <th></th>\n",
       "      <th>home_team</th>\n",
       "      <th>hg</th>\n",
       "      <th>away_team</th>\n",
       "      <th>date_attendance</th>\n",
       "      <th>round</th>\n",
       "      <th>season</th>\n",
       "    </tr>\n",
       "  </thead>\n",
       "  <tbody>\n",
       "    <tr>\n",
       "      <th>0</th>\n",
       "      <td>Arka Gdynia</td>\n",
       "      <td>0-3\\n</td>\n",
       "      <td>Jagiellonia Białystok</td>\n",
       "      <td>19 lipca, 18:00 (10 101)</td>\n",
       "      <td>1</td>\n",
       "      <td>PKO Ekstraklasa 2019/2020</td>\n",
       "    </tr>\n",
       "    <tr>\n",
       "      <th>1</th>\n",
       "      <td>Legia Warszawa</td>\n",
       "      <td>1-2\\n</td>\n",
       "      <td>Pogoń Szczecin</td>\n",
       "      <td>21 lipca, 17:30 (13 285)</td>\n",
       "      <td>1</td>\n",
       "      <td>PKO Ekstraklasa 2019/2020</td>\n",
       "    </tr>\n",
       "    <tr>\n",
       "      <th>2</th>\n",
       "      <td>ŁKS Łódź</td>\n",
       "      <td>0-0\\n</td>\n",
       "      <td>Lechia Gdańsk</td>\n",
       "      <td>19 lipca, 20:30 (5452)</td>\n",
       "      <td>1</td>\n",
       "      <td>PKO Ekstraklasa 2019/2020</td>\n",
       "    </tr>\n",
       "    <tr>\n",
       "      <th>3</th>\n",
       "      <td>Piast Gliwice</td>\n",
       "      <td>1-1\\n</td>\n",
       "      <td>Lech Poznań</td>\n",
       "      <td>20 lipca, 20:00 (4698)</td>\n",
       "      <td>1</td>\n",
       "      <td>PKO Ekstraklasa 2019/2020</td>\n",
       "    </tr>\n",
       "    <tr>\n",
       "      <th>4</th>\n",
       "      <td>Raków Częstochowa</td>\n",
       "      <td>0-1\\n</td>\n",
       "      <td>Korona Kielce</td>\n",
       "      <td>20 lipca, 15:00 (3365)</td>\n",
       "      <td>1</td>\n",
       "      <td>PKO Ekstraklasa 2019/2020</td>\n",
       "    </tr>\n",
       "  </tbody>\n",
       "</table>\n",
       "</div>"
      ],
      "text/plain": [
       "               home_team     hg                  away_team  \\\n",
       "0          Arka Gdynia    0-3\\n    Jagiellonia Białystok     \n",
       "1       Legia Warszawa    1-2\\n           Pogoń Szczecin     \n",
       "2             ŁKS Łódź    0-0\\n            Lechia Gdańsk     \n",
       "3        Piast Gliwice    1-1\\n              Lech Poznań     \n",
       "4    Raków Częstochowa    0-1\\n            Korona Kielce     \n",
       "\n",
       "            date_attendance round                     season  \n",
       "0  19 lipca, 18:00 (10 101)     1  PKO Ekstraklasa 2019/2020  \n",
       "1  21 lipca, 17:30 (13 285)     1  PKO Ekstraklasa 2019/2020  \n",
       "2    19 lipca, 20:30 (5452)     1  PKO Ekstraklasa 2019/2020  \n",
       "3    20 lipca, 20:00 (4698)     1  PKO Ekstraklasa 2019/2020  \n",
       "4    20 lipca, 15:00 (3365)     1  PKO Ekstraklasa 2019/2020  "
      ]
     },
     "execution_count": 15,
     "metadata": {},
     "output_type": "execute_result"
    }
   ],
   "source": [
    "# Rename columns\n",
    "results = results.rename(columns={0: 'home_team', 1: 'hg', 2: 'away_team', 3:'date_attendance'})\n",
    "\n",
    "results.head()"
   ]
  },
  {
   "cell_type": "code",
   "execution_count": 16,
   "metadata": {},
   "outputs": [
    {
     "data": {
      "text/html": [
       "<div>\n",
       "<style scoped>\n",
       "    .dataframe tbody tr th:only-of-type {\n",
       "        vertical-align: middle;\n",
       "    }\n",
       "\n",
       "    .dataframe tbody tr th {\n",
       "        vertical-align: top;\n",
       "    }\n",
       "\n",
       "    .dataframe thead th {\n",
       "        text-align: right;\n",
       "    }\n",
       "</style>\n",
       "<table border=\"1\" class=\"dataframe\">\n",
       "  <thead>\n",
       "    <tr style=\"text-align: right;\">\n",
       "      <th></th>\n",
       "      <th>home_team</th>\n",
       "      <th>hg</th>\n",
       "      <th>ag</th>\n",
       "      <th>away_team</th>\n",
       "      <th>date_attendance</th>\n",
       "      <th>round</th>\n",
       "      <th>season</th>\n",
       "    </tr>\n",
       "  </thead>\n",
       "  <tbody>\n",
       "    <tr>\n",
       "      <th>0</th>\n",
       "      <td>Arka Gdynia</td>\n",
       "      <td>0</td>\n",
       "      <td>3</td>\n",
       "      <td>Jagiellonia Białystok</td>\n",
       "      <td>19 lipca, 18:00 (10 101)</td>\n",
       "      <td>1</td>\n",
       "      <td>PKO Ekstraklasa 2019/2020</td>\n",
       "    </tr>\n",
       "    <tr>\n",
       "      <th>1</th>\n",
       "      <td>Legia Warszawa</td>\n",
       "      <td>1</td>\n",
       "      <td>2</td>\n",
       "      <td>Pogoń Szczecin</td>\n",
       "      <td>21 lipca, 17:30 (13 285)</td>\n",
       "      <td>1</td>\n",
       "      <td>PKO Ekstraklasa 2019/2020</td>\n",
       "    </tr>\n",
       "    <tr>\n",
       "      <th>2</th>\n",
       "      <td>ŁKS Łódź</td>\n",
       "      <td>0</td>\n",
       "      <td>0</td>\n",
       "      <td>Lechia Gdańsk</td>\n",
       "      <td>19 lipca, 20:30 (5452)</td>\n",
       "      <td>1</td>\n",
       "      <td>PKO Ekstraklasa 2019/2020</td>\n",
       "    </tr>\n",
       "    <tr>\n",
       "      <th>3</th>\n",
       "      <td>Piast Gliwice</td>\n",
       "      <td>1</td>\n",
       "      <td>1</td>\n",
       "      <td>Lech Poznań</td>\n",
       "      <td>20 lipca, 20:00 (4698)</td>\n",
       "      <td>1</td>\n",
       "      <td>PKO Ekstraklasa 2019/2020</td>\n",
       "    </tr>\n",
       "    <tr>\n",
       "      <th>4</th>\n",
       "      <td>Raków Częstochowa</td>\n",
       "      <td>0</td>\n",
       "      <td>1</td>\n",
       "      <td>Korona Kielce</td>\n",
       "      <td>20 lipca, 15:00 (3365)</td>\n",
       "      <td>1</td>\n",
       "      <td>PKO Ekstraklasa 2019/2020</td>\n",
       "    </tr>\n",
       "  </tbody>\n",
       "</table>\n",
       "</div>"
      ],
      "text/plain": [
       "           home_team hg ag              away_team           date_attendance  \\\n",
       "0        Arka Gdynia  0  3  Jagiellonia Białystok  19 lipca, 18:00 (10 101)   \n",
       "1     Legia Warszawa  1  2         Pogoń Szczecin  21 lipca, 17:30 (13 285)   \n",
       "2           ŁKS Łódź  0  0          Lechia Gdańsk    19 lipca, 20:30 (5452)   \n",
       "3      Piast Gliwice  1  1            Lech Poznań    20 lipca, 20:00 (4698)   \n",
       "4  Raków Częstochowa  0  1          Korona Kielce    20 lipca, 15:00 (3365)   \n",
       "\n",
       "  round                     season  \n",
       "0     1  PKO Ekstraklasa 2019/2020  \n",
       "1     1  PKO Ekstraklasa 2019/2020  \n",
       "2     1  PKO Ekstraklasa 2019/2020  \n",
       "3     1  PKO Ekstraklasa 2019/2020  \n",
       "4     1  PKO Ekstraklasa 2019/2020  "
      ]
     },
     "execution_count": 16,
     "metadata": {},
     "output_type": "execute_result"
    }
   ],
   "source": [
    "# Remove whitespaces from home_team and away_team columns\n",
    "results[['home_team', 'away_team']] = results[['home_team', 'away_team']].applymap(lambda x: x[2:-2])\n",
    "\n",
    "# Team 'Cracovia Kraków' has its city missing in the dataset, let's add it\n",
    "results[['home_team', 'away_team']] = \\\n",
    "results[['home_team', 'away_team']].applymap(lambda x: \" \".join([x, 'Kraków']) if x=='Cracovia' else x)\n",
    "\n",
    "# Remove new line marker\n",
    "results['hg'] = [score[:-1] for score in results['hg'] if score.endswith('\\n')]\n",
    "\n",
    "# Column with score will be divided into two separate columns: home goals and away goals. Thus, let's insert new empty column\n",
    "results.insert(2, 'ag', np.nan) \n",
    "\n",
    "# Split the column with score into two separate for home and away goals\n",
    "results[['hg', 'ag']] = results['hg'].str.split('-', expand=True) \n",
    "\n",
    "# Check whether changes were applied correctly\n",
    "results.head()"
   ]
  },
  {
   "cell_type": "code",
   "execution_count": 17,
   "metadata": {},
   "outputs": [
    {
     "data": {
      "text/html": [
       "<div>\n",
       "<style scoped>\n",
       "    .dataframe tbody tr th:only-of-type {\n",
       "        vertical-align: middle;\n",
       "    }\n",
       "\n",
       "    .dataframe tbody tr th {\n",
       "        vertical-align: top;\n",
       "    }\n",
       "\n",
       "    .dataframe thead th {\n",
       "        text-align: right;\n",
       "    }\n",
       "</style>\n",
       "<table border=\"1\" class=\"dataframe\">\n",
       "  <thead>\n",
       "    <tr style=\"text-align: right;\">\n",
       "      <th></th>\n",
       "      <th>home_team</th>\n",
       "      <th>hg</th>\n",
       "      <th>ag</th>\n",
       "      <th>away_team</th>\n",
       "      <th>round</th>\n",
       "      <th>season</th>\n",
       "      <th>attendance</th>\n",
       "      <th>day</th>\n",
       "      <th>month</th>\n",
       "      <th>hour</th>\n",
       "    </tr>\n",
       "  </thead>\n",
       "  <tbody>\n",
       "    <tr>\n",
       "      <th>0</th>\n",
       "      <td>Arka Gdynia</td>\n",
       "      <td>0</td>\n",
       "      <td>3</td>\n",
       "      <td>Jagiellonia Białystok</td>\n",
       "      <td>1</td>\n",
       "      <td>PKO Ekstraklasa 2019/2020</td>\n",
       "      <td>10101</td>\n",
       "      <td>19</td>\n",
       "      <td>lipca</td>\n",
       "      <td>18:00</td>\n",
       "    </tr>\n",
       "    <tr>\n",
       "      <th>1</th>\n",
       "      <td>Legia Warszawa</td>\n",
       "      <td>1</td>\n",
       "      <td>2</td>\n",
       "      <td>Pogoń Szczecin</td>\n",
       "      <td>1</td>\n",
       "      <td>PKO Ekstraklasa 2019/2020</td>\n",
       "      <td>13285</td>\n",
       "      <td>21</td>\n",
       "      <td>lipca</td>\n",
       "      <td>17:30</td>\n",
       "    </tr>\n",
       "    <tr>\n",
       "      <th>2</th>\n",
       "      <td>ŁKS Łódź</td>\n",
       "      <td>0</td>\n",
       "      <td>0</td>\n",
       "      <td>Lechia Gdańsk</td>\n",
       "      <td>1</td>\n",
       "      <td>PKO Ekstraklasa 2019/2020</td>\n",
       "      <td>5452</td>\n",
       "      <td>19</td>\n",
       "      <td>lipca</td>\n",
       "      <td>20:30</td>\n",
       "    </tr>\n",
       "    <tr>\n",
       "      <th>3</th>\n",
       "      <td>Piast Gliwice</td>\n",
       "      <td>1</td>\n",
       "      <td>1</td>\n",
       "      <td>Lech Poznań</td>\n",
       "      <td>1</td>\n",
       "      <td>PKO Ekstraklasa 2019/2020</td>\n",
       "      <td>4698</td>\n",
       "      <td>20</td>\n",
       "      <td>lipca</td>\n",
       "      <td>20:00</td>\n",
       "    </tr>\n",
       "    <tr>\n",
       "      <th>4</th>\n",
       "      <td>Raków Częstochowa</td>\n",
       "      <td>0</td>\n",
       "      <td>1</td>\n",
       "      <td>Korona Kielce</td>\n",
       "      <td>1</td>\n",
       "      <td>PKO Ekstraklasa 2019/2020</td>\n",
       "      <td>3365</td>\n",
       "      <td>20</td>\n",
       "      <td>lipca</td>\n",
       "      <td>15:00</td>\n",
       "    </tr>\n",
       "  </tbody>\n",
       "</table>\n",
       "</div>"
      ],
      "text/plain": [
       "           home_team hg ag              away_team round  \\\n",
       "0        Arka Gdynia  0  3  Jagiellonia Białystok     1   \n",
       "1     Legia Warszawa  1  2         Pogoń Szczecin     1   \n",
       "2           ŁKS Łódź  0  0          Lechia Gdańsk     1   \n",
       "3      Piast Gliwice  1  1            Lech Poznań     1   \n",
       "4  Raków Częstochowa  0  1          Korona Kielce     1   \n",
       "\n",
       "                      season  attendance day  month   hour  \n",
       "0  PKO Ekstraklasa 2019/2020       10101  19  lipca  18:00  \n",
       "1  PKO Ekstraklasa 2019/2020       13285  21  lipca  17:30  \n",
       "2  PKO Ekstraklasa 2019/2020        5452  19  lipca  20:30  \n",
       "3  PKO Ekstraklasa 2019/2020        4698  20  lipca  20:00  \n",
       "4  PKO Ekstraklasa 2019/2020        3365  20  lipca  15:00  "
      ]
     },
     "execution_count": 17,
     "metadata": {},
     "output_type": "execute_result"
    }
   ],
   "source": [
    "# Extract attendance from parenthesis, remove whitespace (thousand separator), fill nans with 0 and convert to int\n",
    "results['attendance'] = results['date_attendance'].str.extract('\\(([^\\)]+)\\)')[0].str.replace(' ', '').fillna(0).astype('int')\n",
    "\n",
    "# Create day, month and hour columns from date_attendance \n",
    "results['day'] = results['date_attendance'].str.split(' ', expand=True)[0] #create day column\n",
    "results['month'] = results['date_attendance'].str.split(' ', expand=True)[1] #create month column\n",
    "results['hour'] = results['date_attendance'].str.split(' ', expand=True)[2] #add hour coolumn\n",
    "\n",
    "# Remove the comma from the end of month names\n",
    "results['month'] = results['month'].str[:-1] \n",
    "\n",
    "# Drop column\n",
    "results = results.drop(['date_attendance'], axis='columns')\n",
    "\n",
    "# Review the applied changes\n",
    "results.head()"
   ]
  },
  {
   "cell_type": "code",
   "execution_count": 18,
   "metadata": {},
   "outputs": [
    {
     "data": {
      "text/html": [
       "<div>\n",
       "<style scoped>\n",
       "    .dataframe tbody tr th:only-of-type {\n",
       "        vertical-align: middle;\n",
       "    }\n",
       "\n",
       "    .dataframe tbody tr th {\n",
       "        vertical-align: top;\n",
       "    }\n",
       "\n",
       "    .dataframe thead th {\n",
       "        text-align: right;\n",
       "    }\n",
       "</style>\n",
       "<table border=\"1\" class=\"dataframe\">\n",
       "  <thead>\n",
       "    <tr style=\"text-align: right;\">\n",
       "      <th></th>\n",
       "      <th>home_team</th>\n",
       "      <th>hg</th>\n",
       "      <th>ag</th>\n",
       "      <th>away_team</th>\n",
       "      <th>round</th>\n",
       "      <th>season</th>\n",
       "      <th>attendance</th>\n",
       "      <th>day</th>\n",
       "      <th>month</th>\n",
       "      <th>hour</th>\n",
       "    </tr>\n",
       "  </thead>\n",
       "  <tbody>\n",
       "    <tr>\n",
       "      <th>0</th>\n",
       "      <td>Arka Gdynia</td>\n",
       "      <td>0</td>\n",
       "      <td>3</td>\n",
       "      <td>Jagiellonia Białystok</td>\n",
       "      <td>1</td>\n",
       "      <td>PKO Ekstraklasa 2019/2020</td>\n",
       "      <td>10101</td>\n",
       "      <td>19</td>\n",
       "      <td>7</td>\n",
       "      <td>18:00</td>\n",
       "    </tr>\n",
       "    <tr>\n",
       "      <th>1</th>\n",
       "      <td>Legia Warszawa</td>\n",
       "      <td>1</td>\n",
       "      <td>2</td>\n",
       "      <td>Pogoń Szczecin</td>\n",
       "      <td>1</td>\n",
       "      <td>PKO Ekstraklasa 2019/2020</td>\n",
       "      <td>13285</td>\n",
       "      <td>21</td>\n",
       "      <td>7</td>\n",
       "      <td>17:30</td>\n",
       "    </tr>\n",
       "    <tr>\n",
       "      <th>2</th>\n",
       "      <td>ŁKS Łódź</td>\n",
       "      <td>0</td>\n",
       "      <td>0</td>\n",
       "      <td>Lechia Gdańsk</td>\n",
       "      <td>1</td>\n",
       "      <td>PKO Ekstraklasa 2019/2020</td>\n",
       "      <td>5452</td>\n",
       "      <td>19</td>\n",
       "      <td>7</td>\n",
       "      <td>20:30</td>\n",
       "    </tr>\n",
       "    <tr>\n",
       "      <th>3</th>\n",
       "      <td>Piast Gliwice</td>\n",
       "      <td>1</td>\n",
       "      <td>1</td>\n",
       "      <td>Lech Poznań</td>\n",
       "      <td>1</td>\n",
       "      <td>PKO Ekstraklasa 2019/2020</td>\n",
       "      <td>4698</td>\n",
       "      <td>20</td>\n",
       "      <td>7</td>\n",
       "      <td>20:00</td>\n",
       "    </tr>\n",
       "    <tr>\n",
       "      <th>4</th>\n",
       "      <td>Raków Częstochowa</td>\n",
       "      <td>0</td>\n",
       "      <td>1</td>\n",
       "      <td>Korona Kielce</td>\n",
       "      <td>1</td>\n",
       "      <td>PKO Ekstraklasa 2019/2020</td>\n",
       "      <td>3365</td>\n",
       "      <td>20</td>\n",
       "      <td>7</td>\n",
       "      <td>15:00</td>\n",
       "    </tr>\n",
       "  </tbody>\n",
       "</table>\n",
       "</div>"
      ],
      "text/plain": [
       "           home_team hg ag              away_team round  \\\n",
       "0        Arka Gdynia  0  3  Jagiellonia Białystok     1   \n",
       "1     Legia Warszawa  1  2         Pogoń Szczecin     1   \n",
       "2           ŁKS Łódź  0  0          Lechia Gdańsk     1   \n",
       "3      Piast Gliwice  1  1            Lech Poznań     1   \n",
       "4  Raków Częstochowa  0  1          Korona Kielce     1   \n",
       "\n",
       "                      season  attendance day  month   hour  \n",
       "0  PKO Ekstraklasa 2019/2020       10101  19      7  18:00  \n",
       "1  PKO Ekstraklasa 2019/2020       13285  21      7  17:30  \n",
       "2  PKO Ekstraklasa 2019/2020        5452  19      7  20:30  \n",
       "3  PKO Ekstraklasa 2019/2020        4698  20      7  20:00  \n",
       "4  PKO Ekstraklasa 2019/2020        3365  20      7  15:00  "
      ]
     },
     "execution_count": 18,
     "metadata": {},
     "output_type": "execute_result"
    }
   ],
   "source": [
    "# Create and apply a function to convert the months from polish names to number\n",
    "def month_conv(x):\n",
    "    if x.startswith('sty'):\n",
    "        return 1\n",
    "    elif x.startswith('lut'):\n",
    "        return 2\n",
    "    elif x.startswith('mar'):\n",
    "        return 3\n",
    "    elif x.startswith('kwi'):\n",
    "        return 4\n",
    "    elif x.startswith('maj'):\n",
    "        return 5\n",
    "    elif x.startswith('cze'):\n",
    "        return 6\n",
    "    elif x.startswith('lip'):\n",
    "        return 7\n",
    "    elif x.startswith('sie'):\n",
    "        return 8\n",
    "    elif x.startswith('wrz'):\n",
    "        return 9\n",
    "    elif x.startswith('paź'):\n",
    "        return 10\n",
    "    elif x.startswith('lis'):\n",
    "        return 11\n",
    "    elif x.startswith('gru'):\n",
    "        return 12\n",
    "    \n",
    "results['month'] = results['month'].apply(month_conv)\n",
    "results.head()"
   ]
  },
  {
   "cell_type": "code",
   "execution_count": 19,
   "metadata": {},
   "outputs": [
    {
     "data": {
      "text/html": [
       "<div>\n",
       "<style scoped>\n",
       "    .dataframe tbody tr th:only-of-type {\n",
       "        vertical-align: middle;\n",
       "    }\n",
       "\n",
       "    .dataframe tbody tr th {\n",
       "        vertical-align: top;\n",
       "    }\n",
       "\n",
       "    .dataframe thead th {\n",
       "        text-align: right;\n",
       "    }\n",
       "</style>\n",
       "<table border=\"1\" class=\"dataframe\">\n",
       "  <thead>\n",
       "    <tr style=\"text-align: right;\">\n",
       "      <th></th>\n",
       "      <th>home_team</th>\n",
       "      <th>hg</th>\n",
       "      <th>ag</th>\n",
       "      <th>away_team</th>\n",
       "      <th>round</th>\n",
       "      <th>season</th>\n",
       "      <th>attendance</th>\n",
       "      <th>day</th>\n",
       "      <th>month</th>\n",
       "      <th>hour</th>\n",
       "      <th>year</th>\n",
       "    </tr>\n",
       "  </thead>\n",
       "  <tbody>\n",
       "    <tr>\n",
       "      <th>0</th>\n",
       "      <td>Arka Gdynia</td>\n",
       "      <td>0</td>\n",
       "      <td>3</td>\n",
       "      <td>Jagiellonia Białystok</td>\n",
       "      <td>1</td>\n",
       "      <td>2019/2020</td>\n",
       "      <td>10101</td>\n",
       "      <td>19</td>\n",
       "      <td>7</td>\n",
       "      <td>18:00</td>\n",
       "      <td>2019</td>\n",
       "    </tr>\n",
       "    <tr>\n",
       "      <th>1</th>\n",
       "      <td>Legia Warszawa</td>\n",
       "      <td>1</td>\n",
       "      <td>2</td>\n",
       "      <td>Pogoń Szczecin</td>\n",
       "      <td>1</td>\n",
       "      <td>2019/2020</td>\n",
       "      <td>13285</td>\n",
       "      <td>21</td>\n",
       "      <td>7</td>\n",
       "      <td>17:30</td>\n",
       "      <td>2019</td>\n",
       "    </tr>\n",
       "    <tr>\n",
       "      <th>2</th>\n",
       "      <td>ŁKS Łódź</td>\n",
       "      <td>0</td>\n",
       "      <td>0</td>\n",
       "      <td>Lechia Gdańsk</td>\n",
       "      <td>1</td>\n",
       "      <td>2019/2020</td>\n",
       "      <td>5452</td>\n",
       "      <td>19</td>\n",
       "      <td>7</td>\n",
       "      <td>20:30</td>\n",
       "      <td>2019</td>\n",
       "    </tr>\n",
       "    <tr>\n",
       "      <th>3</th>\n",
       "      <td>Piast Gliwice</td>\n",
       "      <td>1</td>\n",
       "      <td>1</td>\n",
       "      <td>Lech Poznań</td>\n",
       "      <td>1</td>\n",
       "      <td>2019/2020</td>\n",
       "      <td>4698</td>\n",
       "      <td>20</td>\n",
       "      <td>7</td>\n",
       "      <td>20:00</td>\n",
       "      <td>2019</td>\n",
       "    </tr>\n",
       "    <tr>\n",
       "      <th>4</th>\n",
       "      <td>Raków Częstochowa</td>\n",
       "      <td>0</td>\n",
       "      <td>1</td>\n",
       "      <td>Korona Kielce</td>\n",
       "      <td>1</td>\n",
       "      <td>2019/2020</td>\n",
       "      <td>3365</td>\n",
       "      <td>20</td>\n",
       "      <td>7</td>\n",
       "      <td>15:00</td>\n",
       "      <td>2019</td>\n",
       "    </tr>\n",
       "  </tbody>\n",
       "</table>\n",
       "</div>"
      ],
      "text/plain": [
       "           home_team hg ag              away_team round     season  \\\n",
       "0        Arka Gdynia  0  3  Jagiellonia Białystok     1  2019/2020   \n",
       "1     Legia Warszawa  1  2         Pogoń Szczecin     1  2019/2020   \n",
       "2           ŁKS Łódź  0  0          Lechia Gdańsk     1  2019/2020   \n",
       "3      Piast Gliwice  1  1            Lech Poznań     1  2019/2020   \n",
       "4  Raków Częstochowa  0  1          Korona Kielce     1  2019/2020   \n",
       "\n",
       "   attendance day  month   hour  year  \n",
       "0       10101  19      7  18:00  2019  \n",
       "1       13285  21      7  17:30  2019  \n",
       "2        5452  19      7  20:30  2019  \n",
       "3        4698  20      7  20:00  2019  \n",
       "4        3365  20      7  15:00  2019  "
      ]
     },
     "execution_count": 19,
     "metadata": {},
     "output_type": "execute_result"
    }
   ],
   "source": [
    "# Leave only years in season column\n",
    "results['season'] = results['season'].str[-9:]\n",
    "\n",
    "# Year was missing in the dates of matches, so it has to be extracted other way. As new season always starts in July,\n",
    "# the function below assigns the year before the slash sign to matches played after June and the year after the slash to those\n",
    "# played in 1st half of the year\n",
    "\n",
    "def get_year(row): \n",
    "    if row['month'] > 6:\n",
    "        return(row['season'][-9:-5])\n",
    "    else:\n",
    "        return(row['season'][-4:])\n",
    "    \n",
    "results['year'] = results.apply(get_year, axis=1)\n",
    "results.head()"
   ]
  },
  {
   "cell_type": "code",
   "execution_count": 20,
   "metadata": {},
   "outputs": [],
   "source": [
    "# Sort columns in desired order\n",
    "results = results[['home_team', 'hg', 'ag', 'away_team', 'day', 'month', 'year', 'hour', 'season', 'round', 'attendance']]"
   ]
  },
  {
   "cell_type": "code",
   "execution_count": 21,
   "metadata": {},
   "outputs": [
    {
     "name": "stdout",
     "output_type": "stream",
     "text": [
      "home_team ['Arka Gdynia' 'Legia Warszawa' 'ŁKS Łódź' 'Piast Gliwice'\n",
      " 'Raków Częstochowa' 'Wisła Kraków' 'Wisła Płock' 'Zagłębie Lubin'\n",
      " 'Cracovia Kraków' 'Górnik Zabrze' 'Jagiellonia Białystok' 'Korona Kielce'\n",
      " 'Lech Poznań' 'Lechia Gdańsk' 'Pogoń Szczecin' 'Śląsk Wrocław'\n",
      " 'Miedź Legnica' 'Zagłębie Sosnowiec' 'Bruk-Bet Termalica Nieciecza'\n",
      " 'Sandecja Nowy Sącz' 'Ruch Chorzów' 'Górnik Łęczna'\n",
      " 'Podbeskidzie Bielsko-Biała' 'Termalica Bruk-Bet Nieciecza'\n",
      " 'Zawisza Bydgoszcz' 'GKS Bełchatów' 'Widzew Łódź']\n",
      "hg ['0' '1' '4' '2' '3' '5' '7' '6' 'x']\n",
      "ag ['3' '2' '0' '1' '4' '5' '6' 'x']\n",
      "away_team ['Jagiellonia Białystok' 'Pogoń Szczecin' 'Lechia Gdańsk' 'Lech Poznań'\n",
      " 'Korona Kielce' 'Śląsk Wrocław' 'Górnik Zabrze' 'Cracovia Kraków'\n",
      " 'ŁKS Łódź' 'Zagłębie Lubin' 'Raków Częstochowa' 'Legia Warszawa'\n",
      " 'Wisła Płock' 'Wisła Kraków' 'Arka Gdynia' 'Piast Gliwice'\n",
      " 'Miedź Legnica' 'Zagłębie Sosnowiec' 'Sandecja Nowy Sącz'\n",
      " 'Bruk-Bet Termalica Nieciecza' 'Górnik Łęczna' 'Ruch Chorzów'\n",
      " 'Podbeskidzie Bielsko-Biała' 'Termalica Bruk-Bet Nieciecza'\n",
      " 'GKS Bełchatów' 'Zawisza Bydgoszcz' 'Widzew Łódź']\n",
      "day ['19' '21' '20' '22' '27' '26' '28' '29' '2' '4' '3' '5' '11' '10' '9'\n",
      " '12' '18' '17' '16' '24' '25' '23' '30' '1' '31' '15' '13' '14' '6' '8'\n",
      " '7']\n",
      "month [ 7  8  9 10 11 12  2  3  5  6  4]\n",
      "year ['2019' '2020' '2018' '2017' '2016' '2015' '2014' '2013']\n",
      "hour ['18:00' '17:30' '20:30' '20:00' '15:00' '12:30' '19:00' '15:30' '13:00'\n",
      " '16:00' '18:10' '18:15' '18:30' '17:00' '20:45']\n",
      "season ['2019/2020' '2018/2019' '2017/2018' '2016/2017' '2015/2016' '2014/2015'\n",
      " '2013/2014']\n",
      "round ['1' '2' '3' '4' '5' '6' '7' '8' '9' '10' '11' '12' '13' '14' '15' '16'\n",
      " '17' '18' '19' '20' '21' '22' '23' '24' '25' '26' '27' '28' '29' '30'\n",
      " '31' '32' '33' '34' '35' '36' '37']\n",
      "attendance [10101 13285  5452 ...  4936  5953  3426]\n"
     ]
    }
   ],
   "source": [
    "# Print unique values in each of columns to check if there are any issues\n",
    "for col in results.columns:\n",
    "    print(col, pd.unique(results[col]))"
   ]
  },
  {
   "cell_type": "code",
   "execution_count": 22,
   "metadata": {},
   "outputs": [
    {
     "data": {
      "text/html": [
       "<div>\n",
       "<style scoped>\n",
       "    .dataframe tbody tr th:only-of-type {\n",
       "        vertical-align: middle;\n",
       "    }\n",
       "\n",
       "    .dataframe tbody tr th {\n",
       "        vertical-align: top;\n",
       "    }\n",
       "\n",
       "    .dataframe thead th {\n",
       "        text-align: right;\n",
       "    }\n",
       "</style>\n",
       "<table border=\"1\" class=\"dataframe\">\n",
       "  <thead>\n",
       "    <tr style=\"text-align: right;\">\n",
       "      <th></th>\n",
       "      <th>home_team</th>\n",
       "      <th>hg</th>\n",
       "      <th>ag</th>\n",
       "      <th>away_team</th>\n",
       "      <th>day</th>\n",
       "      <th>month</th>\n",
       "      <th>year</th>\n",
       "      <th>hour</th>\n",
       "      <th>season</th>\n",
       "      <th>round</th>\n",
       "      <th>attendance</th>\n",
       "    </tr>\n",
       "  </thead>\n",
       "  <tbody>\n",
       "    <tr>\n",
       "      <th>0</th>\n",
       "      <td>Arka Gdynia</td>\n",
       "      <td>0</td>\n",
       "      <td>3</td>\n",
       "      <td>Jagiellonia Białystok</td>\n",
       "      <td>19</td>\n",
       "      <td>7</td>\n",
       "      <td>2019</td>\n",
       "      <td>18:00</td>\n",
       "      <td>2019/2020</td>\n",
       "      <td>1</td>\n",
       "      <td>10101</td>\n",
       "    </tr>\n",
       "    <tr>\n",
       "      <th>1</th>\n",
       "      <td>Legia Warszawa</td>\n",
       "      <td>1</td>\n",
       "      <td>2</td>\n",
       "      <td>Pogoń Szczecin</td>\n",
       "      <td>21</td>\n",
       "      <td>7</td>\n",
       "      <td>2019</td>\n",
       "      <td>17:30</td>\n",
       "      <td>2019/2020</td>\n",
       "      <td>1</td>\n",
       "      <td>13285</td>\n",
       "    </tr>\n",
       "    <tr>\n",
       "      <th>2</th>\n",
       "      <td>ŁKS Łódź</td>\n",
       "      <td>0</td>\n",
       "      <td>0</td>\n",
       "      <td>Lechia Gdańsk</td>\n",
       "      <td>19</td>\n",
       "      <td>7</td>\n",
       "      <td>2019</td>\n",
       "      <td>20:30</td>\n",
       "      <td>2019/2020</td>\n",
       "      <td>1</td>\n",
       "      <td>5452</td>\n",
       "    </tr>\n",
       "    <tr>\n",
       "      <th>3</th>\n",
       "      <td>Piast Gliwice</td>\n",
       "      <td>1</td>\n",
       "      <td>1</td>\n",
       "      <td>Lech Poznań</td>\n",
       "      <td>20</td>\n",
       "      <td>7</td>\n",
       "      <td>2019</td>\n",
       "      <td>20:00</td>\n",
       "      <td>2019/2020</td>\n",
       "      <td>1</td>\n",
       "      <td>4698</td>\n",
       "    </tr>\n",
       "    <tr>\n",
       "      <th>4</th>\n",
       "      <td>Raków Częstochowa</td>\n",
       "      <td>0</td>\n",
       "      <td>1</td>\n",
       "      <td>Korona Kielce</td>\n",
       "      <td>20</td>\n",
       "      <td>7</td>\n",
       "      <td>2019</td>\n",
       "      <td>15:00</td>\n",
       "      <td>2019/2020</td>\n",
       "      <td>1</td>\n",
       "      <td>3365</td>\n",
       "    </tr>\n",
       "    <tr>\n",
       "      <th>...</th>\n",
       "      <td>...</td>\n",
       "      <td>...</td>\n",
       "      <td>...</td>\n",
       "      <td>...</td>\n",
       "      <td>...</td>\n",
       "      <td>...</td>\n",
       "      <td>...</td>\n",
       "      <td>...</td>\n",
       "      <td>...</td>\n",
       "      <td>...</td>\n",
       "      <td>...</td>\n",
       "    </tr>\n",
       "    <tr>\n",
       "      <th>2011</th>\n",
       "      <td>Górnik Zabrze</td>\n",
       "      <td>0</td>\n",
       "      <td>2</td>\n",
       "      <td>Lechia Gdańsk</td>\n",
       "      <td>1</td>\n",
       "      <td>6</td>\n",
       "      <td>2014</td>\n",
       "      <td>18:00</td>\n",
       "      <td>2013/2014</td>\n",
       "      <td>37</td>\n",
       "      <td>3000</td>\n",
       "    </tr>\n",
       "    <tr>\n",
       "      <th>2012</th>\n",
       "      <td>Cracovia Kraków</td>\n",
       "      <td>2</td>\n",
       "      <td>2</td>\n",
       "      <td>Jagiellonia Białystok</td>\n",
       "      <td>31</td>\n",
       "      <td>5</td>\n",
       "      <td>2014</td>\n",
       "      <td>20:30</td>\n",
       "      <td>2013/2014</td>\n",
       "      <td>37</td>\n",
       "      <td>6021</td>\n",
       "    </tr>\n",
       "    <tr>\n",
       "      <th>2013</th>\n",
       "      <td>Korona Kielce</td>\n",
       "      <td>1</td>\n",
       "      <td>5</td>\n",
       "      <td>Śląsk Wrocław</td>\n",
       "      <td>31</td>\n",
       "      <td>5</td>\n",
       "      <td>2014</td>\n",
       "      <td>20:30</td>\n",
       "      <td>2013/2014</td>\n",
       "      <td>37</td>\n",
       "      <td>6475</td>\n",
       "    </tr>\n",
       "    <tr>\n",
       "      <th>2014</th>\n",
       "      <td>Piast Gliwice</td>\n",
       "      <td>2</td>\n",
       "      <td>2</td>\n",
       "      <td>Podbeskidzie Bielsko-Biała</td>\n",
       "      <td>31</td>\n",
       "      <td>5</td>\n",
       "      <td>2014</td>\n",
       "      <td>20:30</td>\n",
       "      <td>2013/2014</td>\n",
       "      <td>37</td>\n",
       "      <td>5953</td>\n",
       "    </tr>\n",
       "    <tr>\n",
       "      <th>2015</th>\n",
       "      <td>Zagłębie Lubin</td>\n",
       "      <td>0</td>\n",
       "      <td>3</td>\n",
       "      <td>Widzew Łódź</td>\n",
       "      <td>31</td>\n",
       "      <td>5</td>\n",
       "      <td>2014</td>\n",
       "      <td>20:30</td>\n",
       "      <td>2013/2014</td>\n",
       "      <td>37</td>\n",
       "      <td>3426</td>\n",
       "    </tr>\n",
       "  </tbody>\n",
       "</table>\n",
       "<p>2016 rows × 11 columns</p>\n",
       "</div>"
      ],
      "text/plain": [
       "              home_team  hg  ag                   away_team  day  month  year  \\\n",
       "0           Arka Gdynia   0   3       Jagiellonia Białystok   19      7  2019   \n",
       "1        Legia Warszawa   1   2              Pogoń Szczecin   21      7  2019   \n",
       "2              ŁKS Łódź   0   0               Lechia Gdańsk   19      7  2019   \n",
       "3         Piast Gliwice   1   1                 Lech Poznań   20      7  2019   \n",
       "4     Raków Częstochowa   0   1               Korona Kielce   20      7  2019   \n",
       "...                 ...  ..  ..                         ...  ...    ...   ...   \n",
       "2011      Górnik Zabrze   0   2               Lechia Gdańsk    1      6  2014   \n",
       "2012    Cracovia Kraków   2   2       Jagiellonia Białystok   31      5  2014   \n",
       "2013      Korona Kielce   1   5               Śląsk Wrocław   31      5  2014   \n",
       "2014      Piast Gliwice   2   2  Podbeskidzie Bielsko-Biała   31      5  2014   \n",
       "2015     Zagłębie Lubin   0   3                 Widzew Łódź   31      5  2014   \n",
       "\n",
       "       hour     season  round  attendance  \n",
       "0     18:00  2019/2020      1       10101  \n",
       "1     17:30  2019/2020      1       13285  \n",
       "2     20:30  2019/2020      1        5452  \n",
       "3     20:00  2019/2020      1        4698  \n",
       "4     15:00  2019/2020      1        3365  \n",
       "...     ...        ...    ...         ...  \n",
       "2011  18:00  2013/2014     37        3000  \n",
       "2012  20:30  2013/2014     37        6021  \n",
       "2013  20:30  2013/2014     37        6475  \n",
       "2014  20:30  2013/2014     37        5953  \n",
       "2015  20:30  2013/2014     37        3426  \n",
       "\n",
       "[2016 rows x 11 columns]"
      ]
     },
     "execution_count": 22,
     "metadata": {},
     "output_type": "execute_result"
    }
   ],
   "source": [
    "# In hg and ag columns there is one 'x' instead of only numbers. It is because this match has been cancelled. Remove it.\n",
    "results = results[~(results['hg'] == 'x')]\n",
    "\n",
    "\n",
    "# One club has two different names: Bruk-Bet Termalica Nieciecza and Termalica Bruk-Bet Nieczecza.\n",
    "# Change those to Termalica Nieciecza\n",
    "results.loc[(results['home_team'] == 'Bruk-Bet Termalica Nieciecza') |\\\n",
    "        (results['home_team'] == 'Termalica Bruk-Bet Nieciecza'), 'home_team'] = 'Termalica Nieciecza'\n",
    "\n",
    "results.loc[(results['away_team'] == 'Bruk-Bet Termalica Nieciecza') |\\\n",
    "        (results['away_team'] == 'Termalica Bruk-Bet Nieciecza'), 'away_team'] = 'Termalica Nieciecza'\n",
    "\n",
    "# Change the column types to int\n",
    "results[['hg', 'ag', 'day', 'year', 'round']] = results[['hg', 'ag', 'day', 'year', 'round']].astype('int')\n",
    "\n",
    "# Remove matches after the coronavirus outbreak\n",
    "results = results[~(results['year'] == 2020) | (results['round'] < 27)]\n",
    "results = results.reset_index(drop=True)\n",
    "\n",
    "results"
   ]
  },
  {
   "cell_type": "markdown",
   "metadata": {},
   "source": [
    "<br>\n",
    "\n",
    "Lastly, let's run some **tests** to check if conditions are met and see if there are any missing values.\n",
    "<br>\n",
    "<br>"
   ]
  },
  {
   "cell_type": "code",
   "execution_count": 23,
   "metadata": {
    "scrolled": true
   },
   "outputs": [
    {
     "name": "stdout",
     "output_type": "stream",
     "text": [
      "There are 0 missing values.\n"
     ]
    }
   ],
   "source": [
    "assert len(results['home_team'].unique()) == len(results['away_team'].unique())\n",
    "assert results['day'].isin(range(1,32)).all()\n",
    "assert results['month'].isin(range(1,13)).all()\n",
    "assert results['year'].isin(range(2013,2021)).all()\n",
    "assert results['round'].isin(range(1,38)).all()\n",
    "\n",
    "print('There are {} missing values.'.format(results.isnull().sum().sum()))"
   ]
  },
  {
   "cell_type": "code",
   "execution_count": 24,
   "metadata": {},
   "outputs": [],
   "source": [
    "results.to_pickle('data/results_clean.pkl')"
   ]
  },
  {
   "cell_type": "markdown",
   "metadata": {},
   "source": [
    "<br> \n",
    "\n",
    "### League tables <a class=\"anchor\" id=\"Table\"></a>\n",
    "\n",
    "Next, **table** df will be cleaned."
   ]
  },
  {
   "cell_type": "code",
   "execution_count": 25,
   "metadata": {
    "scrolled": true
   },
   "outputs": [
    {
     "data": {
      "text/html": [
       "<div>\n",
       "<style scoped>\n",
       "    .dataframe tbody tr th:only-of-type {\n",
       "        vertical-align: middle;\n",
       "    }\n",
       "\n",
       "    .dataframe tbody tr th {\n",
       "        vertical-align: top;\n",
       "    }\n",
       "\n",
       "    .dataframe thead th {\n",
       "        text-align: right;\n",
       "    }\n",
       "</style>\n",
       "<table border=\"1\" class=\"dataframe\">\n",
       "  <thead>\n",
       "    <tr style=\"text-align: right;\">\n",
       "      <th></th>\n",
       "      <th>#</th>\n",
       "      <th>Club</th>\n",
       "      <th>games</th>\n",
       "      <th>W</th>\n",
       "      <th>D</th>\n",
       "      <th>L</th>\n",
       "      <th>Goals</th>\n",
       "      <th>+/-</th>\n",
       "      <th>Pts</th>\n",
       "      <th>round</th>\n",
       "      <th>season</th>\n",
       "    </tr>\n",
       "  </thead>\n",
       "  <tbody>\n",
       "    <tr>\n",
       "      <th>0</th>\n",
       "      <td>1</td>\n",
       "      <td>\\nLegia Warszawa</td>\n",
       "      <td>1</td>\n",
       "      <td>1</td>\n",
       "      <td>0</td>\n",
       "      <td>0</td>\n",
       "      <td>5:1</td>\n",
       "      <td>4</td>\n",
       "      <td>3</td>\n",
       "      <td>1</td>\n",
       "      <td>2013/2014</td>\n",
       "    </tr>\n",
       "    <tr>\n",
       "      <th>1</th>\n",
       "      <td>2</td>\n",
       "      <td>\\nPogoń Szczecin</td>\n",
       "      <td>1</td>\n",
       "      <td>1</td>\n",
       "      <td>0</td>\n",
       "      <td>0</td>\n",
       "      <td>2:0</td>\n",
       "      <td>2</td>\n",
       "      <td>3</td>\n",
       "      <td>1</td>\n",
       "      <td>2013/2014</td>\n",
       "    </tr>\n",
       "    <tr>\n",
       "      <th>2</th>\n",
       "      <td>3</td>\n",
       "      <td>\\nPiast Gliwice</td>\n",
       "      <td>1</td>\n",
       "      <td>1</td>\n",
       "      <td>0</td>\n",
       "      <td>0</td>\n",
       "      <td>3:2</td>\n",
       "      <td>1</td>\n",
       "      <td>3</td>\n",
       "      <td>1</td>\n",
       "      <td>2013/2014</td>\n",
       "    </tr>\n",
       "    <tr>\n",
       "      <th>3</th>\n",
       "      <td>4</td>\n",
       "      <td>\\nJagiellonia</td>\n",
       "      <td>1</td>\n",
       "      <td>1</td>\n",
       "      <td>0</td>\n",
       "      <td>0</td>\n",
       "      <td>1:0</td>\n",
       "      <td>1</td>\n",
       "      <td>3</td>\n",
       "      <td>1</td>\n",
       "      <td>2013/2014</td>\n",
       "    </tr>\n",
       "    <tr>\n",
       "      <th>4</th>\n",
       "      <td>5</td>\n",
       "      <td>\\nLechia Gdańsk</td>\n",
       "      <td>1</td>\n",
       "      <td>0</td>\n",
       "      <td>1</td>\n",
       "      <td>0</td>\n",
       "      <td>2:2</td>\n",
       "      <td>0</td>\n",
       "      <td>1</td>\n",
       "      <td>1</td>\n",
       "      <td>2013/2014</td>\n",
       "    </tr>\n",
       "  </tbody>\n",
       "</table>\n",
       "</div>"
      ],
      "text/plain": [
       "   #                Club games  W  D  L Goals +/- Pts  round     season\n",
       "0  1  \\nLegia Warszawa       1  1  0  0   5:1   4   3      1  2013/2014\n",
       "1  2   \\nPogoń Szczecin      1  1  0  0   2:0   2   3      1  2013/2014\n",
       "2  3    \\nPiast Gliwice      1  1  0  0   3:2   1   3      1  2013/2014\n",
       "3  4      \\nJagiellonia      1  1  0  0   1:0   1   3      1  2013/2014\n",
       "4  5    \\nLechia Gdańsk      1  0  1  0   2:2   0   1      1  2013/2014"
      ]
     },
     "execution_count": 25,
     "metadata": {},
     "output_type": "execute_result"
    }
   ],
   "source": [
    "table = pd.read_pickle('data/table_dirty.pkl')\n",
    "table.head()"
   ]
  },
  {
   "cell_type": "code",
   "execution_count": 26,
   "metadata": {},
   "outputs": [],
   "source": [
    "# Remove \\n from beginning of club names\n",
    "table['Club'] = table['Club'].str[1:] \n",
    "\n",
    "# Remove \\xa0 and whitespaces from end of club names\n",
    "table['Club'] = table['Club'].str.rstrip('\\xa0 ') \n",
    "\n",
    "# Change the 'Z. Sosnowiec' into full name - 'Zagłębie Sosnowiec'\n",
    "table.loc[table['Club'].str.startswith('Z.'), 'Club'] = 'Zagłębie Sosnowiec' \n",
    "\n"
   ]
  },
  {
   "cell_type": "markdown",
   "metadata": {},
   "source": [
    "<br>\n",
    "\n",
    "There is a need of **unifying** the club names as they do vary between sources. The form present in the **results** df is the preferred one.\n",
    "<br>\n",
    "<br>"
   ]
  },
  {
   "cell_type": "code",
   "execution_count": 27,
   "metadata": {},
   "outputs": [
    {
     "name": "stdout",
     "output_type": "stream",
     "text": [
      "Wrong names: ['Cracovia', 'Jagiellonia', 'Podbeskidzie', 'Raków', 'Sandecja', 'Termalica', 'Zawisza']\n",
      "List of changes: [('Cracovia Kraków', 'Cracovia'), ('Jagiellonia Białystok', 'Jagiellonia'), ('Podbeskidzie Bielsko-Biała', 'Podbeskidzie'), ('Raków Częstochowa', 'Raków'), ('Sandecja Nowy Sącz', 'Sandecja'), ('Termalica Nieciecza', 'Termalica'), ('Zawisza Bydgoszcz', 'Zawisza')]\n"
     ]
    }
   ],
   "source": [
    "table_clubs = sorted(table['Club'].unique())\n",
    "results_clubs = sorted(results['home_team'].unique())\n",
    "\n",
    "# Retreive club names that need to be changed in table df\n",
    "wrong_names = [club for club in table_clubs if club not in results_clubs]\n",
    "print('Wrong names:', wrong_names)\n",
    "\n",
    "# Wrong names contain only part of full name. Create pairs of the correct and wrong form of the club name.\n",
    "tobe_changed = [(correct, wrong) for correct in results_clubs for wrong in wrong_names if wrong in correct]\n",
    "print('List of changes:', tobe_changed)\n",
    "\n",
    "# Apply changes\n",
    "for club in tobe_changed:\n",
    "    table.loc[table['Club'] == club[1], 'Club'] = club[0]"
   ]
  },
  {
   "cell_type": "code",
   "execution_count": 28,
   "metadata": {},
   "outputs": [
    {
     "data": {
      "text/html": [
       "<div>\n",
       "<style scoped>\n",
       "    .dataframe tbody tr th:only-of-type {\n",
       "        vertical-align: middle;\n",
       "    }\n",
       "\n",
       "    .dataframe tbody tr th {\n",
       "        vertical-align: top;\n",
       "    }\n",
       "\n",
       "    .dataframe thead th {\n",
       "        text-align: right;\n",
       "    }\n",
       "</style>\n",
       "<table border=\"1\" class=\"dataframe\">\n",
       "  <thead>\n",
       "    <tr style=\"text-align: right;\">\n",
       "      <th></th>\n",
       "      <th>position</th>\n",
       "      <th>Club</th>\n",
       "      <th>games</th>\n",
       "      <th>W</th>\n",
       "      <th>D</th>\n",
       "      <th>L</th>\n",
       "      <th>goals_for</th>\n",
       "      <th>goals_against</th>\n",
       "      <th>+/-</th>\n",
       "      <th>Pts</th>\n",
       "      <th>round</th>\n",
       "      <th>season</th>\n",
       "    </tr>\n",
       "  </thead>\n",
       "  <tbody>\n",
       "    <tr>\n",
       "      <th>0</th>\n",
       "      <td>1</td>\n",
       "      <td>Legia Warszawa</td>\n",
       "      <td>1</td>\n",
       "      <td>1</td>\n",
       "      <td>0</td>\n",
       "      <td>0</td>\n",
       "      <td>5</td>\n",
       "      <td>1</td>\n",
       "      <td>4</td>\n",
       "      <td>3</td>\n",
       "      <td>1</td>\n",
       "      <td>2013/2014</td>\n",
       "    </tr>\n",
       "    <tr>\n",
       "      <th>1</th>\n",
       "      <td>2</td>\n",
       "      <td>Pogoń Szczecin</td>\n",
       "      <td>1</td>\n",
       "      <td>1</td>\n",
       "      <td>0</td>\n",
       "      <td>0</td>\n",
       "      <td>2</td>\n",
       "      <td>0</td>\n",
       "      <td>2</td>\n",
       "      <td>3</td>\n",
       "      <td>1</td>\n",
       "      <td>2013/2014</td>\n",
       "    </tr>\n",
       "    <tr>\n",
       "      <th>2</th>\n",
       "      <td>3</td>\n",
       "      <td>Piast Gliwice</td>\n",
       "      <td>1</td>\n",
       "      <td>1</td>\n",
       "      <td>0</td>\n",
       "      <td>0</td>\n",
       "      <td>3</td>\n",
       "      <td>2</td>\n",
       "      <td>1</td>\n",
       "      <td>3</td>\n",
       "      <td>1</td>\n",
       "      <td>2013/2014</td>\n",
       "    </tr>\n",
       "    <tr>\n",
       "      <th>3</th>\n",
       "      <td>4</td>\n",
       "      <td>Jagiellonia Białystok</td>\n",
       "      <td>1</td>\n",
       "      <td>1</td>\n",
       "      <td>0</td>\n",
       "      <td>0</td>\n",
       "      <td>1</td>\n",
       "      <td>0</td>\n",
       "      <td>1</td>\n",
       "      <td>3</td>\n",
       "      <td>1</td>\n",
       "      <td>2013/2014</td>\n",
       "    </tr>\n",
       "    <tr>\n",
       "      <th>4</th>\n",
       "      <td>5</td>\n",
       "      <td>Lechia Gdańsk</td>\n",
       "      <td>1</td>\n",
       "      <td>0</td>\n",
       "      <td>1</td>\n",
       "      <td>0</td>\n",
       "      <td>2</td>\n",
       "      <td>2</td>\n",
       "      <td>0</td>\n",
       "      <td>1</td>\n",
       "      <td>1</td>\n",
       "      <td>2013/2014</td>\n",
       "    </tr>\n",
       "  </tbody>\n",
       "</table>\n",
       "</div>"
      ],
      "text/plain": [
       "   position                   Club games  W  D  L goals_for goals_against +/-  \\\n",
       "0         1         Legia Warszawa     1  1  0  0         5             1   4   \n",
       "1         2         Pogoń Szczecin     1  1  0  0         2             0   2   \n",
       "2         3          Piast Gliwice     1  1  0  0         3             2   1   \n",
       "3         4  Jagiellonia Białystok     1  1  0  0         1             0   1   \n",
       "4         5          Lechia Gdańsk     1  0  1  0         2             2   0   \n",
       "\n",
       "  Pts  round     season  \n",
       "0   3      1  2013/2014  \n",
       "1   3      1  2013/2014  \n",
       "2   3      1  2013/2014  \n",
       "3   3      1  2013/2014  \n",
       "4   1      1  2013/2014  "
      ]
     },
     "execution_count": 28,
     "metadata": {},
     "output_type": "execute_result"
    }
   ],
   "source": [
    "# Column with goals will be divided into two separate columns: goals for and goals against. Thus, let's insert new empty column\n",
    "table.insert(7, 'goals_against', np.nan) \n",
    "\n",
    "# Split the column with score into two separate for home and away goals\n",
    "table[['Goals', 'goals_against']] = table['Goals'].str.split(':', expand=True)\n",
    "\n",
    "# Rename columns\n",
    "table.rename(columns={'Goals':'goals_for', '#':'position'}, inplace=True) \n",
    "\n",
    "table.head()"
   ]
  },
  {
   "cell_type": "code",
   "execution_count": 29,
   "metadata": {},
   "outputs": [],
   "source": [
    "# Convert col types to int where applicable\n",
    "table[['position', 'games', 'W', 'D', 'L', 'goals_for', 'goals_against', '+/-', 'Pts']] = \\\n",
    "table[['position', 'games', 'W', 'D', 'L', 'goals_for', 'goals_against', '+/-', 'Pts']].astype('int')"
   ]
  },
  {
   "cell_type": "markdown",
   "metadata": {},
   "source": [
    "<br>\n",
    "\n",
    "Lastly, let's run some **tests** to check if conditions are met and see if there are any missing values.\n",
    "<br>\n",
    "<br>"
   ]
  },
  {
   "cell_type": "code",
   "execution_count": 30,
   "metadata": {},
   "outputs": [
    {
     "name": "stdout",
     "output_type": "stream",
     "text": [
      "There are 0 missing values.\n"
     ]
    }
   ],
   "source": [
    "assert len(table['Club'].unique()) == len(results['home_team'].unique()) == len(results['away_team'].unique())\n",
    "assert table['position'].isin(range(1,17)).all()\n",
    "assert table[['games', 'W', 'D', 'L', 'round']].isin(range(0,38)).all().all()\n",
    "\n",
    "print('There are {} missing values.'.format(table.isnull().sum().sum()))"
   ]
  },
  {
   "cell_type": "code",
   "execution_count": 31,
   "metadata": {},
   "outputs": [],
   "source": [
    "table.to_pickle('data/table_clean.pkl')"
   ]
  },
  {
   "cell_type": "markdown",
   "metadata": {},
   "source": [
    "<br>\n",
    "\n",
    "### Stadiums' infromation <a class=\"anchor\" id=\"stadium\"></a>\n",
    "\n",
    "In this part we're going to tidy the **stadium** df and join it to **results** df."
   ]
  },
  {
   "cell_type": "code",
   "execution_count": 32,
   "metadata": {},
   "outputs": [
    {
     "data": {
      "text/html": [
       "<div>\n",
       "<style scoped>\n",
       "    .dataframe tbody tr th:only-of-type {\n",
       "        vertical-align: middle;\n",
       "    }\n",
       "\n",
       "    .dataframe tbody tr th {\n",
       "        vertical-align: top;\n",
       "    }\n",
       "\n",
       "    .dataframe thead th {\n",
       "        text-align: right;\n",
       "    }\n",
       "</style>\n",
       "<table border=\"1\" class=\"dataframe\">\n",
       "  <thead>\n",
       "    <tr style=\"text-align: right;\">\n",
       "      <th></th>\n",
       "      <th>\\n</th>\n",
       "      <th>Miejscowość\\n</th>\n",
       "      <th>Stadion\\n</th>\n",
       "      <th>Klub\\n</th>\n",
       "      <th>Pojemność\\n</th>\n",
       "      <th>Zdjęcie\\n</th>\n",
       "      <th>season</th>\n",
       "    </tr>\n",
       "  </thead>\n",
       "  <tbody>\n",
       "    <tr>\n",
       "      <th>0</th>\n",
       "      <td>\\n</td>\n",
       "      <td>Wrocław\\n</td>\n",
       "      <td>Stadion Wrocław\\n</td>\n",
       "      <td>Śląsk Wrocław\\n</td>\n",
       "      <td>42 771\\n</td>\n",
       "      <td>\\n</td>\n",
       "      <td>2013/2014</td>\n",
       "    </tr>\n",
       "    <tr>\n",
       "      <th>1</th>\n",
       "      <td>\\n</td>\n",
       "      <td>Gdańsk\\n</td>\n",
       "      <td>PGE Arena Gdańsk\\n</td>\n",
       "      <td>Lechia Gdańsk\\n</td>\n",
       "      <td>42 105\\n</td>\n",
       "      <td>\\n</td>\n",
       "      <td>2013/2014</td>\n",
       "    </tr>\n",
       "    <tr>\n",
       "      <th>2</th>\n",
       "      <td>\\n</td>\n",
       "      <td>Poznań\\n</td>\n",
       "      <td>INEA Stadion\\n</td>\n",
       "      <td>Lech Poznań\\n</td>\n",
       "      <td>41 609\\n</td>\n",
       "      <td>\\n</td>\n",
       "      <td>2013/2014</td>\n",
       "    </tr>\n",
       "    <tr>\n",
       "      <th>3</th>\n",
       "      <td>\\n</td>\n",
       "      <td>Kraków\\n</td>\n",
       "      <td>Stadion Miejski im. Henryka Reymana\\n</td>\n",
       "      <td>Wisła Kraków\\n</td>\n",
       "      <td>33 130\\n</td>\n",
       "      <td>\\n</td>\n",
       "      <td>2013/2014</td>\n",
       "    </tr>\n",
       "    <tr>\n",
       "      <th>4</th>\n",
       "      <td>\\n</td>\n",
       "      <td>Warszawa\\n</td>\n",
       "      <td>Stadion Wojska Polskiego w Warszawie\\n</td>\n",
       "      <td>Legia Warszawa\\n</td>\n",
       "      <td>31 103\\n</td>\n",
       "      <td>\\n</td>\n",
       "      <td>2013/2014</td>\n",
       "    </tr>\n",
       "  </tbody>\n",
       "</table>\n",
       "</div>"
      ],
      "text/plain": [
       "   \\n Miejscowość\\n                               Stadion\\n            Klub\\n  \\\n",
       "0  \\n     Wrocław\\n                       Stadion Wrocław\\n   Śląsk Wrocław\\n   \n",
       "1  \\n      Gdańsk\\n                      PGE Arena Gdańsk\\n   Lechia Gdańsk\\n   \n",
       "2  \\n      Poznań\\n                          INEA Stadion\\n     Lech Poznań\\n   \n",
       "3  \\n      Kraków\\n   Stadion Miejski im. Henryka Reymana\\n    Wisła Kraków\\n   \n",
       "4  \\n    Warszawa\\n  Stadion Wojska Polskiego w Warszawie\\n  Legia Warszawa\\n   \n",
       "\n",
       "  Pojemność\\n Zdjęcie\\n     season  \n",
       "0    42 771\\n        \\n  2013/2014  \n",
       "1    42 105\\n        \\n  2013/2014  \n",
       "2    41 609\\n        \\n  2013/2014  \n",
       "3    33 130\\n        \\n  2013/2014  \n",
       "4    31 103\\n        \\n  2013/2014  "
      ]
     },
     "execution_count": 32,
     "metadata": {},
     "output_type": "execute_result"
    }
   ],
   "source": [
    "stadiums = pd.read_pickle('data/stadiums_dirty.pkl')\n",
    "stadiums.head()"
   ]
  },
  {
   "cell_type": "code",
   "execution_count": 33,
   "metadata": {},
   "outputs": [
    {
     "data": {
      "text/html": [
       "<div>\n",
       "<style scoped>\n",
       "    .dataframe tbody tr th:only-of-type {\n",
       "        vertical-align: middle;\n",
       "    }\n",
       "\n",
       "    .dataframe tbody tr th {\n",
       "        vertical-align: top;\n",
       "    }\n",
       "\n",
       "    .dataframe thead th {\n",
       "        text-align: right;\n",
       "    }\n",
       "</style>\n",
       "<table border=\"1\" class=\"dataframe\">\n",
       "  <thead>\n",
       "    <tr style=\"text-align: right;\">\n",
       "      <th></th>\n",
       "      <th>City</th>\n",
       "      <th>Club</th>\n",
       "      <th>Capacity</th>\n",
       "      <th>season</th>\n",
       "    </tr>\n",
       "  </thead>\n",
       "  <tbody>\n",
       "    <tr>\n",
       "      <th>0</th>\n",
       "      <td>Wrocław</td>\n",
       "      <td>Śląsk Wrocław</td>\n",
       "      <td>42 771</td>\n",
       "      <td>2013/2014</td>\n",
       "    </tr>\n",
       "    <tr>\n",
       "      <th>1</th>\n",
       "      <td>Gdańsk</td>\n",
       "      <td>Lechia Gdańsk</td>\n",
       "      <td>42 105</td>\n",
       "      <td>2013/2014</td>\n",
       "    </tr>\n",
       "    <tr>\n",
       "      <th>2</th>\n",
       "      <td>Poznań</td>\n",
       "      <td>Lech Poznań</td>\n",
       "      <td>41 609</td>\n",
       "      <td>2013/2014</td>\n",
       "    </tr>\n",
       "    <tr>\n",
       "      <th>3</th>\n",
       "      <td>Kraków</td>\n",
       "      <td>Wisła Kraków</td>\n",
       "      <td>33 130</td>\n",
       "      <td>2013/2014</td>\n",
       "    </tr>\n",
       "    <tr>\n",
       "      <th>4</th>\n",
       "      <td>Warszawa</td>\n",
       "      <td>Legia Warszawa</td>\n",
       "      <td>31 103</td>\n",
       "      <td>2013/2014</td>\n",
       "    </tr>\n",
       "  </tbody>\n",
       "</table>\n",
       "</div>"
      ],
      "text/plain": [
       "       City            Club Capacity     season\n",
       "0   Wrocław   Śląsk Wrocław   42 771  2013/2014\n",
       "1    Gdańsk   Lechia Gdańsk   42 105  2013/2014\n",
       "2    Poznań     Lech Poznań   41 609  2013/2014\n",
       "3    Kraków    Wisła Kraków   33 130  2013/2014\n",
       "4  Warszawa  Legia Warszawa   31 103  2013/2014"
      ]
     },
     "execution_count": 33,
     "metadata": {},
     "output_type": "execute_result"
    }
   ],
   "source": [
    "# Remove new line marker\n",
    "stadiums = stadiums.applymap(lambda x: x.rstrip('\\n'))\n",
    "\n",
    "# Do same with col names\n",
    "stadiums.columns =  stadiums.columns.str.rstrip('\\n')\n",
    "\n",
    "# Remove redundant columns and rename remaining\n",
    "stadiums = stadiums[['Miejscowość', 'Klub', 'Pojemność', 'season']]\n",
    "stadiums = stadiums.rename(columns={'Miejscowość':'City', 'Klub':'Club', 'Pojemność':'Capacity'})\n",
    "\n",
    "stadiums.head()"
   ]
  },
  {
   "cell_type": "code",
   "execution_count": 34,
   "metadata": {},
   "outputs": [],
   "source": [
    "# Some observations were annotated in wikipedia with use of []. Let's save them to separate df and investigate them later,\n",
    "# as there might be some information relevant for the purpose of this project. Also remove them from the original df.\n",
    "\n",
    "stad_to_investigate = stadiums[(stadiums['Club'].str.endswith(']')) | (stadiums['Capacity'].str.endswith(']'))]\n",
    "stadiums = stadiums.loc[~stadiums.index.isin(stad_to_investigate.index), :]\n",
    "stadiums = stadiums.reset_index(drop=True)\n",
    "stad_to_investigate = stad_to_investigate.reset_index(drop=True)"
   ]
  },
  {
   "cell_type": "code",
   "execution_count": 35,
   "metadata": {},
   "outputs": [],
   "source": [
    "# Manually change wrong club names\n",
    "stadiums.loc[stadiums['Club'] == 'Bruk-Bet Termalica Nieciecza', 'Club'] = 'Termalica Nieciecza'\n",
    "stadiums.loc[stadiums['Club'] == 'Cracovia', 'Club'] = 'Cracovia Kraków'"
   ]
  },
  {
   "cell_type": "code",
   "execution_count": 36,
   "metadata": {},
   "outputs": [],
   "source": [
    "# Remove the thousand separators: '\\xa0' and whitespace\n",
    "stadiums['Capacity'] = stadiums['Capacity'].str.replace('\\xa0', '')\n",
    "stadiums['Capacity'] = stadiums['Capacity'].str.replace(' ', '')"
   ]
  },
  {
   "cell_type": "markdown",
   "metadata": {},
   "source": [
    "<br>\n",
    "\n",
    "Let's merge the **results** and **stadiums** dfs\n",
    "<br>\n",
    "<br>"
   ]
  },
  {
   "cell_type": "code",
   "execution_count": 37,
   "metadata": {},
   "outputs": [
    {
     "data": {
      "text/html": [
       "<div>\n",
       "<style scoped>\n",
       "    .dataframe tbody tr th:only-of-type {\n",
       "        vertical-align: middle;\n",
       "    }\n",
       "\n",
       "    .dataframe tbody tr th {\n",
       "        vertical-align: top;\n",
       "    }\n",
       "\n",
       "    .dataframe thead th {\n",
       "        text-align: right;\n",
       "    }\n",
       "</style>\n",
       "<table border=\"1\" class=\"dataframe\">\n",
       "  <thead>\n",
       "    <tr style=\"text-align: right;\">\n",
       "      <th></th>\n",
       "      <th>home_team</th>\n",
       "      <th>hg</th>\n",
       "      <th>ag</th>\n",
       "      <th>away_team</th>\n",
       "      <th>day</th>\n",
       "      <th>month</th>\n",
       "      <th>year</th>\n",
       "      <th>hour</th>\n",
       "      <th>season</th>\n",
       "      <th>round</th>\n",
       "      <th>attendance</th>\n",
       "      <th>City</th>\n",
       "      <th>Capacity</th>\n",
       "    </tr>\n",
       "  </thead>\n",
       "  <tbody>\n",
       "    <tr>\n",
       "      <th>0</th>\n",
       "      <td>Arka Gdynia</td>\n",
       "      <td>0</td>\n",
       "      <td>3</td>\n",
       "      <td>Jagiellonia Białystok</td>\n",
       "      <td>19</td>\n",
       "      <td>7</td>\n",
       "      <td>2019</td>\n",
       "      <td>18:00</td>\n",
       "      <td>2019/2020</td>\n",
       "      <td>1</td>\n",
       "      <td>10101</td>\n",
       "      <td>Gdynia</td>\n",
       "      <td>15139</td>\n",
       "    </tr>\n",
       "    <tr>\n",
       "      <th>1</th>\n",
       "      <td>Legia Warszawa</td>\n",
       "      <td>1</td>\n",
       "      <td>2</td>\n",
       "      <td>Pogoń Szczecin</td>\n",
       "      <td>21</td>\n",
       "      <td>7</td>\n",
       "      <td>2019</td>\n",
       "      <td>17:30</td>\n",
       "      <td>2019/2020</td>\n",
       "      <td>1</td>\n",
       "      <td>13285</td>\n",
       "      <td>Warszawa</td>\n",
       "      <td>31103</td>\n",
       "    </tr>\n",
       "    <tr>\n",
       "      <th>2</th>\n",
       "      <td>ŁKS Łódź</td>\n",
       "      <td>0</td>\n",
       "      <td>0</td>\n",
       "      <td>Lechia Gdańsk</td>\n",
       "      <td>19</td>\n",
       "      <td>7</td>\n",
       "      <td>2019</td>\n",
       "      <td>20:30</td>\n",
       "      <td>2019/2020</td>\n",
       "      <td>1</td>\n",
       "      <td>5452</td>\n",
       "      <td>Łódź</td>\n",
       "      <td>5700</td>\n",
       "    </tr>\n",
       "    <tr>\n",
       "      <th>3</th>\n",
       "      <td>Piast Gliwice</td>\n",
       "      <td>1</td>\n",
       "      <td>1</td>\n",
       "      <td>Lech Poznań</td>\n",
       "      <td>20</td>\n",
       "      <td>7</td>\n",
       "      <td>2019</td>\n",
       "      <td>20:00</td>\n",
       "      <td>2019/2020</td>\n",
       "      <td>1</td>\n",
       "      <td>4698</td>\n",
       "      <td>Gliwice</td>\n",
       "      <td>9913</td>\n",
       "    </tr>\n",
       "    <tr>\n",
       "      <th>4</th>\n",
       "      <td>Raków Częstochowa</td>\n",
       "      <td>0</td>\n",
       "      <td>1</td>\n",
       "      <td>Korona Kielce</td>\n",
       "      <td>20</td>\n",
       "      <td>7</td>\n",
       "      <td>2019</td>\n",
       "      <td>15:00</td>\n",
       "      <td>2019/2020</td>\n",
       "      <td>1</td>\n",
       "      <td>3365</td>\n",
       "      <td>Bełchatów</td>\n",
       "      <td>5264</td>\n",
       "    </tr>\n",
       "  </tbody>\n",
       "</table>\n",
       "</div>"
      ],
      "text/plain": [
       "           home_team  hg  ag              away_team  day  month  year   hour  \\\n",
       "0        Arka Gdynia   0   3  Jagiellonia Białystok   19      7  2019  18:00   \n",
       "1     Legia Warszawa   1   2         Pogoń Szczecin   21      7  2019  17:30   \n",
       "2           ŁKS Łódź   0   0          Lechia Gdańsk   19      7  2019  20:30   \n",
       "3      Piast Gliwice   1   1            Lech Poznań   20      7  2019  20:00   \n",
       "4  Raków Częstochowa   0   1          Korona Kielce   20      7  2019  15:00   \n",
       "\n",
       "      season  round  attendance       City Capacity  \n",
       "0  2019/2020      1       10101     Gdynia    15139  \n",
       "1  2019/2020      1       13285   Warszawa    31103  \n",
       "2  2019/2020      1        5452       Łódź     5700  \n",
       "3  2019/2020      1        4698    Gliwice     9913  \n",
       "4  2019/2020      1        3365  Bełchatów     5264  "
      ]
     },
     "execution_count": 37,
     "metadata": {},
     "output_type": "execute_result"
    }
   ],
   "source": [
    "results = results.merge(stadiums, how='left', left_on=['home_team', 'season'], right_on=['Club', 'season'])\n",
    "results = results.drop('Club', axis=1)\n",
    "results.head()"
   ]
  },
  {
   "cell_type": "markdown",
   "metadata": {},
   "source": [
    "<br>\n",
    "\n",
    "Lastly, let's investigate the **annotations** mentioned before. Most of them relates to the stadium beeing under construction, so at the same time we'll add a column indicating such a situation.\n",
    "<br>\n",
    "<br>"
   ]
  },
  {
   "cell_type": "code",
   "execution_count": 38,
   "metadata": {},
   "outputs": [
    {
     "data": {
      "text/html": [
       "<div>\n",
       "<style scoped>\n",
       "    .dataframe tbody tr th:only-of-type {\n",
       "        vertical-align: middle;\n",
       "    }\n",
       "\n",
       "    .dataframe tbody tr th {\n",
       "        vertical-align: top;\n",
       "    }\n",
       "\n",
       "    .dataframe thead th {\n",
       "        text-align: right;\n",
       "    }\n",
       "</style>\n",
       "<table border=\"1\" class=\"dataframe\">\n",
       "  <thead>\n",
       "    <tr style=\"text-align: right;\">\n",
       "      <th></th>\n",
       "      <th>City</th>\n",
       "      <th>Club</th>\n",
       "      <th>Capacity</th>\n",
       "      <th>season</th>\n",
       "    </tr>\n",
       "  </thead>\n",
       "  <tbody>\n",
       "    <tr>\n",
       "      <th>0</th>\n",
       "      <td>Białystok</td>\n",
       "      <td>Jagiellonia Białystok</td>\n",
       "      <td>7500[b]</td>\n",
       "      <td>2013/2014</td>\n",
       "    </tr>\n",
       "    <tr>\n",
       "      <th>1</th>\n",
       "      <td>Bielsko-Biała</td>\n",
       "      <td>Podbeskidzie Bielsko-Biała</td>\n",
       "      <td>3404[c]</td>\n",
       "      <td>2013/2014</td>\n",
       "    </tr>\n",
       "    <tr>\n",
       "      <th>2</th>\n",
       "      <td>Zabrze</td>\n",
       "      <td>Górnik Zabrze</td>\n",
       "      <td>3000[d]</td>\n",
       "      <td>2013/2014</td>\n",
       "    </tr>\n",
       "    <tr>\n",
       "      <th>3</th>\n",
       "      <td>Białystok</td>\n",
       "      <td>Jagiellonia Białystok</td>\n",
       "      <td>22 386[ad]</td>\n",
       "      <td>2014/2015</td>\n",
       "    </tr>\n",
       "    <tr>\n",
       "      <th>4</th>\n",
       "      <td>Gliwice</td>\n",
       "      <td>Piast GliwiceRuch Chorzów[ae]</td>\n",
       "      <td>10 037</td>\n",
       "      <td>2014/2015</td>\n",
       "    </tr>\n",
       "    <tr>\n",
       "      <th>5</th>\n",
       "      <td>Bielsko-Biała</td>\n",
       "      <td>Podbeskidzie Bielsko-Biała</td>\n",
       "      <td>6962[af]</td>\n",
       "      <td>2014/2015</td>\n",
       "    </tr>\n",
       "    <tr>\n",
       "      <th>6</th>\n",
       "      <td>Zabrze</td>\n",
       "      <td>Górnik Zabrze</td>\n",
       "      <td>3000[ag]</td>\n",
       "      <td>2014/2015</td>\n",
       "    </tr>\n",
       "    <tr>\n",
       "      <th>7</th>\n",
       "      <td>Zabrze</td>\n",
       "      <td>Górnik Zabrze</td>\n",
       "      <td>24 413[d]</td>\n",
       "      <td>2015/2016</td>\n",
       "    </tr>\n",
       "    <tr>\n",
       "      <th>8</th>\n",
       "      <td>Bielsko-Biała</td>\n",
       "      <td>Podbeskidzie Bielsko-Biała</td>\n",
       "      <td>6962[e]</td>\n",
       "      <td>2015/2016</td>\n",
       "    </tr>\n",
       "    <tr>\n",
       "      <th>9</th>\n",
       "      <td>Mielec</td>\n",
       "      <td>Termalica Bruk-Bet Nieciecza[f]</td>\n",
       "      <td>6864</td>\n",
       "      <td>2015/2016</td>\n",
       "    </tr>\n",
       "    <tr>\n",
       "      <th>10</th>\n",
       "      <td>Nieciecza</td>\n",
       "      <td>Termalica Bruk-Bet Nieciecza[g]</td>\n",
       "      <td>4600</td>\n",
       "      <td>2015/2016</td>\n",
       "    </tr>\n",
       "    <tr>\n",
       "      <th>11</th>\n",
       "      <td>Nieciecza</td>\n",
       "      <td>Bruk-Bet Termalica NiecieczaSandecja Nowy Sącz...</td>\n",
       "      <td>4 666</td>\n",
       "      <td>2017/2018</td>\n",
       "    </tr>\n",
       "    <tr>\n",
       "      <th>12</th>\n",
       "      <td>Szczecin</td>\n",
       "      <td>Pogoń Szczecin</td>\n",
       "      <td>4 197[e]</td>\n",
       "      <td>2019/2020</td>\n",
       "    </tr>\n",
       "  </tbody>\n",
       "</table>\n",
       "</div>"
      ],
      "text/plain": [
       "             City                                               Club  \\\n",
       "0       Białystok                              Jagiellonia Białystok   \n",
       "1   Bielsko-Biała                         Podbeskidzie Bielsko-Biała   \n",
       "2          Zabrze                                      Górnik Zabrze   \n",
       "3       Białystok                              Jagiellonia Białystok   \n",
       "4         Gliwice                      Piast GliwiceRuch Chorzów[ae]   \n",
       "5   Bielsko-Biała                         Podbeskidzie Bielsko-Biała   \n",
       "6          Zabrze                                      Górnik Zabrze   \n",
       "7          Zabrze                                      Górnik Zabrze   \n",
       "8   Bielsko-Biała                         Podbeskidzie Bielsko-Biała   \n",
       "9          Mielec                    Termalica Bruk-Bet Nieciecza[f]   \n",
       "10      Nieciecza                    Termalica Bruk-Bet Nieciecza[g]   \n",
       "11      Nieciecza  Bruk-Bet Termalica NiecieczaSandecja Nowy Sącz...   \n",
       "12       Szczecin                                     Pogoń Szczecin   \n",
       "\n",
       "      Capacity     season  \n",
       "0      7500[b]  2013/2014  \n",
       "1      3404[c]  2013/2014  \n",
       "2      3000[d]  2013/2014  \n",
       "3   22 386[ad]  2014/2015  \n",
       "4       10 037  2014/2015  \n",
       "5     6962[af]  2014/2015  \n",
       "6     3000[ag]  2014/2015  \n",
       "7    24 413[d]  2015/2016  \n",
       "8      6962[e]  2015/2016  \n",
       "9         6864  2015/2016  \n",
       "10        4600  2015/2016  \n",
       "11       4 666  2017/2018  \n",
       "12    4 197[e]  2019/2020  "
      ]
     },
     "execution_count": 38,
     "metadata": {},
     "output_type": "execute_result"
    }
   ],
   "source": [
    "# Information below has been manually verified on wikipedia pages\n",
    "\n",
    "stad_to_investigate\n",
    "# 0 - stadium under construction\n",
    "# 1 - stadium under construction, max stadium capacity equals 3651\n",
    "# 2 - stadium under construction\n",
    "# 3 - stadium under construction, with given capacity was finished in october (before 12th round), before it had capacity of 7500\n",
    "# 4 - 2nd leg match Ruch Chorzów vs Górnik Łęczna was played in Gliwice\n",
    "# 5 - stadium under construction, before February 2015 maximum capacity equals 3404\n",
    "# 6 - stadium under construction\n",
    "# 7 - stadium under construction, until 10th round max capacity equals 5520. Then until 22nd leg - 8500 \n",
    "# 8 - stadium under construction\n",
    "# 9 - until 15th round Termalica played in Mielec\n",
    "# 10 - starting from 16th leg\n",
    "# 11 - Sandecja played in Nieciecza\n",
    "# 12 - stadium under construction"
   ]
  },
  {
   "cell_type": "code",
   "execution_count": 39,
   "metadata": {},
   "outputs": [],
   "source": [
    "# Insert the inConstruction column to results df and fill in the information gained manually.\n",
    "results.insert(len(results.columns), 'inConstruction', 0) \n",
    "\n",
    "#0\n",
    "results.loc[(results['home_team'] == 'Jagiellonia Białystok') & (results['season'] == '2013/2014'), ['City', 'Capacity', 'inConstruction']] = ['Białystok', 7500, 1]\n",
    "#1 \n",
    "results.loc[(results['home_team'] == 'Podbeskidzie Bielsko-Biała') & (results['season'] == '2013/2014'), ['City', 'Capacity', 'inConstruction']] = ['Bielsko-Biała', 3651, 1]\n",
    "#2\n",
    "results.loc[(results['home_team'] == 'Górnik Zabrze') & (results['season'] == '2013/2014'), ['City', 'Capacity', 'inConstruction']] = ['Zabrze', 3000, 1]\n",
    "#3\n",
    "results.loc[(results['home_team'] == 'Jagiellonia Białystok') & (results['season'] == '2014/2015') & (results['round'] < 12), ['City', 'Capacity', 'inConstruction']] = ['Białystok', 7500, 1]\n",
    "results.loc[(results['home_team'] == 'Jagiellonia Białystok') & (results['season'] == '2014/2015') & (results['round'] >= 12), ['City', 'Capacity', 'inConstruction']] = ['Białystok', 22386, 1]\n",
    "#4\n",
    "results.loc[(results['home_team'] == 'Piast Gliwice') & (results['season'] == '2014/2015'), ['City', 'Capacity', 'inConstruction']] = ['Gliwice', 10037, 0]\n",
    "results.loc[(results['home_team'] == 'Ruch Chorzów') & (results['season'] == '2014/2015') & (results['round'] == 2), ['City', 'Capacity', 'inConstruction']] = ['Gliwice', 10037, 0]\n",
    "#5\n",
    "results.loc[(results['home_team'] == 'Podbeskidzie Bielsko-Biała') & (results['season'] == '2014/2015') & (results['round'] < 20), ['City', 'Capacity', 'inConstruction']] = ['Bielsko-Biała', 3404, 1]\n",
    "results.loc[(results['home_team'] == 'Podbeskidzie Bielsko-Biała') & (results['season'] == '2014/2015') & (results['round'] > 20), ['City', 'Capacity', 'inConstruction']] = ['Bielsko-Biała', 6962, 1]\n",
    "#6\n",
    "results.loc[(results['home_team'] == 'Górnik Zabrze') & (results['season'] == '2014/2015'), ['City', 'Capacity', 'inConstruction']] = ['Zabrze', 3000, 1]\n",
    "#7\n",
    "results.loc[(results['home_team'] == 'Górnik Zabrze') & (results['season'] == '2015/2016') & (results['round'] <= 10), ['City', 'Capacity', 'inConstruction']] = ['Zabrze', 5520, 1]\n",
    "results.loc[(results['home_team'] == 'Górnik Zabrze') & (results['season'] == '2015/2016') & (results['round'] > 10) & (results['round'] <= 22), ['City', 'Capacity', 'inConstruction']] = ['Zabrze', 8500, 1]\n",
    "results.loc[(results['home_team'] == 'Górnik Zabrze') & (results['season'] == '2015/2016') & (results['round'] > 22), ['City', 'Capacity', 'inConstruction']] = ['Zabrze', 24413, 1]\n",
    "#8\n",
    "results.loc[(results['home_team'] == 'Podbeskidzie Bielsko-Biała') & (results['season'] == '2015/2016'), ['City', 'Capacity', 'inConstruction']] = ['Bielsko-Biała', 6962, 1]\n",
    "#9\n",
    "results.loc[(results['home_team'] == 'Termalica Nieciecza') & (results['season'] == '2015/2016') & (results['round'] <= 15), ['City', 'Capacity', 'inConstruction']] = ['Mielec', 6864, 0]\n",
    "#10\n",
    "results.loc[(results['home_team'] == 'Termalica Nieciecza') & (results['season'] == '2015/2016') & (results['round'] > 15), ['City', 'Capacity', 'inConstruction']] = ['Nieciecza', 4600, 0]\n",
    "#11\n",
    "results.loc[(results['home_team'] == 'Termalica Nieciecza') & (results['season'] == '2017/2018'), ['City', 'Capacity', 'inConstruction']] = ['Nieciecza', 4666, 0]\n",
    "results.loc[(results['home_team'] == 'Sandecja Nowy Sącz') & (results['season'] == '2017/2018'), ['City', 'Capacity', 'inConstruction']] = ['Nieciecza', 4666, 0]\n",
    "#12\n",
    "results.loc[(results['home_team'] == 'Pogoń Szczecin') & (results['season'] == '2019/2020'), ['City', 'Capacity', 'inConstruction']] = ['Szczecin', 4197, 1]"
   ]
  },
  {
   "cell_type": "code",
   "execution_count": 40,
   "metadata": {},
   "outputs": [],
   "source": [
    "# Convert capacity to int\n",
    "results['Capacity'] = results['Capacity'].astype('int')"
   ]
  },
  {
   "cell_type": "code",
   "execution_count": 41,
   "metadata": {},
   "outputs": [],
   "source": [
    "# Check if there is any missing data in columns joined\n",
    "assert ~results[['City', 'Capacity', 'inConstruction']].isnull().any().any()"
   ]
  },
  {
   "cell_type": "markdown",
   "metadata": {},
   "source": [
    "<br>\n",
    "\n",
    "### Feature extraction <a class=\"anchor\" id=\"feature\"></a>\n",
    "\n",
    "Now it's time to supply the **results** df with features indicating teams' past performance - potential predictors in modelling part.\n",
    "\n",
    "Firstly, the **results** df will be joined togetger with **table** multiple times in order to assign various information from **table** df to any particular match from **results** df. It will be done via **sql queries**. As the *pandasql* library uses the term 'table' internally what causes errors, name of the df is changed to **tablee**."
   ]
  },
  {
   "cell_type": "code",
   "execution_count": 42,
   "metadata": {},
   "outputs": [],
   "source": [
    "tablee = table\n",
    "tablee = tablee.rename(columns={'+/-':'goal_diff'})"
   ]
  },
  {
   "cell_type": "code",
   "execution_count": 43,
   "metadata": {},
   "outputs": [],
   "source": [
    "# Add the rank of the home_team in table when match took place\n",
    "q = \"\"\"SELECT\n",
    "        r.*, t.position as rank\n",
    "     FROM\n",
    "        results r\n",
    "     LEFT JOIN\n",
    "        tablee t\n",
    "           ON r.round = (t.round+1) AND r.home_team = t.Club AND r.season = t.season;\"\"\"\n",
    "\n",
    "results = pysqldf(q)"
   ]
  },
  {
   "cell_type": "code",
   "execution_count": 44,
   "metadata": {},
   "outputs": [],
   "source": [
    "# Add the rank of the away_team in table when match took place\n",
    "q = \"\"\"SELECT\n",
    "        r.*, t.position as rank_opp\n",
    "     FROM\n",
    "        results r\n",
    "     LEFT JOIN\n",
    "        tablee t\n",
    "           ON r.round = (t.round+1) AND r.away_team = t.Club AND r.season = t.season;\"\"\"\n",
    "\n",
    "results = pysqldf(q)"
   ]
  },
  {
   "cell_type": "code",
   "execution_count": 45,
   "metadata": {},
   "outputs": [],
   "source": [
    "# Add the goal difference for the home_team prior to the match\n",
    "q = \"\"\"SELECT\n",
    "        r.*, t.goal_diff as goal_diff\n",
    "     FROM\n",
    "        results r\n",
    "     LEFT JOIN\n",
    "        tablee t\n",
    "           ON r.round = (t.round+1) AND r.home_team = t.Club AND r.season = t.season;\"\"\"\n",
    "\n",
    "results = pysqldf(q)"
   ]
  },
  {
   "cell_type": "code",
   "execution_count": 46,
   "metadata": {},
   "outputs": [],
   "source": [
    "# Add points gained, goals scored and goal difference for the home_team in last 1-10 matches.\n",
    "q = \"\"\"SELECT\n",
    "        r.*,\n",
    "        (t.Pts - t1.Pts) as pts_l1m,\n",
    "        (t.Pts - t2.Pts) as pts_l2m,\n",
    "        (t.Pts - t3.Pts) as pts_l3m,\n",
    "        (t.Pts - t4.Pts) as pts_l4m,\n",
    "        (t.Pts - t5.Pts) as pts_l5m,\n",
    "        (t.Pts - t6.Pts) as pts_l6m,\n",
    "        (t.Pts - t7.Pts) as pts_l7m,\n",
    "        (t.Pts - t8.Pts) as pts_l8m,\n",
    "        (t.Pts - t9.Pts) as pts_l9m,\n",
    "        (t.Pts - t10.Pts) as pts_l10m,\n",
    "        (t.goals_for - t1.goals_for) as gs_l1m,\n",
    "        (t.goals_for - t2.goals_for) as gs_l2m,\n",
    "        (t.goals_for - t3.goals_for) as gs_l3m,\n",
    "        (t.goals_for - t4.goals_for) as gs_l4m,\n",
    "        (t.goals_for - t5.goals_for) as gs_l5m,\n",
    "        (t.goals_for - t6.goals_for) as gs_l6m,\n",
    "        (t.goals_for - t7.goals_for) as gs_l7m,\n",
    "        (t.goals_for - t8.goals_for) as gs_l8m,\n",
    "        (t.goals_for - t9.goals_for) as gs_l9m,\n",
    "        (t.goals_for - t10.goals_for) as gs_l10m,\n",
    "        (t.goal_diff - t1.goal_diff) as gd_l1m,\n",
    "        (t.goal_diff - t2.goal_diff) as gd_l2m,\n",
    "        (t.goal_diff - t3.goal_diff) as gd_l3m,\n",
    "        (t.goal_diff - t4.goal_diff) as gd_l4m,\n",
    "        (t.goal_diff - t5.goal_diff) as gd_l5m,\n",
    "        (t.goal_diff - t6.goal_diff) as gd_l6m,\n",
    "        (t.goal_diff - t7.goal_diff) as gd_l7m,\n",
    "        (t.goal_diff - t8.goal_diff) as gd_l8m,\n",
    "        (t.goal_diff - t9.goal_diff) as gd_l9m,\n",
    "        (t.goal_diff - t10.goal_diff) as gd_l10m\n",
    "     FROM\n",
    "        results r\n",
    "     LEFT JOIN\n",
    "        tablee t\n",
    "           ON r.round = (t.round+1) AND r.home_team = t.Club AND r.season = t.season\n",
    "     LEFT JOIN\n",
    "        tablee t1\n",
    "           ON (t.round+1) = (t1.round+2) AND t.Club = t1.Club AND t.season = t1.season\n",
    "     LEFT JOIN\n",
    "        tablee t2\n",
    "           ON (t.round+1) = (t2.round+3) AND t.Club = t2.Club AND t.season = t2.season\n",
    "     LEFT JOIN\n",
    "        tablee t3\n",
    "           ON (t.round+1) = (t3.round+4) AND t.Club = t3.Club AND t.season = t3.season\n",
    "     LEFT JOIN\n",
    "        tablee t4\n",
    "           ON (t.round+1) = (t4.round+5) AND t.Club = t4.Club AND t.season = t4.season\n",
    "     LEFT JOIN\n",
    "        tablee t5\n",
    "           ON (t.round+1) = (t5.round+6) AND t.Club = t5.Club AND t.season = t5.season\n",
    "     LEFT JOIN\n",
    "        tablee t6\n",
    "           ON (t.round+1) = (t6.round+7) AND t.Club = t6.Club AND t.season = t6.season      \n",
    "     LEFT JOIN\n",
    "        tablee t7\n",
    "           ON (t.round+1) = (t7.round+8) AND t.Club = t7.Club AND t.season = t7.season\n",
    "     LEFT JOIN\n",
    "        tablee t8\n",
    "           ON (t.round+1) = (t8.round+9) AND t.Club = t8.Club AND t.season = t8.season\n",
    "     LEFT JOIN\n",
    "        tablee t9\n",
    "           ON (t.round+1) = (t9.round+10) AND t.Club = t9.Club AND t.season = t9.season      \n",
    "     LEFT JOIN\n",
    "        tablee t10\n",
    "           ON (t.round+1) = (t10.round+11) AND t.Club = t10.Club AND t.season = t10.season;\"\"\"\n",
    "\n",
    "results = pysqldf(q)"
   ]
  },
  {
   "cell_type": "markdown",
   "metadata": {},
   "source": [
    "<br>\n",
    "\n",
    "Now, that all available, valuable information has been retreived from the **tablee** df, we can focus on the **results** df itself.\n",
    "<br>\n",
    "<br>"
   ]
  },
  {
   "cell_type": "code",
   "execution_count": 47,
   "metadata": {},
   "outputs": [],
   "source": [
    "# Add feature indicating the difference in ranks of away and home team.\n",
    "results['rank_diff'] = results['rank_opp'] - results['rank']"
   ]
  },
  {
   "cell_type": "code",
   "execution_count": 48,
   "metadata": {},
   "outputs": [],
   "source": [
    "# Create and apply a function to indicate whether the match was played in main season or during final round (last 7 rounds)\n",
    "def fin_round(row):\n",
    "    if row['round'] <= 30:\n",
    "        return(0)\n",
    "    else:\n",
    "        return(1)\n",
    "\n",
    "results['final_round'] = results.apply(fin_round, axis=1)"
   ]
  },
  {
   "cell_type": "code",
   "execution_count": 49,
   "metadata": {},
   "outputs": [],
   "source": [
    "# Create and apply a function to check if the match was played in club's home town or somewhere else\n",
    "def city_check(row):\n",
    "    if row['home_team'].split(' ', 1)[1] == row['City']:\n",
    "        return(1)\n",
    "    else:\n",
    "        return(0)\n",
    "\n",
    "results['own_city'] = results.apply(city_check, axis=1)"
   ]
  },
  {
   "cell_type": "code",
   "execution_count": 50,
   "metadata": {},
   "outputs": [],
   "source": [
    "# Create a date column in datetime format\n",
    "results['date'] = pd.to_datetime(results[['year', 'month', 'day']])\n",
    "\n",
    "# Retreive and add weekday\n",
    "results['weekday'] =  results['date'].dt.day_name()\n",
    "\n",
    "# Convert hour string into float with decimal places indicating part of full hour (18:30 -> 18.5)\n",
    "results['hour_dec'] = [int(row.split(':')[0]) + int(row.split(':')[1])/60 for row in results['hour']] "
   ]
  },
  {
   "cell_type": "markdown",
   "metadata": {},
   "source": [
    "<br>\n",
    "\n",
    "## Add weather data <a class=\"anchor\" id=\"weather\"></a>\n",
    "\n",
    "In this section, the information about weather during and before the match is added to the dataset. It is done via [World weather online](https://www.worldweatheronline.com/) **API**.\n",
    "\n",
    "**NOTE**: This API requests take considerable amount of time to complete. The number of daily requests is also limited (free trial account). Thus, the code block below is commented to show how the data has been obtained but not to be executed every time the script is run. Instead, after completing, the data has been saved into *pkl* file and will be imported further on."
   ]
  },
  {
   "cell_type": "code",
   "execution_count": 51,
   "metadata": {},
   "outputs": [],
   "source": [
    "# # Get min and max date of some match played by city\n",
    "# city_dates = results.groupby('City', as_index=False)\n",
    "# city_dates = city_dates['date'].agg(['min', 'max'])\n",
    "\n",
    "# weather = pd.DataFrame()\n",
    "\n",
    "# # Construct an API call with hourly frequency\n",
    "# frequency=1\n",
    "# api_key = MY_KEY\n",
    "\n",
    "\n",
    "# for city in city_dates.index:\n",
    "    \n",
    "#     # Remove polish diacritics with use of trans library\n",
    "#     location_list = [trans(city)]\n",
    "    \n",
    "#     start_date = city_dates.loc[city, 'min'].strftime('%d-%b-%Y')\n",
    "#     end_date = city_dates.loc[city, 'max'].strftime('%d-%b-%Y')\n",
    "    \n",
    "#     data = retrieve_hist_data(api_key,\n",
    "#                             location_list,\n",
    "#                             start_date,\n",
    "#                             end_date,\n",
    "#                             frequency,\n",
    "#                             location_label = False,\n",
    "#                             export_csv = False,\n",
    "#                             store_df = True)\n",
    "    \n",
    "#     weather = weather.append(data, ignore_index=True)\n",
    "\n",
    "# # Select desired columns\n",
    "# weather = weather[['date_time', 'cloudcover', 'precipMM', 'tempC', 'location']]\n",
    "    \n",
    "# weather.to_pickle('data/weather.pkl')"
   ]
  },
  {
   "cell_type": "code",
   "execution_count": 52,
   "metadata": {},
   "outputs": [
    {
     "data": {
      "text/html": [
       "<div>\n",
       "<style scoped>\n",
       "    .dataframe tbody tr th:only-of-type {\n",
       "        vertical-align: middle;\n",
       "    }\n",
       "\n",
       "    .dataframe tbody tr th {\n",
       "        vertical-align: top;\n",
       "    }\n",
       "\n",
       "    .dataframe thead th {\n",
       "        text-align: right;\n",
       "    }\n",
       "</style>\n",
       "<table border=\"1\" class=\"dataframe\">\n",
       "  <thead>\n",
       "    <tr style=\"text-align: right;\">\n",
       "      <th></th>\n",
       "      <th>date_time</th>\n",
       "      <th>cloudcover</th>\n",
       "      <th>precipMM</th>\n",
       "      <th>tempC</th>\n",
       "      <th>location</th>\n",
       "    </tr>\n",
       "  </thead>\n",
       "  <tbody>\n",
       "    <tr>\n",
       "      <th>0</th>\n",
       "      <td>2014-07-25 00:00:00</td>\n",
       "      <td>100</td>\n",
       "      <td>0.0</td>\n",
       "      <td>16</td>\n",
       "      <td>Belchatow</td>\n",
       "    </tr>\n",
       "    <tr>\n",
       "      <th>1</th>\n",
       "      <td>2014-07-25 01:00:00</td>\n",
       "      <td>96</td>\n",
       "      <td>0.0</td>\n",
       "      <td>16</td>\n",
       "      <td>Belchatow</td>\n",
       "    </tr>\n",
       "    <tr>\n",
       "      <th>2</th>\n",
       "      <td>2014-07-25 02:00:00</td>\n",
       "      <td>91</td>\n",
       "      <td>0.5</td>\n",
       "      <td>16</td>\n",
       "      <td>Belchatow</td>\n",
       "    </tr>\n",
       "    <tr>\n",
       "      <th>3</th>\n",
       "      <td>2014-07-25 03:00:00</td>\n",
       "      <td>87</td>\n",
       "      <td>0.6</td>\n",
       "      <td>16</td>\n",
       "      <td>Belchatow</td>\n",
       "    </tr>\n",
       "    <tr>\n",
       "      <th>4</th>\n",
       "      <td>2014-07-25 04:00:00</td>\n",
       "      <td>91</td>\n",
       "      <td>0.3</td>\n",
       "      <td>17</td>\n",
       "      <td>Belchatow</td>\n",
       "    </tr>\n",
       "  </tbody>\n",
       "</table>\n",
       "</div>"
      ],
      "text/plain": [
       "            date_time cloudcover precipMM tempC   location\n",
       "0 2014-07-25 00:00:00        100      0.0    16  Belchatow\n",
       "1 2014-07-25 01:00:00         96      0.0    16  Belchatow\n",
       "2 2014-07-25 02:00:00         91      0.5    16  Belchatow\n",
       "3 2014-07-25 03:00:00         87      0.6    16  Belchatow\n",
       "4 2014-07-25 04:00:00         91      0.3    17  Belchatow"
      ]
     },
     "execution_count": 52,
     "metadata": {},
     "output_type": "execute_result"
    }
   ],
   "source": [
    "weather = pd.read_pickle('data/weather.pkl')\n",
    "weather.head()"
   ]
  },
  {
   "cell_type": "code",
   "execution_count": 53,
   "metadata": {},
   "outputs": [],
   "source": [
    "# Create separate columns for date and hour\n",
    "weather['date'] = weather['date_time'].dt.date\n",
    "weather['hour'] = weather['date_time'].dt.strftime('%H:%M')"
   ]
  },
  {
   "cell_type": "code",
   "execution_count": 54,
   "metadata": {},
   "outputs": [
    {
     "name": "stdout",
     "output_type": "stream",
     "text": [
      "<class 'pandas.core.frame.DataFrame'>\n",
      "RangeIndex: 944640 entries, 0 to 944639\n",
      "Data columns (total 7 columns):\n",
      " #   Column      Non-Null Count   Dtype         \n",
      "---  ------      --------------   -----         \n",
      " 0   date_time   944640 non-null  datetime64[ns]\n",
      " 1   cloudcover  944640 non-null  object        \n",
      " 2   precipMM    944640 non-null  object        \n",
      " 3   tempC       944640 non-null  object        \n",
      " 4   location    944640 non-null  object        \n",
      " 5   date        944640 non-null  object        \n",
      " 6   hour        944640 non-null  object        \n",
      "dtypes: datetime64[ns](1), object(6)\n",
      "memory usage: 50.4+ MB\n"
     ]
    }
   ],
   "source": [
    "# Check the column dtypes\n",
    "weather.info()"
   ]
  },
  {
   "cell_type": "code",
   "execution_count": 55,
   "metadata": {},
   "outputs": [],
   "source": [
    "# Convert numeric columns to float\n",
    "weather[['cloudcover', 'precipMM', 'tempC']] = weather[['cloudcover', 'precipMM', 'tempC']].astype('float')"
   ]
  },
  {
   "cell_type": "code",
   "execution_count": 56,
   "metadata": {},
   "outputs": [
    {
     "data": {
      "application/vnd.jupyter.widget-view+json": {
       "model_id": "3959034f96e64618ae58b1ed83c6883c",
       "version_major": 2,
       "version_minor": 0
      },
      "text/plain": [
       "HBox(children=(FloatProgress(value=0.0, max=11.0), HTML(value='')))"
      ]
     },
     "metadata": {},
     "output_type": "display_data"
    },
    {
     "name": "stdout",
     "output_type": "stream",
     "text": [
      "\n"
     ]
    }
   ],
   "source": [
    "# Create columns indicating the 2h-12h rolling average for cloudcover and temperature. Also add the sum of precipitation in given periods.\n",
    "\n",
    "for i in tqdm(np.arange(2, 13, 1)):\n",
    "    \n",
    "    weather[['cloudcover_avg' + str(i) + 'h', 'tempC_avg' + str(i) + 'h']] = \\\n",
    "    weather.groupby(['location', 'date'])[['cloudcover', 'tempC']].transform(lambda x: x.rolling(i, 1).mean().round(2))\n",
    "    \n",
    "    weather['precip_sum' + str(i) + 'h'] = weather.groupby(['location', 'date'])['precipMM'].transform(lambda x: x.rolling(i, 1).sum().round(2))"
   ]
  },
  {
   "cell_type": "code",
   "execution_count": 57,
   "metadata": {},
   "outputs": [],
   "source": [
    "# Convert date to datetime format\n",
    "weather['date'] = pd.to_datetime(weather['date'])"
   ]
  },
  {
   "cell_type": "code",
   "execution_count": 58,
   "metadata": {},
   "outputs": [],
   "source": [
    "# Insert a column with hour without minutes for merging purposes\n",
    "results['hour_floor'] = results['hour'].str[:2] + ':00'\n",
    "\n",
    "# Remove polish diacritics form city names\n",
    "results['City'] = results['City'].apply(lambda x: trans(x))"
   ]
  },
  {
   "cell_type": "code",
   "execution_count": 59,
   "metadata": {},
   "outputs": [
    {
     "data": {
      "text/html": [
       "<div>\n",
       "<style scoped>\n",
       "    .dataframe tbody tr th:only-of-type {\n",
       "        vertical-align: middle;\n",
       "    }\n",
       "\n",
       "    .dataframe tbody tr th {\n",
       "        vertical-align: top;\n",
       "    }\n",
       "\n",
       "    .dataframe thead th {\n",
       "        text-align: right;\n",
       "    }\n",
       "</style>\n",
       "<table border=\"1\" class=\"dataframe\">\n",
       "  <thead>\n",
       "    <tr style=\"text-align: right;\">\n",
       "      <th></th>\n",
       "      <th>home_team</th>\n",
       "      <th>hg</th>\n",
       "      <th>ag</th>\n",
       "      <th>away_team</th>\n",
       "      <th>day</th>\n",
       "      <th>month</th>\n",
       "      <th>year</th>\n",
       "      <th>hour_x</th>\n",
       "      <th>season</th>\n",
       "      <th>round</th>\n",
       "      <th>...</th>\n",
       "      <th>precip_sum9h</th>\n",
       "      <th>cloudcover_avg10h</th>\n",
       "      <th>tempC_avg10h</th>\n",
       "      <th>precip_sum10h</th>\n",
       "      <th>cloudcover_avg11h</th>\n",
       "      <th>tempC_avg11h</th>\n",
       "      <th>precip_sum11h</th>\n",
       "      <th>cloudcover_avg12h</th>\n",
       "      <th>tempC_avg12h</th>\n",
       "      <th>precip_sum12h</th>\n",
       "    </tr>\n",
       "  </thead>\n",
       "  <tbody>\n",
       "    <tr>\n",
       "      <th>0</th>\n",
       "      <td>Arka Gdynia</td>\n",
       "      <td>0</td>\n",
       "      <td>3</td>\n",
       "      <td>Jagiellonia Białystok</td>\n",
       "      <td>19</td>\n",
       "      <td>7</td>\n",
       "      <td>2019</td>\n",
       "      <td>18:00</td>\n",
       "      <td>2019/2020</td>\n",
       "      <td>1</td>\n",
       "      <td>...</td>\n",
       "      <td>0.0000</td>\n",
       "      <td>28.1000</td>\n",
       "      <td>19.6000</td>\n",
       "      <td>0.0000</td>\n",
       "      <td>26.4500</td>\n",
       "      <td>19.4500</td>\n",
       "      <td>0.0000</td>\n",
       "      <td>25.2500</td>\n",
       "      <td>19.2500</td>\n",
       "      <td>0.0000</td>\n",
       "    </tr>\n",
       "    <tr>\n",
       "      <th>1</th>\n",
       "      <td>Legia Warszawa</td>\n",
       "      <td>1</td>\n",
       "      <td>2</td>\n",
       "      <td>Pogoń Szczecin</td>\n",
       "      <td>21</td>\n",
       "      <td>7</td>\n",
       "      <td>2019</td>\n",
       "      <td>17:30</td>\n",
       "      <td>2019/2020</td>\n",
       "      <td>1</td>\n",
       "      <td>...</td>\n",
       "      <td>0.8000</td>\n",
       "      <td>54.2000</td>\n",
       "      <td>27.2000</td>\n",
       "      <td>0.8000</td>\n",
       "      <td>52.4500</td>\n",
       "      <td>26.8200</td>\n",
       "      <td>0.8000</td>\n",
       "      <td>50.5800</td>\n",
       "      <td>26.3300</td>\n",
       "      <td>0.8000</td>\n",
       "    </tr>\n",
       "    <tr>\n",
       "      <th>2</th>\n",
       "      <td>ŁKS Łódź</td>\n",
       "      <td>0</td>\n",
       "      <td>0</td>\n",
       "      <td>Lechia Gdańsk</td>\n",
       "      <td>19</td>\n",
       "      <td>7</td>\n",
       "      <td>2019</td>\n",
       "      <td>20:30</td>\n",
       "      <td>2019/2020</td>\n",
       "      <td>1</td>\n",
       "      <td>...</td>\n",
       "      <td>0.2000</td>\n",
       "      <td>51.1000</td>\n",
       "      <td>24.8000</td>\n",
       "      <td>0.2000</td>\n",
       "      <td>49.0000</td>\n",
       "      <td>24.7300</td>\n",
       "      <td>0.2000</td>\n",
       "      <td>47.1700</td>\n",
       "      <td>24.5800</td>\n",
       "      <td>0.2000</td>\n",
       "    </tr>\n",
       "    <tr>\n",
       "      <th>3</th>\n",
       "      <td>Piast Gliwice</td>\n",
       "      <td>1</td>\n",
       "      <td>1</td>\n",
       "      <td>Lech Poznań</td>\n",
       "      <td>20</td>\n",
       "      <td>7</td>\n",
       "      <td>2019</td>\n",
       "      <td>20:00</td>\n",
       "      <td>2019/2020</td>\n",
       "      <td>1</td>\n",
       "      <td>...</td>\n",
       "      <td>0.0000</td>\n",
       "      <td>44.8000</td>\n",
       "      <td>26.2000</td>\n",
       "      <td>0.0000</td>\n",
       "      <td>43.9100</td>\n",
       "      <td>26.0900</td>\n",
       "      <td>0.0000</td>\n",
       "      <td>42.8300</td>\n",
       "      <td>25.9200</td>\n",
       "      <td>0.0000</td>\n",
       "    </tr>\n",
       "    <tr>\n",
       "      <th>4</th>\n",
       "      <td>Raków Częstochowa</td>\n",
       "      <td>0</td>\n",
       "      <td>1</td>\n",
       "      <td>Korona Kielce</td>\n",
       "      <td>20</td>\n",
       "      <td>7</td>\n",
       "      <td>2019</td>\n",
       "      <td>15:00</td>\n",
       "      <td>2019/2020</td>\n",
       "      <td>1</td>\n",
       "      <td>...</td>\n",
       "      <td>0.7000</td>\n",
       "      <td>64.2000</td>\n",
       "      <td>23.0000</td>\n",
       "      <td>1.0000</td>\n",
       "      <td>65.0900</td>\n",
       "      <td>22.4500</td>\n",
       "      <td>1.2000</td>\n",
       "      <td>65.5000</td>\n",
       "      <td>22.0000</td>\n",
       "      <td>1.6000</td>\n",
       "    </tr>\n",
       "  </tbody>\n",
       "</table>\n",
       "<p>5 rows × 93 columns</p>\n",
       "</div>"
      ],
      "text/plain": [
       "           home_team  hg  ag              away_team  day  month  year hour_x  \\\n",
       "0        Arka Gdynia   0   3  Jagiellonia Białystok   19      7  2019  18:00   \n",
       "1     Legia Warszawa   1   2         Pogoń Szczecin   21      7  2019  17:30   \n",
       "2           ŁKS Łódź   0   0          Lechia Gdańsk   19      7  2019  20:30   \n",
       "3      Piast Gliwice   1   1            Lech Poznań   20      7  2019  20:00   \n",
       "4  Raków Częstochowa   0   1          Korona Kielce   20      7  2019  15:00   \n",
       "\n",
       "      season  round  ...  precip_sum9h cloudcover_avg10h  tempC_avg10h  \\\n",
       "0  2019/2020      1  ...        0.0000           28.1000       19.6000   \n",
       "1  2019/2020      1  ...        0.8000           54.2000       27.2000   \n",
       "2  2019/2020      1  ...        0.2000           51.1000       24.8000   \n",
       "3  2019/2020      1  ...        0.0000           44.8000       26.2000   \n",
       "4  2019/2020      1  ...        0.7000           64.2000       23.0000   \n",
       "\n",
       "   precip_sum10h  cloudcover_avg11h  tempC_avg11h  precip_sum11h  \\\n",
       "0         0.0000            26.4500       19.4500         0.0000   \n",
       "1         0.8000            52.4500       26.8200         0.8000   \n",
       "2         0.2000            49.0000       24.7300         0.2000   \n",
       "3         0.0000            43.9100       26.0900         0.0000   \n",
       "4         1.0000            65.0900       22.4500         1.2000   \n",
       "\n",
       "   cloudcover_avg12h  tempC_avg12h  precip_sum12h  \n",
       "0            25.2500       19.2500         0.0000  \n",
       "1            50.5800       26.3300         0.8000  \n",
       "2            47.1700       24.5800         0.2000  \n",
       "3            42.8300       25.9200         0.0000  \n",
       "4            65.5000       22.0000         1.6000  \n",
       "\n",
       "[5 rows x 93 columns]"
      ]
     },
     "execution_count": 59,
     "metadata": {},
     "output_type": "execute_result"
    }
   ],
   "source": [
    "# Merge results with weather information\n",
    "results = results.merge(weather, how='left', left_on=['City', 'date', 'hour_floor'], right_on=['location', 'date', 'hour'])\n",
    "results.head()"
   ]
  },
  {
   "cell_type": "code",
   "execution_count": 60,
   "metadata": {},
   "outputs": [],
   "source": [
    "results = results.drop(['hour_y', 'location', 'hour_floor', 'cloudcover', 'precipMM', 'tempC'], axis=1)\n",
    "results = results.rename(columns={'hour_x': 'hour'})"
   ]
  },
  {
   "cell_type": "code",
   "execution_count": 61,
   "metadata": {},
   "outputs": [],
   "source": [
    "results.to_pickle('data/results.pkl')"
   ]
  },
  {
   "cell_type": "markdown",
   "metadata": {},
   "source": [
    "<br>\n",
    "\n",
    "### Missing values, outliers, encoding <a class=\"anchor\" id=\"preparation\"></a>\n",
    "\n",
    "In this part the data is going to be prepared for modelling. But first, we'll calculate the three errors as if we were **guessing the number of attendees by the mean specific for each club**. It has to be done now as later on, the *home_team* column will be one-hot encoded so there will be no possibility for using a *groupby* function. "
   ]
  },
  {
   "cell_type": "code",
   "execution_count": 62,
   "metadata": {},
   "outputs": [],
   "source": [
    "results = pd.read_pickle('data/results.pkl')"
   ]
  },
  {
   "cell_type": "code",
   "execution_count": 63,
   "metadata": {},
   "outputs": [],
   "source": [
    "# Remove rows with no attendance\n",
    "res = results[results['attendance'] != 0]\n",
    "\n",
    "# Create a dictionary containing mean attendance values for each club\n",
    "means = dict(res.groupby('home_team').attendance.mean())\n",
    "\n",
    "# Calculate Mean Absoulute Error\n",
    "mae_club = int(abs(res.attendance - res['home_team'].map(means)).mean())\n",
    "\n",
    "# Calculate Mean Absoulute Percentage Error\n",
    "mape_club = np.round(((abs(res.attendance - res['home_team'].map(means)).mean())/res.attendance).mean()*100, 2)\n",
    "\n",
    "# Calculate Root Mean Squared Error\n",
    "rmse_club = int(np.sqrt(MSE(res.attendance, res['home_team'].map(means))))"
   ]
  },
  {
   "cell_type": "markdown",
   "metadata": {},
   "source": [
    "<br>\n",
    "\n",
    "Next, let's see if there is any **missing data**.\n",
    "<br>\n",
    "<br>"
   ]
  },
  {
   "cell_type": "code",
   "execution_count": 64,
   "metadata": {},
   "outputs": [
    {
     "data": {
      "text/plain": [
       "['rank',\n",
       " 'rank_opp',\n",
       " 'goal_diff',\n",
       " 'pts_l1m',\n",
       " 'pts_l2m',\n",
       " 'pts_l3m',\n",
       " 'pts_l4m',\n",
       " 'pts_l5m',\n",
       " 'pts_l6m',\n",
       " 'pts_l7m',\n",
       " 'pts_l8m',\n",
       " 'pts_l9m',\n",
       " 'pts_l10m',\n",
       " 'gs_l1m',\n",
       " 'gs_l2m',\n",
       " 'gs_l3m',\n",
       " 'gs_l4m',\n",
       " 'gs_l5m',\n",
       " 'gs_l6m',\n",
       " 'gs_l7m',\n",
       " 'gs_l8m',\n",
       " 'gs_l9m',\n",
       " 'gs_l10m',\n",
       " 'gd_l1m',\n",
       " 'gd_l2m',\n",
       " 'gd_l3m',\n",
       " 'gd_l4m',\n",
       " 'gd_l5m',\n",
       " 'gd_l6m',\n",
       " 'gd_l7m',\n",
       " 'gd_l8m',\n",
       " 'gd_l9m',\n",
       " 'gd_l10m',\n",
       " 'rank_diff']"
      ]
     },
     "execution_count": 64,
     "metadata": {},
     "output_type": "execute_result"
    }
   ],
   "source": [
    "col_wNan = results.columns[results.isnull().any()].tolist()\n",
    "col_wNan"
   ]
  },
  {
   "cell_type": "markdown",
   "metadata": {},
   "source": [
    "<br>\n",
    "\n",
    "We can see that missing values are present within features representing past teams' performance. It is especially true for the first rounds in each season, as team has no *rank* before the very first match of the season was played. Similarly in, say, 4th round the teams has no value in column showing number of points gained in last 6 matches. Therefore, not to exclude those matches from the model, missing values are going to be **imputed** as the median for each club, by season.\n",
    "<br>\n",
    "<br>"
   ]
  },
  {
   "cell_type": "code",
   "execution_count": 65,
   "metadata": {},
   "outputs": [],
   "source": [
    "for col in col_wNan:\n",
    "    results[col] = results.groupby(['home_team', 'season'])[col].apply(lambda x: x.fillna(x.median()))"
   ]
  },
  {
   "cell_type": "code",
   "execution_count": 66,
   "metadata": {},
   "outputs": [],
   "source": [
    "# Check if there are no more missing values left\n",
    "assert ~results.isnull().any().any()"
   ]
  },
  {
   "cell_type": "markdown",
   "metadata": {},
   "source": [
    "<br>\n",
    "\n",
    "**Drop** columns, that will not be used as features in the model.\n",
    "<br>\n",
    "<br>"
   ]
  },
  {
   "cell_type": "code",
   "execution_count": 67,
   "metadata": {},
   "outputs": [],
   "source": [
    "results = results.drop(['hg', 'ag', 'day', 'hour', 'season', 'City', 'date', 'date_time', 'year'], axis=1)"
   ]
  },
  {
   "cell_type": "markdown",
   "metadata": {},
   "source": [
    "\n",
    "<br>\n",
    "\n",
    "Next step is to handle **outliers**, that could potentially bias our predictions. Columns checked for presence of outliers are numerical ones, excluding the dummy variables. The method used for outlier detection is the **1.5 * IQR** distance from first and third quartile.\n",
    "<br>\n",
    "<br>"
   ]
  },
  {
   "cell_type": "code",
   "execution_count": 68,
   "metadata": {},
   "outputs": [],
   "source": [
    "# Select numeric, not-dummy columns\n",
    "cols = [col for col in results.columns if not results[col].isin([0,1]).all().all() and results[col].dtype in ['float', 'int', 'float64', 'int64'] and not col.startswith('precip') and col != 'attendance']"
   ]
  },
  {
   "cell_type": "code",
   "execution_count": 69,
   "metadata": {},
   "outputs": [],
   "source": [
    "# Create function counting outliers among given columns\n",
    "def count_outliers(df, columns):\n",
    "    total = 0\n",
    "    for col in columns:\n",
    "        \n",
    "        # Calculate IQR, upper and lower limits\n",
    "        Q1 = df[col].quantile(0.25)\n",
    "        Q3 = df[col].quantile(0.75)\n",
    "        IQR = Q3 - Q1\n",
    "        low, up = Q1 - 1.5*IQR, Q3 + 1.5*IQR\n",
    "        \n",
    "        # Sum number of outliers in column and add to total sum\n",
    "        no_outliers = ((df[col] > up) | (df[col] < low)).sum()\n",
    "        total += no_outliers\n",
    "        print(col+':', no_outliers)\n",
    "    \n",
    "    print('Total number of outlier values: {}'.format(total))\n",
    "    return(total)"
   ]
  },
  {
   "cell_type": "code",
   "execution_count": 70,
   "metadata": {},
   "outputs": [
    {
     "name": "stdout",
     "output_type": "stream",
     "text": [
      "month: 0\n",
      "round: 0\n",
      "Capacity: 0\n",
      "rank: 0\n",
      "rank_opp: 0\n",
      "goal_diff: 89\n",
      "pts_l1m: 0\n",
      "pts_l2m: 0\n",
      "pts_l3m: 0\n",
      "pts_l4m: 38\n",
      "pts_l5m: 0\n",
      "pts_l6m: 4\n",
      "pts_l7m: 1\n",
      "pts_l8m: 13\n",
      "pts_l9m: 2\n",
      "pts_l10m: 4\n",
      "gs_l1m: 7\n",
      "gs_l2m: 16\n",
      "gs_l3m: 46\n",
      "gs_l4m: 23\n",
      "gs_l5m: 53\n",
      "gs_l6m: 16\n",
      "gs_l7m: 26\n",
      "gs_l8m: 17\n",
      "gs_l9m: 37\n",
      "gs_l10m: 26\n",
      "gd_l1m: 25\n",
      "gd_l2m: 35\n",
      "gd_l3m: 16\n",
      "gd_l4m: 41\n",
      "gd_l5m: 37\n",
      "gd_l6m: 15\n",
      "gd_l7m: 33\n",
      "gd_l8m: 40\n",
      "gd_l9m: 45\n",
      "gd_l10m: 15\n",
      "rank_diff: 0\n",
      "hour_dec: 0\n",
      "cloudcover_avg2h: 0\n",
      "tempC_avg2h: 2\n",
      "cloudcover_avg3h: 0\n",
      "tempC_avg3h: 2\n",
      "cloudcover_avg4h: 0\n",
      "tempC_avg4h: 0\n",
      "cloudcover_avg5h: 0\n",
      "tempC_avg5h: 0\n",
      "cloudcover_avg6h: 0\n",
      "tempC_avg6h: 0\n",
      "cloudcover_avg7h: 0\n",
      "tempC_avg7h: 0\n",
      "cloudcover_avg8h: 0\n",
      "tempC_avg8h: 0\n",
      "cloudcover_avg9h: 0\n",
      "tempC_avg9h: 0\n",
      "cloudcover_avg10h: 0\n",
      "tempC_avg10h: 0\n",
      "cloudcover_avg11h: 0\n",
      "tempC_avg11h: 0\n",
      "cloudcover_avg12h: 0\n",
      "tempC_avg12h: 0\n",
      "Total number of outlier values: 724\n"
     ]
    },
    {
     "data": {
      "text/plain": [
       "724"
      ]
     },
     "execution_count": 70,
     "metadata": {},
     "output_type": "execute_result"
    }
   ],
   "source": [
    "count_outliers(results, cols)"
   ]
  },
  {
   "cell_type": "code",
   "execution_count": 71,
   "metadata": {},
   "outputs": [],
   "source": [
    "def handle_outliers(df, columns):\n",
    "    for col in columns:\n",
    "        \n",
    "        # Calculate the IQR and lower and upper limits\n",
    "        Q1 = df[col].quantile(0.25)\n",
    "        Q3 = df[col].quantile(0.75)\n",
    "        IQR = Q3 - Q1\n",
    "        low, up = Q1 - 1.5*IQR, Q3 + 1.5*IQR\n",
    "        \n",
    "        # Cap the outliers\n",
    "        df[col] = df[col].clip(low, up)"
   ]
  },
  {
   "cell_type": "code",
   "execution_count": 72,
   "metadata": {},
   "outputs": [],
   "source": [
    "handle_outliers(results, cols)"
   ]
  },
  {
   "cell_type": "code",
   "execution_count": 73,
   "metadata": {},
   "outputs": [
    {
     "name": "stdout",
     "output_type": "stream",
     "text": [
      "month: 0\n",
      "round: 0\n",
      "Capacity: 0\n",
      "rank: 0\n",
      "rank_opp: 0\n",
      "goal_diff: 0\n",
      "pts_l1m: 0\n",
      "pts_l2m: 0\n",
      "pts_l3m: 0\n",
      "pts_l4m: 0\n",
      "pts_l5m: 0\n",
      "pts_l6m: 0\n",
      "pts_l7m: 0\n",
      "pts_l8m: 0\n",
      "pts_l9m: 0\n",
      "pts_l10m: 0\n",
      "gs_l1m: 0\n",
      "gs_l2m: 0\n",
      "gs_l3m: 0\n",
      "gs_l4m: 0\n",
      "gs_l5m: 0\n",
      "gs_l6m: 0\n",
      "gs_l7m: 0\n",
      "gs_l8m: 0\n",
      "gs_l9m: 0\n",
      "gs_l10m: 0\n",
      "gd_l1m: 0\n",
      "gd_l2m: 0\n",
      "gd_l3m: 0\n",
      "gd_l4m: 0\n",
      "gd_l5m: 0\n",
      "gd_l6m: 0\n",
      "gd_l7m: 0\n",
      "gd_l8m: 0\n",
      "gd_l9m: 0\n",
      "gd_l10m: 0\n",
      "rank_diff: 0\n",
      "hour_dec: 0\n",
      "cloudcover_avg2h: 0\n",
      "tempC_avg2h: 0\n",
      "cloudcover_avg3h: 0\n",
      "tempC_avg3h: 0\n",
      "cloudcover_avg4h: 0\n",
      "tempC_avg4h: 0\n",
      "cloudcover_avg5h: 0\n",
      "tempC_avg5h: 0\n",
      "cloudcover_avg6h: 0\n",
      "tempC_avg6h: 0\n",
      "cloudcover_avg7h: 0\n",
      "tempC_avg7h: 0\n",
      "cloudcover_avg8h: 0\n",
      "tempC_avg8h: 0\n",
      "cloudcover_avg9h: 0\n",
      "tempC_avg9h: 0\n",
      "cloudcover_avg10h: 0\n",
      "tempC_avg10h: 0\n",
      "cloudcover_avg11h: 0\n",
      "tempC_avg11h: 0\n",
      "cloudcover_avg12h: 0\n",
      "tempC_avg12h: 0\n",
      "Total number of outlier values: 0\n"
     ]
    }
   ],
   "source": [
    "assert count_outliers(results, cols) == 0"
   ]
  },
  {
   "cell_type": "markdown",
   "metadata": {},
   "source": [
    "\n",
    "<br>\n",
    "\n",
    "Another thing to do is to **encode** the categorical variables. For this projects' purpose we'll use **one-hot encoding** method.\n",
    "<br>\n",
    "<br>"
   ]
  },
  {
   "cell_type": "code",
   "execution_count": 74,
   "metadata": {},
   "outputs": [],
   "source": [
    "results = pd.get_dummies(data=results, columns=['home_team', 'away_team', 'month', 'weekday'], prefix=['home_team', 'away_team', 'month', 'weekday'], drop_first=False)"
   ]
  },
  {
   "cell_type": "code",
   "execution_count": 75,
   "metadata": {},
   "outputs": [],
   "source": [
    "results.to_pickle('data/final_data.pkl')\n",
    "results.to_csv('data/final_data.csv')"
   ]
  },
  {
   "cell_type": "markdown",
   "metadata": {},
   "source": [
    "<br>\n",
    "\n",
    "## Learning model <a class=\"anchor\" id=\"model\"></a>\n",
    "\n",
    "Finally, we can move to developing a predictive model. "
   ]
  },
  {
   "cell_type": "markdown",
   "metadata": {},
   "source": [
    "<br>\n",
    "\n",
    "### Training the model <a class=\"anchor\" id=\"train\"></a>\n",
    "\n",
    "Before training, all predictors will be scaled to fall in [0,1] range. It is done using sklearn's **MinMaxScaler**."
   ]
  },
  {
   "cell_type": "code",
   "execution_count": 76,
   "metadata": {},
   "outputs": [],
   "source": [
    "# Import the data and remove rows with no attendance at all\n",
    "\n",
    "results = pd.read_pickle('data/final_data.pkl')\n",
    "results = results[results['attendance'] != 0]\n",
    "results = results.reset_index(drop=True)"
   ]
  },
  {
   "cell_type": "code",
   "execution_count": 77,
   "metadata": {},
   "outputs": [],
   "source": [
    "# Split the dataset into y - dependent variable and X - set of features\n",
    "\n",
    "y = results['attendance']\n",
    "X = results[results.columns.difference(['attendance'])]"
   ]
  },
  {
   "cell_type": "code",
   "execution_count": 78,
   "metadata": {},
   "outputs": [],
   "source": [
    "# Scale the X\n",
    "\n",
    "scaler = MinMaxScaler()\n",
    "cols = X.columns\n",
    "X = pd.DataFrame(scaler.fit_transform(X))\n",
    "X.columns = cols"
   ]
  },
  {
   "cell_type": "markdown",
   "metadata": {},
   "source": [
    "\n",
    "<br>\n",
    "\n",
    "First, we run ordinary **linear regression**, so that we have a reference to compare the results of **Lasso regression** with. The results are obtained using **cross validation** with 4 splits. The three chosen measures of the accuracy of the models are: *Mean Absolute Error*, *Mean Absolute Percentage Error*, *Root Mean Squared Error* and *R2 score*.\n",
    "<br>\n",
    "<br>"
   ]
  },
  {
   "cell_type": "code",
   "execution_count": 79,
   "metadata": {},
   "outputs": [],
   "source": [
    "# Create empty lists to store the results\n",
    "linreg_mae = []\n",
    "linreg_mape = []\n",
    "linreg_rmse = []\n",
    "linreg_score = []\n",
    "\n",
    "# Create 4 splits\n",
    "kf = KFold(n_splits = 4, shuffle=True, random_state=420)\n",
    "\n",
    "# Split dataset into train and test\n",
    "for tr, ts in kf.split(X):\n",
    "    X_train, X_test = X.loc[tr], X.loc[ts]\n",
    "    y_train, y_test = y.loc[tr], y.loc[ts]\n",
    "    \n",
    "    # Train the model, fit it and store the accuracy measures \n",
    "    clf = LinearRegression()\n",
    "    clf.fit(X_train, y_train)\n",
    "    pred = clf.predict(X_test)\n",
    "    \n",
    "    linreg_mae.append(MAE(y_test, pred))\n",
    "    linreg_mape.append((abs(y_test - pred)/y_test).mean())\n",
    "    linreg_rmse.append(np.sqrt(MSE(y_test, pred))) \n",
    "    linreg_score.append(clf.score(X_test, y_test))\n",
    "\n",
    "# Calculate means from cv splits    \n",
    "linreg_mae = np.mean(linreg_mae)\n",
    "linreg_mape = np.mean(linreg_mape)*100\n",
    "linreg_rmse = np.mean(linreg_rmse)\n",
    "linreg_score = np.mean(linreg_score)"
   ]
  },
  {
   "cell_type": "markdown",
   "metadata": {},
   "source": [
    "\n",
    "<br>\n",
    "\n",
    "Next, we run **Lasso regression**. Again, cross validation with 4 splits is used with same accuracy measures as before. Scores and coefficients are stored for all splits and alphas.\n",
    "<br>\n",
    "<br>"
   ]
  },
  {
   "cell_type": "code",
   "execution_count": 80,
   "metadata": {},
   "outputs": [],
   "source": [
    "# Create df storing socres, empty coeff list and range of alphas\n",
    "scores = pd.DataFrame(columns = ['alpha', 'score_train', 'score_test', 'mae_train',\n",
    "                                 'mae_test', 'mape_train', 'mape_test', 'rmse_train', 'rmse_test']) \n",
    "lasso_coefficients = []\n",
    "alphas = np.arange(0.1, 21, 0.2)\n",
    "\n",
    "# Create 4 splits\n",
    "kf = KFold(n_splits = 4, shuffle=True, random_state=420)\n",
    "\n",
    "for a in alphas:\n",
    "    \n",
    "    # Split dataset into train and test\n",
    "    for tr, ts in kf.split(X):\n",
    "        X_train, X_test = X.loc[tr], X.loc[ts]\n",
    "        y_train, y_test = y.loc[tr], y.loc[ts]\n",
    "        \n",
    "        # Train the model, fit it and calculate accuracy measures \n",
    "        clf = Lasso(alpha=a)\n",
    "        clf.fit(X_train, y_train)\n",
    "        \n",
    "        pred_train = clf.predict(X_train)\n",
    "        pred_test = clf.predict(X_test)\n",
    "        \n",
    "        mae_train = MAE(y_train, pred_train)\n",
    "        mae_test = MAE(y_test, pred_test)\n",
    "        \n",
    "        mape_train = (abs(y_train - pred_train)/y_train).mean() \n",
    "        mape_test = (abs(y_test - pred_test)/y_test).mean()\n",
    "        \n",
    "        rmse_train = np.sqrt(MSE(y_train, pred_train))\n",
    "        rmse_test = np.sqrt(MSE(y_test, pred_test))\n",
    "               \n",
    "        score_train = clf.score(X_train, y_train)\n",
    "        score_test = clf.score(X_test, y_test)\n",
    "        \n",
    "        # Store the results\n",
    "        scores = scores.append(pd.DataFrame([[a, score_train, score_test, mae_train, mae_test,\n",
    "                                              mape_train, mape_test, rmse_train, rmse_test]],\n",
    "                                    columns=['alpha', 'score_train', 'score_test', 'mae_train', 'mae_test',\n",
    "                                             'mape_train', 'mape_test', 'rmse_train', 'rmse_test']))\n",
    "        \n",
    "    # Get coefficient estimates trained on whole dataset\n",
    "    clf.fit(X, y)\n",
    "    lasso_coefficients.append(clf.coef_)\n",
    "    "
   ]
  },
  {
   "cell_type": "code",
   "execution_count": 81,
   "metadata": {},
   "outputs": [],
   "source": [
    "# Calculate accuracy metrics as the means of the cross-validation splits\n",
    "\n",
    "scores = scores.groupby('alpha', as_index=False).mean()\n",
    "scores[['mape_test', 'mape_train']] = scores[['mape_test', 'mape_train']]*100"
   ]
  },
  {
   "cell_type": "markdown",
   "metadata": {},
   "source": [
    "<br>\n",
    "\n",
    "### Plots creation <a class=\"anchor\" id=\"plots\"></a>\n",
    "\n",
    "In this section all plots describing the models and results are created to be called later in analysis part."
   ]
  },
  {
   "cell_type": "code",
   "execution_count": 96,
   "metadata": {},
   "outputs": [],
   "source": [
    "comparison = plt.figure(figsize=(16, 12))\n",
    "\n",
    "plt.subplot(2, 2, 1)\n",
    "minerr = scores[scores['mae_test'] == scores['mae_test'].min()]\n",
    "minlim = minerr['mae_test'].values*0.995\n",
    "maxlim = linreg_mae*1.005\n",
    "\n",
    "ax = plt.gca()\n",
    "ax.plot(alphas, scores['mae_test'].values, linewidth=5, color='red', label=\"Lasso regression\")\n",
    "ax.plot(alphas, [linreg_mae]*len(alphas), linewidth=4,linestyle='--', color='blue', label='Linear regression')\n",
    "plt.vlines(x=minerr['alpha'].values, ymin=minlim, ymax=minerr['mae_test'].values, linestyle=':', linewidth=4)\n",
    "plt.xlabel('$\\lambda$', fontsize=15)\n",
    "plt.xticks(list(plt.xticks()[0]) + list(minerr['alpha'].values), fontsize=15)\n",
    "plt.yticks(fontsize=15)\n",
    "plt.xlim(0, max(alphas))\n",
    "plt.ylabel('MAE', fontsize=15)\n",
    "plt.ylim(minlim, maxlim)\n",
    "plt.legend(fontsize=15)\n",
    "plt.annotate('lowest error', xy=(minerr['alpha'].values, minerr['mae_test'].values), xytext=(minerr['alpha'].values*2, minerr['mae_test'].values*1.02),\n",
    "             arrowprops=dict(facecolor='black', shrink=0.05), fontsize=15)\n",
    "plt.title('Mean Absolute Error ($\\lambda$)', fontsize=15)\n",
    "###########################################################################################################################################################################\n",
    "\n",
    "plt.subplot(2, 2, 2)\n",
    "minerr = scores[scores['rmse_test'] == scores['rmse_test'].min()]\n",
    "minlim = minerr['rmse_test'].values*0.995\n",
    "maxlim = linreg_rmse*1.005\n",
    "\n",
    "ax = plt.gca()\n",
    "ax.plot(alphas, scores['rmse_test'].values, linewidth=5, color='red', label=\"Lasso regression\")\n",
    "ax.plot(alphas, [linreg_rmse]*len(alphas), linewidth=4,linestyle='--', color='blue', label='Linear regression')\n",
    "plt.vlines(x=minerr['alpha'].values, ymin=minlim, ymax=minerr['rmse_test'].values, linestyle=':', linewidth=4)\n",
    "plt.xlabel('$\\lambda$', fontsize=15)\n",
    "plt.xticks(list(plt.xticks()[0]) + list(minerr['alpha'].values), fontsize=15)\n",
    "plt.yticks(fontsize=15)\n",
    "plt.ylabel('RMSE', fontsize=15)\n",
    "plt.ylim(minlim, maxlim)\n",
    "plt.xlim(0, max(alphas))\n",
    "plt.legend(fontsize=15)\n",
    "plt.annotate('lowest error', xy=(minerr['alpha'].values, minerr['rmse_test'].values), xytext=(minerr['alpha'].values*2, minerr['rmse_test'].values*1.01),\n",
    "             arrowprops=dict(facecolor='black', shrink=0.05), fontsize=15)\n",
    "plt.title('Root Mean Squared Error ($\\lambda$)', fontsize=15)\n",
    "###########################################################################################################################################################################\n",
    "\n",
    "plt.subplot(2, 2, 3)\n",
    "minerr = scores[scores['mape_test'] == scores['mape_test'].min()]\n",
    "minlim = minerr['mape_test'].values*0.995\n",
    "maxlim = linreg_mape*1.005\n",
    "\n",
    "ax = plt.gca()\n",
    "ax.plot(alphas, scores['mape_test'].values, linewidth=5, color='red', label=\"Lasso regression\")\n",
    "ax.plot(alphas, [linreg_mape]*len(alphas), linewidth=4,linestyle='--', color='blue', label='Linear regression')\n",
    "plt.vlines(x=minerr['alpha'].values, ymin=minlim, ymax=minerr['mape_test'].values, linestyle=':', linewidth=4)\n",
    "plt.xlabel('$\\lambda$', fontsize=15)\n",
    "plt.xticks(list(plt.xticks()[0][:-2]) + list(minerr['alpha'].values), fontsize=15)\n",
    "plt.yticks(fontsize=15)\n",
    "plt.ylabel('MAPE', fontsize=15)\n",
    "plt.ylim(minlim, maxlim)\n",
    "plt.xlim(0, max(alphas))\n",
    "plt.legend(fontsize=15)\n",
    "plt.annotate('lowest error', xy=(minerr['alpha'].values, minerr['mape_test'].values),\n",
    "             xytext=(minerr['alpha'].values/1.5, minerr['mape_test'].values*1.03),\n",
    "             arrowprops=dict(facecolor='black', shrink=0.05), fontsize=15)\n",
    "plt.title('Mean Absolute Percentage Error ($\\lambda$)', fontsize=15)\n",
    "ax.yaxis.set_major_formatter(mtick.PercentFormatter())\n",
    "###########################################################################################################################################################################\n",
    "\n",
    "plt.subplot(2, 2, 4)\n",
    "minerr = scores[scores['score_test'] == scores['score_test'].max()]\n",
    "minlim = linreg_score*0.995\n",
    "maxlim = minerr['score_test'].values*1.005\n",
    "\n",
    "ax = plt.gca()\n",
    "ax.plot(alphas, scores['score_test'].values, linewidth=5, color='red', label=\"Lasso regression\")\n",
    "ax.plot(alphas, [linreg_score]*len(alphas), linewidth=4,linestyle='--', color='blue', label='Linear regression')\n",
    "plt.vlines(x=minerr['alpha'].values, ymin=minlim, ymax=minerr['score_test'].values, linestyle=':', linewidth=4)\n",
    "plt.xlabel('$\\lambda$', fontsize=15)\n",
    "plt.xticks(list(plt.xticks()[0]) + list(minerr['alpha'].values), fontsize=15)\n",
    "plt.yticks(fontsize=15)\n",
    "plt.ylabel('Score', fontsize=15)\n",
    "plt.ylim(minlim, maxlim)\n",
    "plt.xlim(0, max(alphas))\n",
    "plt.legend(fontsize=15)\n",
    "plt.annotate('highest score', xy=(minerr['alpha'].values, minerr['score_test'].values), xytext=(minerr['alpha'].values*2, minerr['score_test'].values*0.99),\n",
    "             arrowprops=dict(facecolor='black', shrink=0.05), fontsize=15)\n",
    "plt.title('Regression score ($\\lambda$)', fontsize=15)\n",
    "\n",
    "plt.tight_layout()\n",
    "plt.close()"
   ]
  },
  {
   "cell_type": "code",
   "execution_count": 83,
   "metadata": {},
   "outputs": [],
   "source": [
    "errors = plt.figure(figsize=(15, 8))\n",
    "width = 0.2\n",
    "\n",
    "mae_ov = int(np.round(abs(y - y.mean()).mean(), 0))\n",
    "mape_ov = np.round((abs(y - y.mean())/y).mean(), 4)*100\n",
    "rmse_ov = int(np.round(np.sqrt(MSE(y, [y.mean()]*len(y))), 0))\n",
    "\n",
    "labels = ['guessing with overall mean', 'guessing with club-specific mean', 'linear regression', 'lasso regression']\n",
    "guess_ov = [mae_ov, rmse_ov, mape_ov]\n",
    "guess_club = [mae_club, rmse_club, mape_club]\n",
    "linear = [int(linreg_mae.round()), int(linreg_rmse.round()), np.round(linreg_mape, 2)]\n",
    "lasso = [int(np.round(scores.mae_test.min(),0)), int(np.round(scores.rmse_test.min(), 0)), np.round(scores.mape_test.min(), 2)]\n",
    "\n",
    "x1 = np.arange(len(guess_ov)-1)\n",
    "x2 = [x + width for x in x1]\n",
    "x3 = [x + width for x in x2]\n",
    "x4 = [x + width for x in x3]\n",
    "\n",
    "ax1 = errors.add_subplot(111)\n",
    "\n",
    "ax1.bar(x1, guess_ov[:2], color='#001640', width=width, edgecolor='white', label=labels[0])\n",
    "ax1.bar(x2, guess_club[:2], color='#0037a1', width=width, edgecolor='white', label=labels[1])\n",
    "ax1.bar(x3, linear[:2], color='#0057ff', width=width, edgecolor='white', label=labels[2])\n",
    "ax1.bar(x4, lasso[:2], color='#4584ff', width=width, edgecolor='white', label=labels[3])\n",
    "\n",
    "ax1.set_xlabel('Type of error', fontweight='bold', fontsize = 15)\n",
    "plt.xticks([x + width*1.5 for x in range(len(guess_ov))], ['MAE', 'RMSE', 'MAPE'], fontsize = 12)\n",
    "plt.yticks(fontsize=12)\n",
    "\n",
    "for ix, df in enumerate([guess_ov, guess_club, linear, lasso]):\n",
    "    ax1.annotate(str(df[0]), xy=(eval('x' + str(ix + 1))[0] - width/4, df[0]*1.01))\n",
    "    ax1.annotate(str(df[1]), xy=(eval('x' + str(ix + 1))[1] - width/4, df[1]*1.01))\n",
    "\n",
    "ax2 = ax1.twinx()\n",
    "x1 = x1[-1] + 1\n",
    "x2 = x2[-1] + 1\n",
    "x3 = x3[-1] + 1\n",
    "x4 = x4[-1] + 1\n",
    "\n",
    "ax2.bar(x1, guess_ov[-1], color='#001640', width=width, edgecolor='white', label=labels[0])\n",
    "ax2.bar(x2, guess_club[-1], color='#0037a1', width=width, edgecolor='white', label=labels[1])\n",
    "ax2.bar(x3, linear[-1], color='#0057ff', width=width, edgecolor='white', label=labels[2])\n",
    "ax2.bar(x4, lasso[-1], color='#4584ff', width=width, edgecolor='white', label=labels[3])\n",
    "\n",
    "ax2.yaxis.set_major_formatter(mtick.PercentFormatter())\n",
    "plt.yticks(fontsize=12)\n",
    "\n",
    "for ix, df in enumerate([guess_ov, guess_club, linear, lasso]):\n",
    "    ax2.annotate(str(df[-1]) + '%', xy=(eval('x' + str(ix + 1)) - width/4, df[-1]*1.01))\n",
    "    \n",
    "plt.title('Lowest achieved MAE, RMSE and MAPE values for guessing with overall mean,\\nguessing with club-specific mean, linear regr. and lasso regr.', fontsize=15)    \n",
    "plt.legend()\n",
    "plt.close()"
   ]
  },
  {
   "cell_type": "code",
   "execution_count": 84,
   "metadata": {},
   "outputs": [],
   "source": [
    "coeff_paths = plt.figure(figsize=(12, 8))\n",
    "ax = plt.gca()\n",
    "ax.plot(alphas, lasso_coefficients, linewidth=1)\n",
    "ax.set_xscale('log')\n",
    "plt.xlabel('$\\lambda$', fontsize=30)\n",
    "plt.xticks(fontsize=30)\n",
    "plt.yticks(fontsize=30)\n",
    "plt.ylabel('coeff value', fontsize=30)\n",
    "plt.title('Lasso coefficients paths', fontsize=30)\n",
    "plt.close()"
   ]
  },
  {
   "cell_type": "code",
   "execution_count": 85,
   "metadata": {},
   "outputs": [],
   "source": [
    "# Create helper dataFrame with coefficients corresponding to values of lambda that minimize RMSE and MAPE errors\n",
    "rmse_coeff_idx = scores.loc[scores['rmse_test'] == scores['rmse_test'].min(), 'alpha'].index.values[0]\n",
    "alpha_rmse = scores.loc[scores['rmse_test'] == scores['rmse_test'].min(), 'alpha'].values[0].round(1)\n",
    "\n",
    "mape_coeff_idx = scores.loc[scores['mape_test'] == scores['mape_test'].min(), 'alpha'].index.values[0]\n",
    "alpha_mape = scores.loc[scores['mape_test'] == scores['mape_test'].min(), 'alpha'].values[0].round(1)\n",
    "\n",
    "coeffs = pd.DataFrame({'feature': X.columns, 'coeff_rmse': lasso_coefficients[rmse_coeff_idx], 'coeff_mape': lasso_coefficients[mape_coeff_idx]})"
   ]
  },
  {
   "cell_type": "code",
   "execution_count": 86,
   "metadata": {},
   "outputs": [],
   "source": [
    "# Create helper function that subsets the dataframe for particular plot\n",
    "def prepare_df(startsWith):\n",
    "    global df\n",
    "    global total\n",
    "    global zeroed_no\n",
    "    global zeroed_pc\n",
    "    \n",
    "    df = coeffs[coeffs['feature'].str.startswith(startsWith)].sort_values('coeff_rmse', ascending=False)\n",
    "    df = df.round()\n",
    "    df[['coeff_rmse', 'coeff_mape']] = df[['coeff_rmse', 'coeff_mape']].astype('int')\n",
    "    df = df.sort_values('coeff_mape')\n",
    "    \n",
    "    total = len(df[df.coeff_rmse != 0])\n",
    "    zeroed_no = len(df[(df.coeff_rmse != 0) & (df.coeff_mape == 0)])\n",
    "    zeroed_pc = np.round((total - zeroed_no)/total*100, 2)"
   ]
  },
  {
   "cell_type": "code",
   "execution_count": 87,
   "metadata": {},
   "outputs": [],
   "source": [
    "coeff_club = plt.figure(figsize=(20, 8))\n",
    "height = 0.25\n",
    "labels = ['coeffs minimizing RMSE ($\\lambda$ = {})'.format(alpha_rmse), 'coeffs minimizing MAPE ($\\lambda$ = {})'.format(alpha_mape)]\n",
    "\n",
    "prepare_df('away')\n",
    "rmse = df.coeff_rmse.values\n",
    "mape = df.coeff_mape.values\n",
    "\n",
    "y1 = np.arange(len(rmse))\n",
    "y2 = [y + height for y in y1]\n",
    "\n",
    "ax = coeff_club.add_subplot(121)\n",
    "ax.barh(y1, rmse, color='#00751a', height=height, edgecolor='white', label=labels[0])\n",
    "ax.barh(y2, mape, color='#00ab26', height=height, edgecolor='white', label=labels[1])\n",
    "\n",
    "ax.set_xlabel('coefficient', fontweight='bold')\n",
    "ax.set_ylabel('Club', fontweight='bold')\n",
    "plt.yticks([y + height for y in range(len(rmse))], df.feature.str.lstrip('away_team_').values)\n",
    "xticks = ax.get_xticks()\n",
    "yticks = ax.get_yticks()\n",
    "for x in xticks:\n",
    "    ax.vlines(x, ymin=min(yticks), ymax=max(yticks), linestyle=':', linewidth=1)\n",
    "plt.title(r'Coefficient values for $\\bf{AWAY}$ teams for different lambdas')\n",
    "ax.legend(prop={'size': 12})\n",
    "\n",
    "props = dict(boxstyle='round', facecolor='wheat', alpha=0.5)\n",
    "ax.text(0.5, 0.3, 'NOTE: \\nThere are {} non-zero coeffs for $\\lambda$ = {} \\n' \\\n",
    "                   'There are {} non-zero coeffs for $\\lambda$ = {} \\n' \\\n",
    "                   '{}% of coeffs has been zeroed with higher $\\lambda$'.format(total, alpha_rmse, zeroed_no, alpha_mape, zeroed_pc), transform=ax.transAxes, fontsize=11,\n",
    "        verticalalignment='top', bbox=props)\n",
    "#######################################################################################################################################################################################\n",
    "\n",
    "prepare_df('home')\n",
    "rmse = df.coeff_rmse.values\n",
    "mape = df.coeff_mape.values\n",
    "\n",
    "y1 = np.arange(len(rmse))\n",
    "y2 = [y + height for y in y1]\n",
    "\n",
    "ax = coeff_club.add_subplot(122)\n",
    "ax.barh(y1, rmse, color='#00751a', height=height, edgecolor='white', label=labels[0])\n",
    "ax.barh(y2, mape, color='#00ab26', height=height, edgecolor='white', label=labels[1])\n",
    "\n",
    "ax.set_xlabel('coefficient', fontweight='bold')\n",
    "ax.set_ylabel('Club', fontweight='bold')\n",
    "plt.yticks([y + height for y in range(len(rmse))], df.feature.str.lstrip('home_team_').values)\n",
    "xticks = ax.get_xticks()\n",
    "yticks = ax.get_yticks()\n",
    "for x in xticks:\n",
    "    ax.vlines(x, ymin=min(yticks), ymax=max(yticks), linestyle=':', linewidth=1)\n",
    "plt.title(r'Coefficient values for $\\bf{HOME}$ teams for different lambdas')\n",
    "ax.legend(prop={'size': 12})\n",
    "\n",
    "props = dict(boxstyle='round', facecolor='wheat', alpha=0.5)\n",
    "ax.text(0.05, 0.7, 'NOTE: \\nThere are {} non-zero coeffs for $\\lambda$ = {} \\n' \\\n",
    "                   'There are {} non-zero coeffs for $\\lambda$ = {} \\n' \\\n",
    "                   '{}% of coeffs has been zeroed with higher $\\lambda$'.format(total, alpha_rmse, zeroed_no, alpha_mape, zeroed_pc),\n",
    "        transform=ax.transAxes, fontsize=11, verticalalignment='top', bbox=props)\n",
    "\n",
    "plt.tight_layout()\n",
    "plt.close()"
   ]
  },
  {
   "cell_type": "code",
   "execution_count": 103,
   "metadata": {
    "scrolled": false
   },
   "outputs": [],
   "source": [
    "coeff_date = plt.figure(figsize=(20, 8))\n",
    "\n",
    "height = 0.25 \n",
    "labels = ['coeffs minimizing RMSE ($\\lambda$ = {})'.format(alpha_rmse), 'coeffs minimizing MAPE ($\\lambda$ = {})'.format(alpha_mape)]\n",
    "\n",
    "prepare_df('month')\n",
    "df.feature = df.feature.str.lstrip('month_').astype('int')\n",
    "df = df.sort_values('feature', ascending=False)\n",
    "df.feature = df.feature.apply(lambda x: 'month_' + str(x))\n",
    "\n",
    "rmse = df.coeff_rmse.values\n",
    "mape = df.coeff_mape.values\n",
    "\n",
    "y1 = np.arange(len(rmse))\n",
    "y2 = [y + height for y in y1]\n",
    "\n",
    "ax = coeff_date.add_subplot(121)\n",
    "ax.barh(y1, rmse, color='#00751a', height=height, edgecolor='white', label=labels[0])\n",
    "ax.barh(y2, mape, color='#00ab26', height=height, edgecolor='white', label=labels[1])\n",
    "\n",
    "ax.set_xlabel('coefficient', fontweight='bold')\n",
    "ax.set_ylabel('Month', fontweight='bold')\n",
    "plt.yticks([y + height for y in range(len(rmse))], df.feature.values)\n",
    "xticks = ax.get_xticks()\n",
    "yticks = ax.get_yticks()\n",
    "for x in xticks:\n",
    "    ax.vlines(x, ymin=min(yticks), ymax=max(yticks), linestyle=':', linewidth=1)\n",
    "plt.title(r'Coefficient values for $\\bf{MONTHs}$ for different lambdas')\n",
    "ax.legend(prop={'size': 12})\n",
    "########################################################################################################################################\n",
    "\n",
    "prepare_df('weekday')\n",
    "df.feature = df.feature.str.lstrip('weekday_')\n",
    "order = ['Monday', 'Tuesday', 'Wednesday', 'Thursday', 'Friday', 'Saturday', 'Sunday'][::-1]\n",
    "df['feature'] = pd.Categorical(df['feature'], order)\n",
    "df = df.sort_values('feature')\n",
    "\n",
    "rmse = df.coeff_rmse.values\n",
    "mape = df.coeff_mape.values\n",
    "\n",
    "y1 = np.arange(len(rmse))\n",
    "y2 = [y + height for y in y1]\n",
    "\n",
    "ax = coeff_date.add_subplot(122)\n",
    "ax.barh(y1, rmse, color='#00751a', height=height, edgecolor='white', label=labels[0])\n",
    "ax.barh(y2, mape, color='#00ab26', height=height, edgecolor='white', label=labels[1])\n",
    "\n",
    "ax.set_xlabel('coefficient', fontweight='bold')\n",
    "ax.set_ylabel('Weekday', fontweight='bold')\n",
    "plt.yticks([y + height for y in range(len(rmse))], df.feature.values)\n",
    "xticks = ax.get_xticks()\n",
    "yticks = ax.get_yticks()\n",
    "for x in xticks:\n",
    "    ax.vlines(x, ymin=min(yticks), ymax=max(yticks), linestyle=':', linewidth=1)\n",
    "plt.title(r'Coefficient values for $\\bf{WEEKDAYs}$ for different lambdas')\n",
    "ax.legend(prop={'size': 12})\n",
    "\n",
    "plt.tight_layout()\n",
    "plt.close()"
   ]
  },
  {
   "cell_type": "code",
   "execution_count": 100,
   "metadata": {},
   "outputs": [],
   "source": [
    "coeff_weather = plt.figure(figsize=(20, 8))\n",
    "\n",
    "height = 0.25 \n",
    "labels = ['coeffs minimizing RMSE ($\\lambda$ = {})'.format(alpha_rmse), 'coeffs minimizing MAPE ($\\lambda$ = {})'.format(alpha_mape)]\n",
    "\n",
    "prepare_df('cloudcover')\n",
    "df1 = df[df.coeff_mape != 0].reset_index()\n",
    "prepare_df('precip')\n",
    "df2 = df[df.coeff_rmse != 0].reset_index()\n",
    "prepare_df('temp')\n",
    "df3 = df[df.coeff_mape != 0].reset_index()\n",
    "df = df1.append(df2).append(df3)\n",
    "\n",
    "rmse = df.coeff_rmse.values\n",
    "mape = df.coeff_mape.values\n",
    "\n",
    "y1 = np.arange(len(rmse))\n",
    "y2 = [y + height for y in y1]\n",
    "\n",
    "ax = coeff_weather.add_subplot(121)\n",
    "ax.barh(y1, rmse, color='#00751a', height=height, edgecolor='white', label=labels[0])\n",
    "ax.barh(y2, mape, color='#00ab26', height=height, edgecolor='white', label=labels[1])\n",
    "\n",
    "ax.set_xlabel('coefficient', fontweight='bold')\n",
    "ax.set_ylabel('feature', fontweight='bold')\n",
    "plt.yticks([y + height for y in range(len(rmse))], df.feature.values)\n",
    "xticks = ax.get_xticks()\n",
    "yticks = ax.get_yticks()\n",
    "for x in xticks:\n",
    "    ax.vlines(x, ymin=min(yticks), ymax=max(yticks), linestyle=':', linewidth=1)\n",
    "plt.title(r'Coefficient values for $\\bf{WEATHER}$ features for different lambdas')\n",
    "ax.legend(prop={'size': 12})\n",
    "##########################################################################################################\n",
    "\n",
    "prepare_df('gd')\n",
    "df1 = df[df.coeff_mape != 0]\n",
    "prepare_df('gs')\n",
    "df2 = df[df.coeff_mape != 0]\n",
    "prepare_df('pts')\n",
    "df3 = df.tail(2)\n",
    "df4 = coeffs[coeffs.feature == 'goal_diff']\n",
    "df = df1.append(df2).append(df3).append(df4)\n",
    "\n",
    "rmse = df.coeff_rmse.values\n",
    "mape = df.coeff_mape.values\n",
    "\n",
    "y1 = np.arange(len(rmse))\n",
    "y2 = [y + height for y in y1]\n",
    "\n",
    "ax = coeff_weather.add_subplot(122)\n",
    "ax.barh(y1, rmse, color='#00751a', height=height, edgecolor='white', label=labels[0])\n",
    "ax.barh(y2, mape, color='#00ab26', height=height, edgecolor='white', label=labels[1])\n",
    "\n",
    "ax.set_xlabel('coefficient', fontweight='bold')\n",
    "ax.set_ylabel('feature', fontweight='bold')\n",
    "plt.yticks([y + height for y in range(len(rmse))], df.feature.values)\n",
    "xticks = ax.get_xticks()\n",
    "yticks = ax.get_yticks()\n",
    "for x in xticks:\n",
    "    ax.vlines(x, ymin=min(yticks), ymax=max(yticks), linestyle=':', linewidth=1)\n",
    "plt.title(r'Coefficient values for $\\bf{PERFORMANCE}$ features for different lambdas')\n",
    "ax.legend(prop={'size': 12})\n",
    "\n",
    "plt.close()"
   ]
  },
  {
   "cell_type": "markdown",
   "metadata": {},
   "source": [
    "<br>\n",
    "\n",
    "## Analysis <a class=\"anchor\" id=\"res\"></a>\n",
    "\n",
    "Below you can find 4 plots, one for each of the considered errors, i.e. **MAE** - *mean absolute error*, **RMSE** - *root mean squared error* and **MAPE** - *mean absolute percentage error*, as well as one displaying the regression **R^2 score**. Each graph compares the values obtained through both linear regression and Lasso regression with given **$\\lambda$** value. As you can see, the decision on the optimal value of **$\\lambda$** parameter depends on which metric is considered most adequate. "
   ]
  },
  {
   "cell_type": "code",
   "execution_count": 90,
   "metadata": {},
   "outputs": [
    {
     "data": {
      "image/png": "[encoded data removed]",
      "text/plain": [
       "<Figure size 1152x864 with 4 Axes>"
      ]
     },
     "execution_count": 90,
     "metadata": {},
     "output_type": "execute_result"
    }
   ],
   "source": [
    "comparison"
   ]
  },
  {
   "cell_type": "markdown",
   "metadata": {},
   "source": [
    "\n",
    "<br>\n",
    "\n",
    "Next plot presents lowest achieved values of the three aforementioned errors for both **linear and Lasso regression**. To assess the performance of created models, some **reference** is needed. For that reason, the errors have been calculated also for two hypothetical scenarios. In first one we simply guess the attendance with the **overall mean** derived from whole dataset. Second one, slightly more sophisticated, uses **club-specific means** for prediction. As shown, applying second method already provides significant improvement. However, Lasso regressiom performs even better. Considering the error I find most suitable for this project, that is **MAPE**, Lasso resulted in **over 17 pp. (~ 33%) reduction** of that error's value.\n",
    "<br>\n",
    "<br>"
   ]
  },
  {
   "cell_type": "code",
   "execution_count": 91,
   "metadata": {},
   "outputs": [
    {
     "data": {
      "image/png": "[encoded data removed]",
      "text/plain": [
       "<Figure size 1080x576 with 2 Axes>"
      ]
     },
     "execution_count": 91,
     "metadata": {},
     "output_type": "execute_result"
    }
   ],
   "source": [
    "errors"
   ]
  },
  {
   "cell_type": "markdown",
   "metadata": {},
   "source": [
    "\n",
    "<br>\n",
    "\n",
    "When making use of **shrinkage methods**, that Lasso regression belongs to, it is worth to present the coefficient paths, i.e. how they get pushed more and more towards 0 with higher **$\\lambda$** values. In this project, however, this type of plot is practically useless due to the **number of features - 139**. Therefore, we'll find a workaround.\n",
    "<br>\n",
    "<br>"
   ]
  },
  {
   "cell_type": "code",
   "execution_count": 92,
   "metadata": {},
   "outputs": [
    {
     "data": {
      "image/png": "[encoded data removed]",
      "text/plain": [
       "<Figure size 864x576 with 1 Axes>"
      ]
     },
     "execution_count": 92,
     "metadata": {},
     "output_type": "execute_result"
    }
   ],
   "source": [
    "coeff_paths"
   ]
  },
  {
   "cell_type": "markdown",
   "metadata": {},
   "source": [
    "\n",
    "<br>\n",
    "Below, there is a series of plots showing most of the coefficients. For comparison purposes, their two values are presented, each coming from different model:\n",
    "\n",
    "* the one that minimizes **RMSE** with $\\lambda$ equal to **2.7**\n",
    "* the one that minimizes **MAPE** with $\\lambda$ equal to **19.1**\n",
    "\n",
    "In result, we can observe how do coefficients behave, when increasing $\\lambda$ from 2.7 to 19.1.\n",
    "\n",
    "There are three clubs that strongly attract the audience, when they play as an away team. This fits in with the fact, that *Legia Warszawa*, *Lech Poznań* and *Wisła Kraków* are ones of the biggest and most popular polish football clubs. Playing against them is a big event for the majority of the rest of the league.\n",
    "\n",
    "<br>"
   ]
  },
  {
   "cell_type": "code",
   "execution_count": 93,
   "metadata": {},
   "outputs": [
    {
     "data": {
      "image/png": "[encoded data removed]",
      "text/plain": [
       "<Figure size 1440x576 with 2 Axes>"
      ]
     },
     "execution_count": 93,
     "metadata": {},
     "output_type": "execute_result"
    }
   ],
   "source": [
    "coeff_club"
   ]
  },
  {
   "cell_type": "markdown",
   "metadata": {},
   "source": [
    "\n",
    "<br>\n",
    "\n",
    "Next pair of plots presents the **date** related coeffcients. Spring seems to be a time during a year, when people are more prone to visiting stadiums. Not surprisingly, summer holidays' months have negative coefficients, as well as the winter months. \n",
    "\n",
    "Sunday is the day of the week, we should expect highest attendance on. Two other days of the weekend have also a positive impact, while working days - negative.\n",
    "<br>"
   ]
  },
  {
   "cell_type": "code",
   "execution_count": 104,
   "metadata": {
    "scrolled": false
   },
   "outputs": [
    {
     "data": {
      "image/png": "[encoded data removed]",
      "text/plain": [
       "<Figure size 1440x576 with 2 Axes>"
      ]
     },
     "execution_count": 104,
     "metadata": {},
     "output_type": "execute_result"
    }
   ],
   "source": [
    "coeff_date"
   ]
  },
  {
   "cell_type": "markdown",
   "metadata": {},
   "source": [
    "\n",
    "<br>\n",
    "\n",
    "In terms of **weather**, the only highly relevant feature turns out to be average temperature during 12 hours prior to the match. The warmer - the better. To some extent, sky cloudcover lowers the number of attendees, while the precipitation has no influence at all.\n",
    "\n",
    "Considering teams' past **performance** there are some strong incentives, that make more people attend the matches. The strongest one is the difference between goals scored and goals conceded during whole season. Highly important are the numbers of points gained in last 7 and 5 matches. Of lower influence are the features showing goals scored and the goal difference.\n",
    "<br>"
   ]
  },
  {
   "cell_type": "code",
   "execution_count": 101,
   "metadata": {},
   "outputs": [
    {
     "data": {
      "image/png": "[encoded data removed]",
      "text/plain": [
       "<Figure size 1440x576 with 2 Axes>"
      ]
     },
     "execution_count": 101,
     "metadata": {},
     "output_type": "execute_result"
    }
   ],
   "source": [
    "coeff_weather"
   ]
  }
 ],
 "metadata": {
  "kernelspec": {
   "display_name": "Python 3",
   "language": "python",
   "name": "python3"
  },
  "language_info": {
   "codemirror_mode": {
    "name": "ipython",
    "version": 3
   },
   "file_extension": ".py",
   "mimetype": "text/x-python",
   "name": "python",
   "nbconvert_exporter": "python",
   "pygments_lexer": "ipython3",
   "version": "3.7.9"
  },
  "widgets": {
   "application/vnd.jupyter.widget-state+json": {
    "state": {
     "0056c65a8c894963bd1830e2fee60d72": {
      "model_module": "@jupyter-widgets/controls",
      "model_module_version": "1.5.0",
      "model_name": "DescriptionStyleModel",
      "state": {
       "description_width": ""
      }
     },
     "06b99ce4e6af473e9bbf2052dfbdcb51": {
      "model_module": "@jupyter-widgets/controls",
      "model_module_version": "1.5.0",
      "model_name": "HBoxModel",
      "state": {
       "children": [
        "IPY_MODEL_7f6bac5ccc7546ada685e597b7dd82f3",
        "IPY_MODEL_9e2ad57710114871826b799f9962796f"
       ],
       "layout": "IPY_MODEL_8ec7ed418c8e4537a56b4edc819651ab"
      }
     },
     "0826a28875f843e1b304c934192122e6": {
      "model_module": "@jupyter-widgets/controls",
      "model_module_version": "1.5.0",
      "model_name": "HBoxModel",
      "state": {
       "children": [
        "IPY_MODEL_2bd7a4cd0ec54805a1f49618efa74bf0",
        "IPY_MODEL_b492cfaad1ed4972b1777a6dceb2896a"
       ],
       "layout": "IPY_MODEL_93792c0d526a47288aa119d0d3fbd0e5"
      }
     },
     "0ad2990938844d38b8079e50bcd4ec19": {
      "model_module": "@jupyter-widgets/base",
      "model_module_version": "1.2.0",
      "model_name": "LayoutModel",
      "state": {}
     },
     "0b58086386794daeae14da3ba2a07c99": {
      "model_module": "@jupyter-widgets/controls",
      "model_module_version": "1.5.0",
      "model_name": "HBoxModel",
      "state": {
       "children": [
        "IPY_MODEL_c16e765a121340258d8873eab906cd64",
        "IPY_MODEL_f533bbca20d94e8aa88d49f1784835e1"
       ],
       "layout": "IPY_MODEL_6cffa0ef331d437f8870d31f70a3d9c2"
      }
     },
     "0cfc3b994d964736825f4f214c459afc": {
      "model_module": "@jupyter-widgets/base",
      "model_module_version": "1.2.0",
      "model_name": "LayoutModel",
      "state": {}
     },
     "0dc16a3bef32401e9f41829b8683d5dd": {
      "model_module": "@jupyter-widgets/base",
      "model_module_version": "1.2.0",
      "model_name": "LayoutModel",
      "state": {}
     },
     "0fa8a9907b2d480b8a3b385db26a8d9d": {
      "model_module": "@jupyter-widgets/base",
      "model_module_version": "1.2.0",
      "model_name": "LayoutModel",
      "state": {}
     },
     "117299d82b184d909d114fc1fac98cfe": {
      "model_module": "@jupyter-widgets/controls",
      "model_module_version": "1.5.0",
      "model_name": "FloatProgressModel",
      "state": {
       "bar_style": "success",
       "description": "100%",
       "layout": "IPY_MODEL_b3122ec81a084595bc3cb5c4dc2b019a",
       "max": 7,
       "style": "IPY_MODEL_daea3c87be694714b14ce4547a709e67",
       "value": 7
      }
     },
     "19a28fa3a31a4d5fbf46dc5244b84319": {
      "model_module": "@jupyter-widgets/base",
      "model_module_version": "1.2.0",
      "model_name": "LayoutModel",
      "state": {}
     },
     "1a3ab41b059a4e04840ddad210a7e011": {
      "model_module": "@jupyter-widgets/controls",
      "model_module_version": "1.5.0",
      "model_name": "HBoxModel",
      "state": {
       "children": [
        "IPY_MODEL_5ff7e03b8b1a484c95f49150d096af0b",
        "IPY_MODEL_3cf39ea7bf3b43818ad7be7e7d4105e7"
       ],
       "layout": "IPY_MODEL_f6129aeee05045bdb7e2c6d1c58f0ec8"
      }
     },
     "2118f854c4e54488a0d2f9ac22396188": {
      "model_module": "@jupyter-widgets/controls",
      "model_module_version": "1.5.0",
      "model_name": "HTMLModel",
      "state": {
       "layout": "IPY_MODEL_8b31e117f6e348d2bc9130fd74515303",
       "style": "IPY_MODEL_61c286ab44174ed2955e15201e3d275a",
       "value": " 37/37 [00:23&lt;00:00,  1.56it/s]"
      }
     },
     "22f595e3a18f480b9495fccec9b13bd9": {
      "model_module": "@jupyter-widgets/controls",
      "model_module_version": "1.5.0",
      "model_name": "FloatProgressModel",
      "state": {
       "bar_style": "success",
       "description": "100%",
       "layout": "IPY_MODEL_b93a1870c22c4d989c63667d68b0d2d3",
       "max": 7,
       "style": "IPY_MODEL_d4481ed918f44f729096c3eb17c6d7a5",
       "value": 7
      }
     },
     "2386a7ea49be4a8eae328ebb9d783921": {
      "model_module": "@jupyter-widgets/controls",
      "model_module_version": "1.5.0",
      "model_name": "HBoxModel",
      "state": {
       "children": [
        "IPY_MODEL_4d32e77b17814731a762f3aa07bacbab",
        "IPY_MODEL_9f21041571c046f393fc56b028eab786"
       ],
       "layout": "IPY_MODEL_9114884249354f67929a9be77bf70ae5"
      }
     },
     "260f4bbd699840cc9cc7bdd2d80f7c9b": {
      "model_module": "@jupyter-widgets/controls",
      "model_module_version": "1.5.0",
      "model_name": "DescriptionStyleModel",
      "state": {
       "description_width": ""
      }
     },
     "2810785a6cce4193a6b8a929fe700656": {
      "model_module": "@jupyter-widgets/controls",
      "model_module_version": "1.5.0",
      "model_name": "HTMLModel",
      "state": {
       "layout": "IPY_MODEL_ce702353cbd94c2dbc85da38663741a9",
       "style": "IPY_MODEL_4264c17ce2fb4a3393b42e468644f806",
       "value": " 7/7 [00:35&lt;00:00,  5.07s/it]"
      }
     },
     "2b2cf9c423da442d83c7ec486124866a": {
      "model_module": "@jupyter-widgets/base",
      "model_module_version": "1.2.0",
      "model_name": "LayoutModel",
      "state": {}
     },
     "2bd7a4cd0ec54805a1f49618efa74bf0": {
      "model_module": "@jupyter-widgets/controls",
      "model_module_version": "1.5.0",
      "model_name": "FloatProgressModel",
      "state": {
       "bar_style": "success",
       "description": "100%",
       "layout": "IPY_MODEL_f9794d3370f240b49e508b68a8546d92",
       "max": 37,
       "style": "IPY_MODEL_5e6fb198bc9e4faebea7d6c96f24a378",
       "value": 37
      }
     },
     "305c6745924142d283e1cc4f57f43404": {
      "model_module": "@jupyter-widgets/base",
      "model_module_version": "1.2.0",
      "model_name": "LayoutModel",
      "state": {}
     },
     "3959034f96e64618ae58b1ed83c6883c": {
      "model_module": "@jupyter-widgets/controls",
      "model_module_version": "1.5.0",
      "model_name": "HBoxModel",
      "state": {
       "children": [
        "IPY_MODEL_6efbc02ec8aa4236ac606808f40c3a82",
        "IPY_MODEL_a3feccced8184e3bbc5ef3fadf7bd455"
       ],
       "layout": "IPY_MODEL_0cfc3b994d964736825f4f214c459afc"
      }
     },
     "3a8829e583764e42850e6032e75391f6": {
      "model_module": "@jupyter-widgets/controls",
      "model_module_version": "1.5.0",
      "model_name": "ProgressStyleModel",
      "state": {
       "description_width": "initial"
      }
     },
     "3c677f55e7444c4fa1c3030bc3c1821d": {
      "model_module": "@jupyter-widgets/base",
      "model_module_version": "1.2.0",
      "model_name": "LayoutModel",
      "state": {}
     },
     "3cd64ecb5117480bbc7a8989d231ed8f": {
      "model_module": "@jupyter-widgets/base",
      "model_module_version": "1.2.0",
      "model_name": "LayoutModel",
      "state": {}
     },
     "3cf39ea7bf3b43818ad7be7e7d4105e7": {
      "model_module": "@jupyter-widgets/controls",
      "model_module_version": "1.5.0",
      "model_name": "HTMLModel",
      "state": {
       "layout": "IPY_MODEL_3e36226f1aa546738095fc8dc7a7d508",
       "style": "IPY_MODEL_7e2bd24591584550a769be9a248c4c02",
       "value": " 7/7 [02:40&lt;00:00, 22.95s/it]"
      }
     },
     "3d6010955c1a48f3afca9735d253318b": {
      "model_module": "@jupyter-widgets/controls",
      "model_module_version": "1.5.0",
      "model_name": "ProgressStyleModel",
      "state": {
       "description_width": "initial"
      }
     },
     "3e36226f1aa546738095fc8dc7a7d508": {
      "model_module": "@jupyter-widgets/base",
      "model_module_version": "1.2.0",
      "model_name": "LayoutModel",
      "state": {}
     },
     "4025293508d241fdac8b05ec996b5e71": {
      "model_module": "@jupyter-widgets/controls",
      "model_module_version": "1.5.0",
      "model_name": "ProgressStyleModel",
      "state": {
       "description_width": "initial"
      }
     },
     "40664dca1c8f497187821749827b9f56": {
      "model_module": "@jupyter-widgets/controls",
      "model_module_version": "1.5.0",
      "model_name": "FloatProgressModel",
      "state": {
       "bar_style": "success",
       "description": "100%",
       "layout": "IPY_MODEL_a63bf46cdf404e18bc5d33acf870f107",
       "max": 37,
       "style": "IPY_MODEL_8d6f82fb2ab643b396a33f09c2bc37b7",
       "value": 37
      }
     },
     "421df1faf1ee421f99cedcabab93d8ab": {
      "model_module": "@jupyter-widgets/controls",
      "model_module_version": "1.5.0",
      "model_name": "ProgressStyleModel",
      "state": {
       "description_width": "initial"
      }
     },
     "4264c17ce2fb4a3393b42e468644f806": {
      "model_module": "@jupyter-widgets/controls",
      "model_module_version": "1.5.0",
      "model_name": "DescriptionStyleModel",
      "state": {
       "description_width": ""
      }
     },
     "426ce67df39f4fa78f59f7171ea1c8e0": {
      "model_module": "@jupyter-widgets/base",
      "model_module_version": "1.2.0",
      "model_name": "LayoutModel",
      "state": {}
     },
     "452e15e9b44b4e7093db17c91ec88b4e": {
      "model_module": "@jupyter-widgets/base",
      "model_module_version": "1.2.0",
      "model_name": "LayoutModel",
      "state": {}
     },
     "4792ec2eefa64970a9b79d6170a33425": {
      "model_module": "@jupyter-widgets/base",
      "model_module_version": "1.2.0",
      "model_name": "LayoutModel",
      "state": {}
     },
     "4b74db23af1d46a69f9215c0f2ea8c42": {
      "model_module": "@jupyter-widgets/base",
      "model_module_version": "1.2.0",
      "model_name": "LayoutModel",
      "state": {}
     },
     "4c3e732cbbb14cb2934599e30da1c574": {
      "model_module": "@jupyter-widgets/base",
      "model_module_version": "1.2.0",
      "model_name": "LayoutModel",
      "state": {}
     },
     "4d32e77b17814731a762f3aa07bacbab": {
      "model_module": "@jupyter-widgets/controls",
      "model_module_version": "1.5.0",
      "model_name": "FloatProgressModel",
      "state": {
       "bar_style": "danger",
       "description": "  8%",
       "layout": "IPY_MODEL_e6d4f4291db6489e961e2e5fd3bc47fb",
       "max": 37,
       "style": "IPY_MODEL_4025293508d241fdac8b05ec996b5e71",
       "value": 3
      }
     },
     "4d94eea16d0347829cef966814d6c632": {
      "model_module": "@jupyter-widgets/base",
      "model_module_version": "1.2.0",
      "model_name": "LayoutModel",
      "state": {}
     },
     "505cd99dca7c45a0bf5c5c5934eb9405": {
      "model_module": "@jupyter-widgets/controls",
      "model_module_version": "1.5.0",
      "model_name": "FloatProgressModel",
      "state": {
       "bar_style": "success",
       "description": "100%",
       "layout": "IPY_MODEL_0fa8a9907b2d480b8a3b385db26a8d9d",
       "max": 37,
       "style": "IPY_MODEL_520252dc8f394aa198e26eebafb3373d",
       "value": 37
      }
     },
     "520252dc8f394aa198e26eebafb3373d": {
      "model_module": "@jupyter-widgets/controls",
      "model_module_version": "1.5.0",
      "model_name": "ProgressStyleModel",
      "state": {
       "description_width": "initial"
      }
     },
     "53201e60b862463ca3ce5e75912e6447": {
      "model_module": "@jupyter-widgets/controls",
      "model_module_version": "1.5.0",
      "model_name": "FloatProgressModel",
      "state": {
       "bar_style": "success",
       "description": "100%",
       "layout": "IPY_MODEL_305c6745924142d283e1cc4f57f43404",
       "max": 37,
       "style": "IPY_MODEL_a06abee76327427da658f8699ceb1199",
       "value": 37
      }
     },
     "5b02b162761c446eac40d955bbb8bf83": {
      "model_module": "@jupyter-widgets/controls",
      "model_module_version": "1.5.0",
      "model_name": "ProgressStyleModel",
      "state": {
       "description_width": "initial"
      }
     },
     "5e6fb198bc9e4faebea7d6c96f24a378": {
      "model_module": "@jupyter-widgets/controls",
      "model_module_version": "1.5.0",
      "model_name": "ProgressStyleModel",
      "state": {
       "description_width": "initial"
      }
     },
     "5ff7e03b8b1a484c95f49150d096af0b": {
      "model_module": "@jupyter-widgets/controls",
      "model_module_version": "1.5.0",
      "model_name": "FloatProgressModel",
      "state": {
       "bar_style": "success",
       "description": "100%",
       "layout": "IPY_MODEL_d83590bfdc0b4cc4ade485b9eabdf3ba",
       "max": 7,
       "style": "IPY_MODEL_5b02b162761c446eac40d955bbb8bf83",
       "value": 7
      }
     },
     "61c286ab44174ed2955e15201e3d275a": {
      "model_module": "@jupyter-widgets/controls",
      "model_module_version": "1.5.0",
      "model_name": "DescriptionStyleModel",
      "state": {
       "description_width": ""
      }
     },
     "66d3c8d70f2e41c1969e1c7b07865db6": {
      "model_module": "@jupyter-widgets/controls",
      "model_module_version": "1.5.0",
      "model_name": "HBoxModel",
      "state": {
       "children": [
        "IPY_MODEL_40664dca1c8f497187821749827b9f56",
        "IPY_MODEL_2118f854c4e54488a0d2f9ac22396188"
       ],
       "layout": "IPY_MODEL_4792ec2eefa64970a9b79d6170a33425"
      }
     },
     "6859c0cdc840486a8e414b7cb00d569b": {
      "model_module": "@jupyter-widgets/base",
      "model_module_version": "1.2.0",
      "model_name": "LayoutModel",
      "state": {}
     },
     "6b88f29ef1604743b1ca1b7186d2d92c": {
      "model_module": "@jupyter-widgets/controls",
      "model_module_version": "1.5.0",
      "model_name": "FloatProgressModel",
      "state": {
       "bar_style": "danger",
       "description": "  0%",
       "layout": "IPY_MODEL_6e7931d557164fdd918e5222266cdac0",
       "max": 7,
       "style": "IPY_MODEL_a9354bc6c97a410ab2a37200931b57c9"
      }
     },
     "6b8fde2467d84a0483e5b865e652a8b1": {
      "model_module": "@jupyter-widgets/controls",
      "model_module_version": "1.5.0",
      "model_name": "DescriptionStyleModel",
      "state": {
       "description_width": ""
      }
     },
     "6cfe1988581d47eeadcd6b6d9585b40a": {
      "model_module": "@jupyter-widgets/controls",
      "model_module_version": "1.5.0",
      "model_name": "HTMLModel",
      "state": {
       "layout": "IPY_MODEL_ca50dd4d61f149a3b8c8530360c26507",
       "style": "IPY_MODEL_e6962ac23b6f456b994935c3104134f3",
       "value": " 37/37 [00:29&lt;00:00,  1.26it/s]"
      }
     },
     "6cffa0ef331d437f8870d31f70a3d9c2": {
      "model_module": "@jupyter-widgets/base",
      "model_module_version": "1.2.0",
      "model_name": "LayoutModel",
      "state": {}
     },
     "6e7931d557164fdd918e5222266cdac0": {
      "model_module": "@jupyter-widgets/base",
      "model_module_version": "1.2.0",
      "model_name": "LayoutModel",
      "state": {}
     },
     "6efbc02ec8aa4236ac606808f40c3a82": {
      "model_module": "@jupyter-widgets/controls",
      "model_module_version": "1.5.0",
      "model_name": "FloatProgressModel",
      "state": {
       "bar_style": "success",
       "description": "100%",
       "layout": "IPY_MODEL_19a28fa3a31a4d5fbf46dc5244b84319",
       "max": 11,
       "style": "IPY_MODEL_3a8829e583764e42850e6032e75391f6",
       "value": 11
      }
     },
     "77f06288de0744d3b0e5e28ff43160f0": {
      "model_module": "@jupyter-widgets/controls",
      "model_module_version": "1.5.0",
      "model_name": "DescriptionStyleModel",
      "state": {
       "description_width": ""
      }
     },
     "78f19a9baefc45a5b77c602d1758ca85": {
      "model_module": "@jupyter-widgets/controls",
      "model_module_version": "1.5.0",
      "model_name": "HBoxModel",
      "state": {
       "children": [
        "IPY_MODEL_117299d82b184d909d114fc1fac98cfe",
        "IPY_MODEL_bc71200a3f5047f097f77a7069ced33c"
       ],
       "layout": "IPY_MODEL_4d94eea16d0347829cef966814d6c632"
      }
     },
     "7e2bd24591584550a769be9a248c4c02": {
      "model_module": "@jupyter-widgets/controls",
      "model_module_version": "1.5.0",
      "model_name": "DescriptionStyleModel",
      "state": {
       "description_width": ""
      }
     },
     "7f6bac5ccc7546ada685e597b7dd82f3": {
      "model_module": "@jupyter-widgets/controls",
      "model_module_version": "1.5.0",
      "model_name": "FloatProgressModel",
      "state": {
       "bar_style": "success",
       "description": "100%",
       "layout": "IPY_MODEL_4b74db23af1d46a69f9215c0f2ea8c42",
       "max": 37,
       "style": "IPY_MODEL_3d6010955c1a48f3afca9735d253318b",
       "value": 37
      }
     },
     "847581564f534996b23a9a299645b37f": {
      "model_module": "@jupyter-widgets/controls",
      "model_module_version": "1.5.0",
      "model_name": "DescriptionStyleModel",
      "state": {
       "description_width": ""
      }
     },
     "8601fe9e50c640bd8d11bd10c5b710e9": {
      "model_module": "@jupyter-widgets/controls",
      "model_module_version": "1.5.0",
      "model_name": "DescriptionStyleModel",
      "state": {
       "description_width": ""
      }
     },
     "8775014b0fc940e2aa1a95cdbcfce738": {
      "model_module": "@jupyter-widgets/controls",
      "model_module_version": "1.5.0",
      "model_name": "DescriptionStyleModel",
      "state": {
       "description_width": ""
      }
     },
     "8b31e117f6e348d2bc9130fd74515303": {
      "model_module": "@jupyter-widgets/base",
      "model_module_version": "1.2.0",
      "model_name": "LayoutModel",
      "state": {}
     },
     "8d6f82fb2ab643b396a33f09c2bc37b7": {
      "model_module": "@jupyter-widgets/controls",
      "model_module_version": "1.5.0",
      "model_name": "ProgressStyleModel",
      "state": {
       "description_width": "initial"
      }
     },
     "8ec7ed418c8e4537a56b4edc819651ab": {
      "model_module": "@jupyter-widgets/base",
      "model_module_version": "1.2.0",
      "model_name": "LayoutModel",
      "state": {}
     },
     "9114884249354f67929a9be77bf70ae5": {
      "model_module": "@jupyter-widgets/base",
      "model_module_version": "1.2.0",
      "model_name": "LayoutModel",
      "state": {}
     },
     "93792c0d526a47288aa119d0d3fbd0e5": {
      "model_module": "@jupyter-widgets/base",
      "model_module_version": "1.2.0",
      "model_name": "LayoutModel",
      "state": {}
     },
     "99950f4e07a7460ba95a5a267888114f": {
      "model_module": "@jupyter-widgets/base",
      "model_module_version": "1.2.0",
      "model_name": "LayoutModel",
      "state": {}
     },
     "9e131f1db54c499084a277fea49cda17": {
      "model_module": "@jupyter-widgets/controls",
      "model_module_version": "1.5.0",
      "model_name": "DescriptionStyleModel",
      "state": {
       "description_width": ""
      }
     },
     "9e2ad57710114871826b799f9962796f": {
      "model_module": "@jupyter-widgets/controls",
      "model_module_version": "1.5.0",
      "model_name": "HTMLModel",
      "state": {
       "layout": "IPY_MODEL_ce5b09e7eae540c38d8fcc50bb3ed79f",
       "style": "IPY_MODEL_8601fe9e50c640bd8d11bd10c5b710e9",
       "value": " 37/37 [00:24&lt;00:00,  1.53it/s]"
      }
     },
     "9f21041571c046f393fc56b028eab786": {
      "model_module": "@jupyter-widgets/controls",
      "model_module_version": "1.5.0",
      "model_name": "HTMLModel",
      "state": {
       "layout": "IPY_MODEL_b8ca0d006a924c6ea32267b98e96140d",
       "style": "IPY_MODEL_8775014b0fc940e2aa1a95cdbcfce738",
       "value": " 3/37 [00:30&lt;05:40, 10.01s/it]"
      }
     },
     "9fe75fdc13004ababfdca78de5a6b1d8": {
      "model_module": "@jupyter-widgets/controls",
      "model_module_version": "1.5.0",
      "model_name": "HTMLModel",
      "state": {
       "layout": "IPY_MODEL_d06de32405ac45baaeb4637c8d3c8bad",
       "style": "IPY_MODEL_e326211db6014d37a242380d734a83f0",
       "value": " 37/37 [00:26&lt;00:00,  1.38it/s]"
      }
     },
     "a06abee76327427da658f8699ceb1199": {
      "model_module": "@jupyter-widgets/controls",
      "model_module_version": "1.5.0",
      "model_name": "ProgressStyleModel",
      "state": {
       "description_width": "initial"
      }
     },
     "a3feccced8184e3bbc5ef3fadf7bd455": {
      "model_module": "@jupyter-widgets/controls",
      "model_module_version": "1.5.0",
      "model_name": "HTMLModel",
      "state": {
       "layout": "IPY_MODEL_b63a877d18ec4c64833ba3343e05f782",
       "style": "IPY_MODEL_6b8fde2467d84a0483e5b865e652a8b1",
       "value": " 11/11 [26:06&lt;00:00, 142.45s/it]"
      }
     },
     "a5c8925afef84f5c97a857645dd24c35": {
      "model_module": "@jupyter-widgets/base",
      "model_module_version": "1.2.0",
      "model_name": "LayoutModel",
      "state": {}
     },
     "a63bf46cdf404e18bc5d33acf870f107": {
      "model_module": "@jupyter-widgets/base",
      "model_module_version": "1.2.0",
      "model_name": "LayoutModel",
      "state": {}
     },
     "a81b2a812b0047afa76999597bbd7277": {
      "model_module": "@jupyter-widgets/controls",
      "model_module_version": "1.5.0",
      "model_name": "HBoxModel",
      "state": {
       "children": [
        "IPY_MODEL_6b88f29ef1604743b1ca1b7186d2d92c",
        "IPY_MODEL_fd888e83a7e942e4bc1807acda744ad1"
       ],
       "layout": "IPY_MODEL_c0a78685859e4158a9ecf762f74c243c"
      }
     },
     "a9354bc6c97a410ab2a37200931b57c9": {
      "model_module": "@jupyter-widgets/controls",
      "model_module_version": "1.5.0",
      "model_name": "ProgressStyleModel",
      "state": {
       "description_width": "initial"
      }
     },
     "ab26f76938154b2a87c72aad6b159049": {
      "model_module": "@jupyter-widgets/controls",
      "model_module_version": "1.5.0",
      "model_name": "DescriptionStyleModel",
      "state": {
       "description_width": ""
      }
     },
     "b3122ec81a084595bc3cb5c4dc2b019a": {
      "model_module": "@jupyter-widgets/base",
      "model_module_version": "1.2.0",
      "model_name": "LayoutModel",
      "state": {}
     },
     "b411747569c44ac5a53dc0f2ecfbe0d1": {
      "model_module": "@jupyter-widgets/controls",
      "model_module_version": "1.5.0",
      "model_name": "ProgressStyleModel",
      "state": {
       "description_width": "initial"
      }
     },
     "b48ab6474e17434ba781da7785e62066": {
      "model_module": "@jupyter-widgets/base",
      "model_module_version": "1.2.0",
      "model_name": "LayoutModel",
      "state": {}
     },
     "b492cfaad1ed4972b1777a6dceb2896a": {
      "model_module": "@jupyter-widgets/controls",
      "model_module_version": "1.5.0",
      "model_name": "HTMLModel",
      "state": {
       "layout": "IPY_MODEL_4c3e732cbbb14cb2934599e30da1c574",
       "style": "IPY_MODEL_0056c65a8c894963bd1830e2fee60d72",
       "value": " 37/37 [00:29&lt;00:00,  1.25it/s]"
      }
     },
     "b63a877d18ec4c64833ba3343e05f782": {
      "model_module": "@jupyter-widgets/base",
      "model_module_version": "1.2.0",
      "model_name": "LayoutModel",
      "state": {}
     },
     "b820e7e9d5f44290bf06ca952c231e3d": {
      "model_module": "@jupyter-widgets/controls",
      "model_module_version": "1.5.0",
      "model_name": "HBoxModel",
      "state": {
       "children": [
        "IPY_MODEL_505cd99dca7c45a0bf5c5c5934eb9405",
        "IPY_MODEL_9fe75fdc13004ababfdca78de5a6b1d8"
       ],
       "layout": "IPY_MODEL_a5c8925afef84f5c97a857645dd24c35"
      }
     },
     "b8ca0d006a924c6ea32267b98e96140d": {
      "model_module": "@jupyter-widgets/base",
      "model_module_version": "1.2.0",
      "model_name": "LayoutModel",
      "state": {}
     },
     "b93a1870c22c4d989c63667d68b0d2d3": {
      "model_module": "@jupyter-widgets/base",
      "model_module_version": "1.2.0",
      "model_name": "LayoutModel",
      "state": {}
     },
     "bacbe95d70db4b8fb014f88f5a5b68c0": {
      "model_module": "@jupyter-widgets/base",
      "model_module_version": "1.2.0",
      "model_name": "LayoutModel",
      "state": {}
     },
     "bc71200a3f5047f097f77a7069ced33c": {
      "model_module": "@jupyter-widgets/controls",
      "model_module_version": "1.5.0",
      "model_name": "HTMLModel",
      "state": {
       "layout": "IPY_MODEL_426ce67df39f4fa78f59f7171ea1c8e0",
       "style": "IPY_MODEL_260f4bbd699840cc9cc7bdd2d80f7c9b",
       "value": " 7/7 [00:08&lt;00:00,  1.21s/it]"
      }
     },
     "be7278c312d9455faf649b754ae442fe": {
      "model_module": "@jupyter-widgets/controls",
      "model_module_version": "1.5.0",
      "model_name": "HBoxModel",
      "state": {
       "children": [
        "IPY_MODEL_f4afc46bf1b646298d49dd2e91a6c72c",
        "IPY_MODEL_ed8ec73eec3c41b4995b0a505aa3b619"
       ],
       "layout": "IPY_MODEL_0ad2990938844d38b8079e50bcd4ec19"
      }
     },
     "c0a78685859e4158a9ecf762f74c243c": {
      "model_module": "@jupyter-widgets/base",
      "model_module_version": "1.2.0",
      "model_name": "LayoutModel",
      "state": {}
     },
     "c16e765a121340258d8873eab906cd64": {
      "model_module": "@jupyter-widgets/controls",
      "model_module_version": "1.5.0",
      "model_name": "FloatProgressModel",
      "state": {
       "bar_style": "success",
       "description": "100%",
       "layout": "IPY_MODEL_452e15e9b44b4e7093db17c91ec88b4e",
       "max": 37,
       "style": "IPY_MODEL_b411747569c44ac5a53dc0f2ecfbe0d1",
       "value": 37
      }
     },
     "ca50dd4d61f149a3b8c8530360c26507": {
      "model_module": "@jupyter-widgets/base",
      "model_module_version": "1.2.0",
      "model_name": "LayoutModel",
      "state": {}
     },
     "ccbbeb0867754ef4913afcdbd36f7656": {
      "model_module": "@jupyter-widgets/controls",
      "model_module_version": "1.5.0",
      "model_name": "HTMLModel",
      "state": {
       "layout": "IPY_MODEL_2b2cf9c423da442d83c7ec486124866a",
       "style": "IPY_MODEL_9e131f1db54c499084a277fea49cda17",
       "value": " 37/37 [00:27&lt;00:00,  1.33it/s]"
      }
     },
     "ce5b09e7eae540c38d8fcc50bb3ed79f": {
      "model_module": "@jupyter-widgets/base",
      "model_module_version": "1.2.0",
      "model_name": "LayoutModel",
      "state": {}
     },
     "ce702353cbd94c2dbc85da38663741a9": {
      "model_module": "@jupyter-widgets/base",
      "model_module_version": "1.2.0",
      "model_name": "LayoutModel",
      "state": {}
     },
     "d06de32405ac45baaeb4637c8d3c8bad": {
      "model_module": "@jupyter-widgets/base",
      "model_module_version": "1.2.0",
      "model_name": "LayoutModel",
      "state": {}
     },
     "d224437e0c5b4c9ab65f9e0b13840071": {
      "model_module": "@jupyter-widgets/controls",
      "model_module_version": "1.5.0",
      "model_name": "FloatProgressModel",
      "state": {
       "bar_style": "success",
       "description": "100%",
       "layout": "IPY_MODEL_bacbe95d70db4b8fb014f88f5a5b68c0",
       "max": 37,
       "style": "IPY_MODEL_ecf6d5c7c74d46a59c5cedf0c998cff3",
       "value": 37
      }
     },
     "d4481ed918f44f729096c3eb17c6d7a5": {
      "model_module": "@jupyter-widgets/controls",
      "model_module_version": "1.5.0",
      "model_name": "ProgressStyleModel",
      "state": {
       "description_width": "initial"
      }
     },
     "d83590bfdc0b4cc4ade485b9eabdf3ba": {
      "model_module": "@jupyter-widgets/base",
      "model_module_version": "1.2.0",
      "model_name": "LayoutModel",
      "state": {}
     },
     "d8941179df004f0281e00f606a3a2ee1": {
      "model_module": "@jupyter-widgets/controls",
      "model_module_version": "1.5.0",
      "model_name": "HBoxModel",
      "state": {
       "children": [
        "IPY_MODEL_d224437e0c5b4c9ab65f9e0b13840071",
        "IPY_MODEL_ccbbeb0867754ef4913afcdbd36f7656"
       ],
       "layout": "IPY_MODEL_0dc16a3bef32401e9f41829b8683d5dd"
      }
     },
     "daea3c87be694714b14ce4547a709e67": {
      "model_module": "@jupyter-widgets/controls",
      "model_module_version": "1.5.0",
      "model_name": "ProgressStyleModel",
      "state": {
       "description_width": "initial"
      }
     },
     "de5d7d2b42d944ee85319bd111125565": {
      "model_module": "@jupyter-widgets/controls",
      "model_module_version": "1.5.0",
      "model_name": "HBoxModel",
      "state": {
       "children": [
        "IPY_MODEL_53201e60b862463ca3ce5e75912e6447",
        "IPY_MODEL_6cfe1988581d47eeadcd6b6d9585b40a"
       ],
       "layout": "IPY_MODEL_3cd64ecb5117480bbc7a8989d231ed8f"
      }
     },
     "e326211db6014d37a242380d734a83f0": {
      "model_module": "@jupyter-widgets/controls",
      "model_module_version": "1.5.0",
      "model_name": "DescriptionStyleModel",
      "state": {
       "description_width": ""
      }
     },
     "e6962ac23b6f456b994935c3104134f3": {
      "model_module": "@jupyter-widgets/controls",
      "model_module_version": "1.5.0",
      "model_name": "DescriptionStyleModel",
      "state": {
       "description_width": ""
      }
     },
     "e6d4f4291db6489e961e2e5fd3bc47fb": {
      "model_module": "@jupyter-widgets/base",
      "model_module_version": "1.2.0",
      "model_name": "LayoutModel",
      "state": {}
     },
     "ecf6d5c7c74d46a59c5cedf0c998cff3": {
      "model_module": "@jupyter-widgets/controls",
      "model_module_version": "1.5.0",
      "model_name": "ProgressStyleModel",
      "state": {
       "description_width": "initial"
      }
     },
     "ed8ec73eec3c41b4995b0a505aa3b619": {
      "model_module": "@jupyter-widgets/controls",
      "model_module_version": "1.5.0",
      "model_name": "HTMLModel",
      "state": {
       "layout": "IPY_MODEL_ffdb1d393aa949b58df156402c7f390a",
       "style": "IPY_MODEL_77f06288de0744d3b0e5e28ff43160f0",
       "value": " 7/7 [00:23&lt;00:00,  3.39s/it]"
      }
     },
     "ee4d210e7dbd4dc38a6750ea2cacdfe8": {
      "model_module": "@jupyter-widgets/controls",
      "model_module_version": "1.5.0",
      "model_name": "HBoxModel",
      "state": {
       "children": [
        "IPY_MODEL_22f595e3a18f480b9495fccec9b13bd9",
        "IPY_MODEL_2810785a6cce4193a6b8a929fe700656"
       ],
       "layout": "IPY_MODEL_b48ab6474e17434ba781da7785e62066"
      }
     },
     "f4afc46bf1b646298d49dd2e91a6c72c": {
      "model_module": "@jupyter-widgets/controls",
      "model_module_version": "1.5.0",
      "model_name": "FloatProgressModel",
      "state": {
       "bar_style": "success",
       "description": "100%",
       "layout": "IPY_MODEL_99950f4e07a7460ba95a5a267888114f",
       "max": 7,
       "style": "IPY_MODEL_421df1faf1ee421f99cedcabab93d8ab",
       "value": 7
      }
     },
     "f533bbca20d94e8aa88d49f1784835e1": {
      "model_module": "@jupyter-widgets/controls",
      "model_module_version": "1.5.0",
      "model_name": "HTMLModel",
      "state": {
       "layout": "IPY_MODEL_3c677f55e7444c4fa1c3030bc3c1821d",
       "style": "IPY_MODEL_847581564f534996b23a9a299645b37f",
       "value": " 37/37 [00:24&lt;00:00,  1.53it/s]"
      }
     },
     "f6129aeee05045bdb7e2c6d1c58f0ec8": {
      "model_module": "@jupyter-widgets/base",
      "model_module_version": "1.2.0",
      "model_name": "LayoutModel",
      "state": {}
     },
     "f9794d3370f240b49e508b68a8546d92": {
      "model_module": "@jupyter-widgets/base",
      "model_module_version": "1.2.0",
      "model_name": "LayoutModel",
      "state": {}
     },
     "fd888e83a7e942e4bc1807acda744ad1": {
      "model_module": "@jupyter-widgets/controls",
      "model_module_version": "1.5.0",
      "model_name": "HTMLModel",
      "state": {
       "layout": "IPY_MODEL_6859c0cdc840486a8e414b7cb00d569b",
       "style": "IPY_MODEL_ab26f76938154b2a87c72aad6b159049",
       "value": " 0/7 [00:30&lt;?, ?it/s]"
      }
     },
     "ffdb1d393aa949b58df156402c7f390a": {
      "model_module": "@jupyter-widgets/base",
      "model_module_version": "1.2.0",
      "model_name": "LayoutModel",
      "state": {}
     }
    },
    "version_major": 2,
    "version_minor": 0
   }
  }
 },
 "nbformat": 4,
 "nbformat_minor": 4
}
